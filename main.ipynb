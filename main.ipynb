{
  "nbformat": 4,
  "nbformat_minor": 0,
  "metadata": {
    "colab": {
      "name": "main.ipynb",
      "provenance": [],
      "collapsed_sections": [],
      "authorship_tag": "ABX9TyP4cIfp9bHp9AvmX81KuxD9",
      "include_colab_link": true
    },
    "kernelspec": {
      "name": "python3",
      "display_name": "Python 3"
    }
  },
  "cells": [
    {
      "cell_type": "markdown",
      "metadata": {
        "id": "view-in-github",
        "colab_type": "text"
      },
      "source": [
        "<a href=\"https://colab.research.google.com/github/Khaled-Abdelhamid/Death-Big-data-Analytics/blob/Ahmed/main.ipynb\" target=\"_parent\"><img src=\"https://colab.research.google.com/assets/colab-badge.svg\" alt=\"Open In Colab\"/></a>"
      ]
    },
    {
      "cell_type": "markdown",
      "metadata": {
        "id": "afJj58JD6JcX"
      },
      "source": [
        "# Mounting Drive and setting up the environment"
      ]
    },
    {
      "cell_type": "code",
      "metadata": {
        "colab": {
          "base_uri": "https://localhost:8080/"
        },
        "id": "U3d7wkk3zXOF",
        "outputId": "3846e7ca-799c-4e84-e1f0-956b0d532d8a"
      },
      "source": [
        "from google.colab import drive\n",
        "drive.mount('/content/drive')"
      ],
      "execution_count": 2,
      "outputs": [
        {
          "output_type": "stream",
          "text": [
            "Mounted at /content/drive\n"
          ],
          "name": "stdout"
        }
      ]
    },
    {
      "cell_type": "code",
      "metadata": {
        "id": "hSqhMnwV1NUd"
      },
      "source": [
        "!apt-get install openjdk-8-jdk-headless -qq > /dev/null\n",
        "!wget -q https://downloads.apache.org/spark/spark-2.4.7/spark-2.4.7-bin-hadoop2.7.tgz\n",
        "!tar xf spark-2.4.7-bin-hadoop2.7.tgz\n",
        "!pip install -q findspark"
      ],
      "execution_count": 3,
      "outputs": []
    },
    {
      "cell_type": "code",
      "metadata": {
        "id": "gRj7AvqT1TNd"
      },
      "source": [
        "import os\n",
        "os.environ[\"JAVA_HOME\"] = \"/usr/lib/jvm/java-8-openjdk-amd64\"\n",
        "os.environ[\"SPARK_HOME\"] = \"/content/spark-2.4.7-bin-hadoop2.7\"\n",
        "# os.environ[\"SPARK_HOME\"] =\"/content/drive/MyDrive/Colab Notebooks/BigData/spark-2.4.7-bin-hadoop2.7\"\n"
      ],
      "execution_count": 4,
      "outputs": []
    },
    {
      "cell_type": "code",
      "metadata": {
        "id": "mv4o9i9bbdE8"
      },
      "source": [
        "import findspark\n",
        "findspark.init()\n",
        "from pyspark.sql import SparkSession\n",
        "spark = SparkSession.builder.master(\"local[*]\").getOrCreate()"
      ],
      "execution_count": 5,
      "outputs": []
    },
    {
      "cell_type": "code",
      "metadata": {
        "id": "PxJ2UguT0tY5"
      },
      "source": [
        "from pyspark.sql import functions as F\n",
        "from pyspark.sql.types import DoubleType, IntegerType, StringType\n",
        "\n",
        "import json"
      ],
      "execution_count": 6,
      "outputs": []
    },
    {
      "cell_type": "code",
      "metadata": {
        "_uuid": "8f2839f25d086af736a60e9eeb907d3b93b6e0e5",
        "_cell_guid": "b1076dfc-b9ad-4769-8c92-a6c4dae69d19",
        "trusted": true,
        "id": "80CEwdwx1_kA"
      },
      "source": [
        "import numpy as np \n",
        "import pandas as pd \n",
        "import time\n",
        "import json\n",
        "import gc\n",
        "import xgboost as xgb \n",
        "from sklearn.model_selection import GridSearchCV\n",
        "import matplotlib.pyplot as plt"
      ],
      "execution_count": null,
      "outputs": []
    },
    {
      "cell_type": "markdown",
      "metadata": {
        "id": "MgeMOX8a6ate"
      },
      "source": [
        "# Data loading and exploration"
      ]
    },
    {
      "cell_type": "code",
      "metadata": {
        "id": "DUx9EmHCCv3S"
      },
      "source": [
        "start = time.time()\n",
        "data_path=\"/content/drive/MyDrive/Colab Notebooks/BigData/Final project/Death-Big-data-Analytics/archive\"\n",
        "df=spark.read.options(header=True,inferSchema=True).csv(data_path)\n",
        "df.show(truncate=False)\n",
        "print((time.time()-start)/60)"
      ],
      "execution_count": null,
      "outputs": []
    },
    {
      "cell_type": "code",
      "metadata": {
        "id": "TUDiN1T5d9QT"
      },
      "source": [
        "df.dtypes # see the datatypes of each column"
      ],
      "execution_count": null,
      "outputs": []
    },
    {
      "cell_type": "code",
      "metadata": {
        "id": "UTjUi2URKjm3"
      },
      "source": [
        "# df2=spark.read.options(header=True,inferSchema=True).csv(\"/content/drive/MyDrive/Colab Notebooks/BigData/Final project/Death-Big-data-Analytics/archive/2015_data.csv\")\n",
        "df.groupBy('current_data_year').count().show()"
      ],
      "execution_count": null,
      "outputs": []
    },
    {
      "cell_type": "code",
      "metadata": {
        "id": "VAPMu_lMRKnz"
      },
      "source": [
        "df.filter(\"current_data_year in ('2005','2006','2007','2008','2009','2010','2011','2012','2013','2014','2015')\")\\\n",
        "  .groupBy('current_data_year').count().show()\n"
      ],
      "execution_count": null,
      "outputs": []
    },
    {
      "cell_type": "code",
      "metadata": {
        "id": "DXgDZXwiX-Oi"
      },
      "source": [
        "df.filter('sex in (\"M\",\"F\")').groupBy('sex').count().show()"
      ],
      "execution_count": null,
      "outputs": []
    },
    {
      "cell_type": "code",
      "metadata": {
        "id": "GBKWdiMmWnZg"
      },
      "source": [
        "df.groupBy('sex').count().show()"
      ],
      "execution_count": null,
      "outputs": []
    },
    {
      "cell_type": "code",
      "metadata": {
        "id": "cyood6u4k2Ey"
      },
      "source": [
        "codes_path=\"/content/drive/MyDrive/Colab Notebooks/BigData/Final project/Death-Big-data-Analytics/archive/2015_codes.json\"\n",
        "with open(codes_path) as json_file:\n",
        "    codes = json.load(json_file) \n",
        "codes"
      ],
      "execution_count": null,
      "outputs": []
    },
    {
      "cell_type": "markdown",
      "metadata": {
        "id": "qC-MEUq8iCI8"
      },
      "source": [
        "# Getting the top 10 causes of death for each race"
      ]
    },
    {
      "cell_type": "code",
      "metadata": {
        "id": "T6fMd30iouBS"
      },
      "source": [
        "# df.groupBy('race','358_cause_recode','113_cause_recode','130_infant_cause_recode','39_cause_recode').count().show()\n",
        "df_deaths=df.groupBy('race','358_cause_recode','113_cause_recode','130_infant_cause_recode','39_cause_recode').count()"
      ],
      "execution_count": null,
      "outputs": []
    },
    {
      "cell_type": "code",
      "metadata": {
        "id": "-Ycng0B1q2WL"
      },
      "source": [
        "for race_id in codes['race'].keys(): \n",
        "  path=f'/content/drive/MyDrive/Colab Notebooks/BigData/Final project/results/COD_race/race_{race_id}.csv'\n",
        "  df_deaths.filter(df_deaths.race==race_id)\\\n",
        "           .sort(F.desc(\"count\")).limit(10)\\\n",
        "           .toPandas()\\\n",
        "           .to_csv(path,header=True)"
      ],
      "execution_count": null,
      "outputs": []
    },
    {
      "cell_type": "markdown",
      "metadata": {
        "id": "-AT7YRdviT6w"
      },
      "source": [
        "# Getting the top 10 causes of death for each gender"
      ]
    },
    {
      "cell_type": "code",
      "metadata": {
        "id": "JoJWJNVeiSiP"
      },
      "source": [
        "df_deaths_gender=df.groupBy('sex','358_cause_recode','113_cause_recode','130_infant_cause_recode','39_cause_recode').count()"
      ],
      "execution_count": null,
      "outputs": []
    },
    {
      "cell_type": "code",
      "metadata": {
        "id": "8IIqdrf2jdF0"
      },
      "source": [
        "df_deaths_gender.show()"
      ],
      "execution_count": null,
      "outputs": []
    },
    {
      "cell_type": "code",
      "metadata": {
        "id": "vVBM0vTqA6E-"
      },
      "source": [
        "for gender_id in codes['sex'].keys(): \n",
        "  path=f'/content/drive/MyDrive/Colab Notebooks/BigData/Final project/results/COD_gender/gender_{gender_id}.csv'\n",
        "  df_deaths_gender.filter(df_deaths_gender.sex==gender_id)\\\n",
        "           .sort(F.desc(\"count\")).limit(20)\\\n",
        "           .toPandas()\\\n",
        "           .to_csv(path,header=True)"
      ],
      "execution_count": null,
      "outputs": []
    },
    {
      "cell_type": "markdown",
      "metadata": {
        "id": "XGHDh0w0mj6Q"
      },
      "source": [
        "# The distributaion of death per weekday"
      ]
    },
    {
      "cell_type": "code",
      "metadata": {
        "id": "88FXlwkWkpGe"
      },
      "source": [
        "day_death=df.groupBy('day_of_week_of_death').count().sort(F.desc(\"count\")).limit(7)\\\n"
      ],
      "execution_count": null,
      "outputs": []
    },
    {
      "cell_type": "code",
      "metadata": {
        "id": "dIXi4eH2m-Uh"
      },
      "source": [
        "day_death.show()"
      ],
      "execution_count": null,
      "outputs": []
    },
    {
      "cell_type": "markdown",
      "metadata": {
        "id": "d-vnJ0VBnGdI"
      },
      "source": [
        "# The distributaion of death per month"
      ]
    },
    {
      "cell_type": "code",
      "metadata": {
        "id": "FFG0DXJGnDub"
      },
      "source": [
        "month_death=df.groupBy('month_of_death').count().sort(F.desc(\"count\")).limit(12)\\\n"
      ],
      "execution_count": null,
      "outputs": []
    },
    {
      "cell_type": "code",
      "metadata": {
        "id": "SYH6jtULnAZw"
      },
      "source": [
        "month_death.show()"
      ],
      "execution_count": null,
      "outputs": []
    },
    {
      "cell_type": "markdown",
      "metadata": {
        "id": "gwtQd6uUoreh"
      },
      "source": [
        "## Correlation between cause of death and the season timing"
      ]
    },
    {
      "cell_type": "code",
      "metadata": {
        "id": "HSHGx1axntS0"
      },
      "source": [
        "seasons={\"summer\":(\"06\",\"07\",\"08\"),\n",
        "         \"fall\":(\"09\",\"10\",\"11\"),\n",
        "         \"winter\":(\"11\",\"12\",\"10\"),\n",
        "         \"spring\":(\"03\",\"04\",\"05\")}\n"
      ],
      "execution_count": null,
      "outputs": []
    },
    {
      "cell_type": "code",
      "metadata": {
        "id": "rduQYW6gtjo3"
      },
      "source": [
        "for season in seasons.keys(): \n",
        "  path=f'/content/drive/MyDrive/Colab Notebooks/BigData/Final project/results/COD_season/season_{season}.csv'\n",
        "  m1,m2,m3=seasons[season]\n",
        "  df.filter((df.month_of_death==m1) | (df.month_of_death==m2) | (df.month_of_death==m3)).groupBy('358_cause_recode','113_cause_recode','130_infant_cause_recode','39_cause_recode').count()\\\n",
        "    .sort(F.desc(\"count\")).limit(20)\\\n",
        "    .toPandas()\\\n",
        "    .to_csv(path,header=True)\n",
        "           "
      ],
      "execution_count": null,
      "outputs": []
    },
    {
      "cell_type": "markdown",
      "metadata": {
        "id": "YVQoyuRdk4Gz"
      },
      "source": [
        "# Correlation between cause of death, engagement and the month."
      ]
    },
    {
      "cell_type": "code",
      "metadata": {
        "id": "rx6_K0Q-mdzH"
      },
      "source": [
        "seasons={\"summer\":(\"06\",\"07\",\"08\"),\n",
        "         \"fall\":(\"09\",\"10\",\"11\"),\n",
        "         \"winter\":(\"11\",\"12\",\"10\"),\n",
        "         \"spring\":(\"03\",\"04\",\"05\")}\n"
      ],
      "execution_count": null,
      "outputs": []
    },
    {
      "cell_type": "code",
      "metadata": {
        "id": "2X3lbGEOlQNf"
      },
      "source": [
        "for season in seasons.keys(): \n",
        "  path=f'/content/drive/MyDrive/Colab Notebooks/BigData/Final project/results/COD_activities/season_{season}.csv'\n",
        "  m1,m2,m3=seasons[season]\n",
        "  df.filter((df.month_of_death==m1) | (df.month_of_death==m2) | (df.month_of_death==m3)).groupBy('activity_code','358_cause_recode','113_cause_recode','130_infant_cause_recode','39_cause_recode').count()\\\n",
        "    .sort(F.desc(\"count\")).limit(20)\\\n",
        "    .toPandas()\\\n",
        "    .to_csv(path,header=True)\n",
        "           "
      ],
      "execution_count": null,
      "outputs": []
    },
    {
      "cell_type": "markdown",
      "metadata": {
        "id": "V1C9MYZzmkBL"
      },
      "source": [
        "# Cause of death distribution for each year"
      ]
    },
    {
      "cell_type": "code",
      "metadata": {
        "id": "QB79oyM4m1pO"
      },
      "source": [
        "years=[\"2005\",\"2006\",\"2007\",\"2008\",\"2009\",\"2010\",\"2011\",\"2012\",\"2013\",\"2014\",\"2015\"]"
      ],
      "execution_count": null,
      "outputs": []
    },
    {
      "cell_type": "code",
      "metadata": {
        "id": "TSKVGhfrm1pQ"
      },
      "source": [
        "for year in years: \n",
        "  path=f'/content/drive/MyDrive/Colab Notebooks/BigData/Final project/results/COD_per_year/year_{year}.csv'\n",
        "  df.filter(df.current_data_year==year).groupBy('current_data_year','358_cause_recode','113_cause_recode','130_infant_cause_recode','39_cause_recode').count()\\\n",
        "    .sort(F.desc(\"count\")).limit(20)\\\n",
        "    .toPandas()\\\n",
        "    .to_csv(path,header=True)\n",
        "           "
      ],
      "execution_count": null,
      "outputs": []
    },
    {
      "cell_type": "code",
      "metadata": {
        "id": "_egYeW2ZFioV"
      },
      "source": [
        ""
      ],
      "execution_count": null,
      "outputs": []
    }
  ]
}