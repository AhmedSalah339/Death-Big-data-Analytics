{
 "cells": [
  {
   "cell_type": "code",
   "execution_count": 1,
   "metadata": {},
   "outputs": [],
   "source": [
    "import findspark\n",
    "findspark.init()"
   ]
  },
  {
   "cell_type": "code",
   "execution_count": 2,
   "metadata": {},
   "outputs": [],
   "source": [
    "# from pyspark import SparkContext\n",
    "from pyspark.sql.functions import explode,concat,monotonically_increasing_id, row_number,coalesce\n",
    "from pyspark.sql.window import Window\n",
    "from pyspark.sql import SparkSession\n",
    "from pyspark.conf import SparkConf\n",
    "from pyspark.sql import SQLContext\n",
    "from pyspark.mllib.regression import LabeledPoint\n",
    "from pyspark.mllib.classification import LogisticRegressionWithSGD\n",
    "from pyspark.ml.feature import HashingTF, Tokenizer\n",
    "from pyspark.ml import Pipeline\n",
    "from pyspark.ml.classification import LinearSVC\n",
    "from pyspark.mllib.regression import LabeledPoint\n",
    "from pyspark.sql import Row\n",
    "from pyspark.sql import functions as f\n",
    "from pyspark.sql.functions import monotonically_increasing_id \n",
    "import pandas as pd\n",
    "import numpy as np\n",
    "import seaborn as sns\n",
    "import matplotlib.pyplot as plt\n",
    "%matplotlib inline\n",
    "spark = SparkSession.builder.master(\"local\").appName(\"Search\").config(conf=SparkConf()).getOrCreate()"
   ]
  },
  {
   "cell_type": "code",
   "execution_count": 3,
   "metadata": {},
   "outputs": [],
   "source": [
    "from pyspark.sql.types import StructType, StructField, StringType,BooleanType,IntegerType"
   ]
  },
  {
   "cell_type": "code",
   "execution_count": 4,
   "metadata": {},
   "outputs": [
    {
     "name": "stdout",
     "output_type": "stream",
     "text": [
      "+----------------------+\n",
      "|icd_code_10th_revision|\n",
      "+----------------------+\n",
      "|                  C439|\n",
      "|                  J439|\n",
      "|                  I698|\n",
      "|                  E119|\n",
      "|                  C349|\n",
      "+----------------------+\n",
      "only showing top 5 rows\n",
      "\n"
     ]
    }
   ],
   "source": [
    "df = spark.read.format(\"csv\").option(\"header\", \"true\").load(\"../data\")\n",
    "df.select('icd_code_10th_revision').show(n=5)\n"
   ]
  },
  {
   "cell_type": "code",
   "execution_count": 5,
   "metadata": {},
   "outputs": [],
   "source": [
    "# codes = spark.read.option(\"multiline\",\"true\").json(\"../2015_data/2015.json\")\n",
    "# codes.select('icd_code_10th_revision').show()\n"
   ]
  },
  {
   "cell_type": "markdown",
   "metadata": {},
   "source": [
    "### Race and gun deathes"
   ]
  },
  {
   "cell_type": "code",
   "execution_count": 6,
   "metadata": {},
   "outputs": [],
   "source": [
    "# some convenience reference data regarding the CDC ICD codes\n",
    "icd_gun_deaths = ['X72','X73','X74','X93','X94','X95','W32','W33','W34','Y22','Y23','Y24','Y35.0','Y36.4','U01.4']\n",
    "icd_gun_homicides = ['X93','X94','X95']\n",
    "icd_gun_suicides = ['X72','X73','X74']\n",
    "icd_gun_accident = ['W32','W33','W34']\n",
    "icd_gun_other = ['Y22','Y23','Y24','Y35.0','Y36.4','U01.4']"
   ]
  },
  {
   "cell_type": "code",
   "execution_count": 7,
   "metadata": {},
   "outputs": [],
   "source": [
    "df_guns = df.filter(df.icd_code_10th_revision.isin(icd_gun_deaths))"
   ]
  },
  {
   "cell_type": "code",
   "execution_count": 8,
   "metadata": {},
   "outputs": [],
   "source": [
    "def race_reclassify(race, hisp_orig):\n",
    "    if hisp_orig == '6':\n",
    "        return 'White'\n",
    "    elif hisp_orig == '7':\n",
    "        return 'Black'\n",
    "    elif hisp_orig == '8':\n",
    "        if race == '03':\n",
    "            return \"Native American\"\n",
    "        else:\n",
    "            return \"Asian/Pacific Islander\"\n",
    "    else:\n",
    "        return 'Hispanic'"
   ]
  },
  {
   "cell_type": "code",
   "execution_count": 9,
   "metadata": {},
   "outputs": [],
   "source": [
    "\n",
    "df_2 = spark.createDataFrame(\n",
    "    df.rdd.map(lambda row: row + (race_reclassify(row.race,row.hispanic_originrace_recode), )), \n",
    "    df.schema.add(StructField(\"race_decoded\", StringType())))\n",
    "# df_2.select('race_decoded').show()"
   ]
  },
  {
   "cell_type": "code",
   "execution_count": 10,
   "metadata": {},
   "outputs": [],
   "source": [
    "df_races_deaths=df_2.groupby('race_decoded').count()"
   ]
  },
  {
   "cell_type": "code",
   "execution_count": 11,
   "metadata": {},
   "outputs": [],
   "source": [
    "df_races_guns=df_2.filter(df_2.icd_code_10th_revision.isin(icd_gun_deaths)).groupby('race_decoded').count()"
   ]
  },
  {
   "cell_type": "code",
   "execution_count": 12,
   "metadata": {},
   "outputs": [],
   "source": [
    "df_races_deaths_pd = df_races_deaths.toPandas()\n",
    "df_races_guns_pd = df_races_guns.toPandas()"
   ]
  },
  {
   "cell_type": "code",
   "execution_count": 13,
   "metadata": {},
   "outputs": [
    {
     "data": {
      "text/html": [
       "<div>\n",
       "<style scoped>\n",
       "    .dataframe tbody tr th:only-of-type {\n",
       "        vertical-align: middle;\n",
       "    }\n",
       "\n",
       "    .dataframe tbody tr th {\n",
       "        vertical-align: top;\n",
       "    }\n",
       "\n",
       "    .dataframe thead th {\n",
       "        text-align: right;\n",
       "    }\n",
       "</style>\n",
       "<table border=\"1\" class=\"dataframe\">\n",
       "  <thead>\n",
       "    <tr style=\"text-align: right;\">\n",
       "      <th></th>\n",
       "      <th>race_decoded</th>\n",
       "      <th>count</th>\n",
       "    </tr>\n",
       "  </thead>\n",
       "  <tbody>\n",
       "    <tr>\n",
       "      <th>0</th>\n",
       "      <td>Native American</td>\n",
       "      <td>166214</td>\n",
       "    </tr>\n",
       "    <tr>\n",
       "      <th>1</th>\n",
       "      <td>Asian/Pacific Islander</td>\n",
       "      <td>572981</td>\n",
       "    </tr>\n",
       "    <tr>\n",
       "      <th>2</th>\n",
       "      <td>White</td>\n",
       "      <td>22034944</td>\n",
       "    </tr>\n",
       "    <tr>\n",
       "      <th>3</th>\n",
       "      <td>Hispanic</td>\n",
       "      <td>1731478</td>\n",
       "    </tr>\n",
       "    <tr>\n",
       "      <th>4</th>\n",
       "      <td>Black</td>\n",
       "      <td>3215056</td>\n",
       "    </tr>\n",
       "  </tbody>\n",
       "</table>\n",
       "</div>"
      ],
      "text/plain": [
       "             race_decoded     count\n",
       "0         Native American    166214\n",
       "1  Asian/Pacific Islander    572981\n",
       "2                   White  22034944\n",
       "3                Hispanic   1731478\n",
       "4                   Black   3215056"
      ]
     },
     "execution_count": 13,
     "metadata": {},
     "output_type": "execute_result"
    }
   ],
   "source": [
    "row = df_races_deaths_pd.iloc[3,:]\n",
    "df_races_deaths_pd.iloc[3,:] = df_races_deaths_pd.iloc[4,:]\n",
    "df_races_deaths_pd.iloc[4,:] = row\n",
    "df_races_deaths_pd"
   ]
  },
  {
   "cell_type": "code",
   "execution_count": 14,
   "metadata": {},
   "outputs": [
    {
     "data": {
      "text/html": [
       "<div>\n",
       "<style scoped>\n",
       "    .dataframe tbody tr th:only-of-type {\n",
       "        vertical-align: middle;\n",
       "    }\n",
       "\n",
       "    .dataframe tbody tr th {\n",
       "        vertical-align: top;\n",
       "    }\n",
       "\n",
       "    .dataframe thead th {\n",
       "        text-align: right;\n",
       "    }\n",
       "</style>\n",
       "<table border=\"1\" class=\"dataframe\">\n",
       "  <thead>\n",
       "    <tr style=\"text-align: right;\">\n",
       "      <th></th>\n",
       "      <th>race_decoded</th>\n",
       "      <th>count</th>\n",
       "      <th>all</th>\n",
       "      <th>death by gun percentage</th>\n",
       "    </tr>\n",
       "  </thead>\n",
       "  <tbody>\n",
       "    <tr>\n",
       "      <th>0</th>\n",
       "      <td>Native American</td>\n",
       "      <td>3056</td>\n",
       "      <td>166214</td>\n",
       "      <td>1.838594</td>\n",
       "    </tr>\n",
       "    <tr>\n",
       "      <th>1</th>\n",
       "      <td>Asian/Pacific Islander</td>\n",
       "      <td>4656</td>\n",
       "      <td>572981</td>\n",
       "      <td>0.812592</td>\n",
       "    </tr>\n",
       "    <tr>\n",
       "      <th>2</th>\n",
       "      <td>White</td>\n",
       "      <td>224277</td>\n",
       "      <td>22034944</td>\n",
       "      <td>1.017824</td>\n",
       "    </tr>\n",
       "    <tr>\n",
       "      <th>3</th>\n",
       "      <td>Black</td>\n",
       "      <td>85229</td>\n",
       "      <td>1731478</td>\n",
       "      <td>4.922326</td>\n",
       "    </tr>\n",
       "    <tr>\n",
       "      <th>4</th>\n",
       "      <td>Hispanic</td>\n",
       "      <td>35935</td>\n",
       "      <td>3215056</td>\n",
       "      <td>1.117710</td>\n",
       "    </tr>\n",
       "  </tbody>\n",
       "</table>\n",
       "</div>"
      ],
      "text/plain": [
       "             race_decoded   count       all  death by gun percentage\n",
       "0         Native American    3056    166214                 1.838594\n",
       "1  Asian/Pacific Islander    4656    572981                 0.812592\n",
       "2                   White  224277  22034944                 1.017824\n",
       "3                   Black   85229   1731478                 4.922326\n",
       "4                Hispanic   35935   3215056                 1.117710"
      ]
     },
     "execution_count": 14,
     "metadata": {},
     "output_type": "execute_result"
    }
   ],
   "source": [
    "df_races_guns_pd['all']=df_races_deaths_pd['count']\n",
    "df_races_guns_pd['death by gun percentage'] = 100*df_races_guns_pd['count']/df_races_guns_pd['all']\n",
    "df_races_guns_pd"
   ]
  },
  {
   "cell_type": "code",
   "execution_count": 15,
   "metadata": {},
   "outputs": [
    {
     "data": {
      "text/html": [
       "<div>\n",
       "<style scoped>\n",
       "    .dataframe tbody tr th:only-of-type {\n",
       "        vertical-align: middle;\n",
       "    }\n",
       "\n",
       "    .dataframe tbody tr th {\n",
       "        vertical-align: top;\n",
       "    }\n",
       "\n",
       "    .dataframe thead th {\n",
       "        text-align: right;\n",
       "    }\n",
       "</style>\n",
       "<table border=\"1\" class=\"dataframe\">\n",
       "  <thead>\n",
       "    <tr style=\"text-align: right;\">\n",
       "      <th></th>\n",
       "      <th>death by gun percentage</th>\n",
       "    </tr>\n",
       "    <tr>\n",
       "      <th>race</th>\n",
       "      <th></th>\n",
       "    </tr>\n",
       "  </thead>\n",
       "  <tbody>\n",
       "    <tr>\n",
       "      <th>Black</th>\n",
       "      <td>4.922326</td>\n",
       "    </tr>\n",
       "    <tr>\n",
       "      <th>Native American</th>\n",
       "      <td>1.838594</td>\n",
       "    </tr>\n",
       "    <tr>\n",
       "      <th>Hispanic</th>\n",
       "      <td>1.117710</td>\n",
       "    </tr>\n",
       "    <tr>\n",
       "      <th>White</th>\n",
       "      <td>1.017824</td>\n",
       "    </tr>\n",
       "    <tr>\n",
       "      <th>Asian/Pacific Islander</th>\n",
       "      <td>0.812592</td>\n",
       "    </tr>\n",
       "  </tbody>\n",
       "</table>\n",
       "</div>"
      ],
      "text/plain": [
       "                        death by gun percentage\n",
       "race                                           \n",
       "Black                                  4.922326\n",
       "Native American                        1.838594\n",
       "Hispanic                               1.117710\n",
       "White                                  1.017824\n",
       "Asian/Pacific Islander                 0.812592"
      ]
     },
     "execution_count": 15,
     "metadata": {},
     "output_type": "execute_result"
    }
   ],
   "source": [
    "df_draw = df_races_guns_pd[['race_decoded','death by gun percentage']]\n",
    "df_draw=df_draw.rename(columns={'race_decoded':'race'})\n",
    "df_draw = df_draw.sort_values(by='death by gun percentage',ascending=False)\n",
    "df_draw.set_index('race',inplace=True)\n",
    "df_draw"
   ]
  },
  {
   "cell_type": "code",
   "execution_count": 16,
   "metadata": {},
   "outputs": [
    {
     "data": {
      "image/png": "[encoded data removed]",
      "text/plain": [
       "<Figure size 360x360 with 1 Axes>"
      ]
     },
     "metadata": {
      "needs_background": "light"
     },
     "output_type": "display_data"
    }
   ],
   "source": [
    "df_draw.plot.bar( figsize=(5,5), title='Gun Deaths percantage by race ',legend=False);"
   ]
  },
  {
   "cell_type": "markdown",
   "metadata": {},
   "source": [
    "> Black are the dying with guns more than other races and then comes native americans and hispanics."
   ]
  },
  {
   "cell_type": "markdown",
   "metadata": {},
   "source": [
    "### vehicle and gun deaths"
   ]
  },
  {
   "cell_type": "code",
   "execution_count": 17,
   "metadata": {},
   "outputs": [],
   "source": [
    "vehicle_358_cause_recode = list(range(385,398))\n",
    "vehicle_358_cause_recode=[str(ele) for ele in vehicle_358_cause_recode]\n",
    "vehicle_113_cause_recode=['114']\n",
    "vehicle_130_infant_cause_recode=['141']\n",
    "vehicle_39_cause_recode = [\"038\"]"
   ]
  },
  {
   "cell_type": "code",
   "execution_count": 18,
   "metadata": {},
   "outputs": [],
   "source": [
    "df_vehicle=df.filter(df['358_cause_recode'].isin(vehicle_358_cause_recode) | \n",
    "                     df['358_cause_recode'].isin(vehicle_113_cause_recode) |\n",
    "                    df['130_infant_cause_recode'].isin(vehicle_130_infant_cause_recode)|\n",
    "                    df['39_cause_recode'].isin(vehicle_39_cause_recode)).count()\n",
    "\n"
   ]
  },
  {
   "cell_type": "code",
   "execution_count": 19,
   "metadata": {},
   "outputs": [
    {
     "data": {
      "text/plain": [
       "63.92407010261732"
      ]
     },
     "execution_count": 19,
     "metadata": {},
     "output_type": "execute_result"
    }
   ],
   "source": [
    "sum(df_races_deaths_pd['count'])/df_vehicle"
   ]
  },
  {
   "cell_type": "code",
   "execution_count": 20,
   "metadata": {},
   "outputs": [],
   "source": [
    "df_draw = pd.DataFrame({'deaths percentage':[0,0]})\n",
    "df_draw.index = ['guns','vehicles']"
   ]
  },
  {
   "cell_type": "code",
   "execution_count": 21,
   "metadata": {},
   "outputs": [],
   "source": [
    "df_draw.loc['vehicles','deaths percentage']=100*df_vehicle/sum(df_races_deaths_pd['count'])\n",
    "df_draw.loc['guns','deaths percentage']=100*sum(df_races_guns_pd['count'])/sum(df_races_deaths_pd['count'])"
   ]
  },
  {
   "cell_type": "code",
   "execution_count": 22,
   "metadata": {},
   "outputs": [
    {
     "data": {
      "text/html": [
       "<div>\n",
       "<style scoped>\n",
       "    .dataframe tbody tr th:only-of-type {\n",
       "        vertical-align: middle;\n",
       "    }\n",
       "\n",
       "    .dataframe tbody tr th {\n",
       "        vertical-align: top;\n",
       "    }\n",
       "\n",
       "    .dataframe thead th {\n",
       "        text-align: right;\n",
       "    }\n",
       "</style>\n",
       "<table border=\"1\" class=\"dataframe\">\n",
       "  <thead>\n",
       "    <tr style=\"text-align: right;\">\n",
       "      <th></th>\n",
       "      <th>deaths percentage</th>\n",
       "    </tr>\n",
       "  </thead>\n",
       "  <tbody>\n",
       "    <tr>\n",
       "      <th>vehicles</th>\n",
       "      <td>1.564356</td>\n",
       "    </tr>\n",
       "    <tr>\n",
       "      <th>guns</th>\n",
       "      <td>1.273970</td>\n",
       "    </tr>\n",
       "  </tbody>\n",
       "</table>\n",
       "</div>"
      ],
      "text/plain": [
       "          deaths percentage\n",
       "vehicles           1.564356\n",
       "guns               1.273970"
      ]
     },
     "execution_count": 22,
     "metadata": {},
     "output_type": "execute_result"
    }
   ],
   "source": [
    "df_draw = df_draw.sort_values(by='deaths percentage',ascending=False)\n",
    "df_draw"
   ]
  },
  {
   "cell_type": "code",
   "execution_count": 23,
   "metadata": {},
   "outputs": [
    {
     "data": {
      "image/png": "[encoded data removed]",
      "text/plain": [
       "<Figure size 360x360 with 1 Axes>"
      ]
     },
     "metadata": {
      "needs_background": "light"
     },
     "output_type": "display_data"
    }
   ],
   "source": [
    "df_draw.plot.bar( figsize=(5,5), title='Guns vs. Vehicles (deaths percentage )',legend=False);"
   ]
  },
  {
   "cell_type": "markdown",
   "metadata": {},
   "source": [
    ">  vehicles is higher in death percentage than gun deaths by small pecentage (around .2%)"
   ]
  },
  {
   "cell_type": "markdown",
   "metadata": {},
   "source": [
    "### suicide correlation of age and education"
   ]
  },
  {
   "cell_type": "code",
   "execution_count": 31,
   "metadata": {},
   "outputs": [
    {
     "name": "stdout",
     "output_type": "stream",
     "text": [
      "+----------------------+\n",
      "|icd_code_10th_revision|\n",
      "+----------------------+\n",
      "|                  C439|\n",
      "|                  J439|\n",
      "|                  I698|\n",
      "|                  E119|\n",
      "|                  C349|\n",
      "+----------------------+\n",
      "only showing top 5 rows\n",
      "\n"
     ]
    }
   ],
   "source": [
    "df = spark.read.format(\"csv\").option(\"header\", \"true\").load(\"../data\")\n",
    "df.select('icd_code_10th_revision').show(n=5)\n"
   ]
  },
  {
   "cell_type": "code",
   "execution_count": 32,
   "metadata": {},
   "outputs": [],
   "source": [
    "df_suicide =spark.createDataFrame(\n",
    "    df.rdd.map(lambda row: row + (int(row.manner_of_death=='2'), )), \n",
    "    df.schema.add(StructField(\"is_suicide\", IntegerType())))\n"
   ]
  },
  {
   "cell_type": "code",
   "execution_count": 33,
   "metadata": {},
   "outputs": [],
   "source": [
    "df_age_suicide = df_suicide.groupby('age_recode_12').agg(f.mean('is_suicide'))"
   ]
  },
  {
   "cell_type": "code",
   "execution_count": 34,
   "metadata": {},
   "outputs": [],
   "source": [
    "ages_map_dict = {\n",
    "\"10\":\"75 - 84 years\",\n",
    "\"11\":\"85 years and over\",\n",
    "\"12\":\"Age not stated\",\n",
    "\"01\":\"Under 1 year (includes not stated infant ages)\",\n",
    "\"02\":\"1 - 4 years\",\n",
    "\"03\":\"5 - 14 years\",\n",
    "\"04\":\"15 - 24 years\",\n",
    "\"05\":\"25 - 34 years\",\n",
    "\"06\":\"35 - 44 years\",\n",
    "\"07\":\"45 - 54 years\",\n",
    "\"08\":\"55 - 64 years\",\n",
    "\"09\":\"65 - 74 years\",\n",
    "}"
   ]
  },
  {
   "cell_type": "code",
   "execution_count": 35,
   "metadata": {},
   "outputs": [
    {
     "data": {
      "text/html": [
       "<div>\n",
       "<style scoped>\n",
       "    .dataframe tbody tr th:only-of-type {\n",
       "        vertical-align: middle;\n",
       "    }\n",
       "\n",
       "    .dataframe tbody tr th {\n",
       "        vertical-align: top;\n",
       "    }\n",
       "\n",
       "    .dataframe thead th {\n",
       "        text-align: right;\n",
       "    }\n",
       "</style>\n",
       "<table border=\"1\" class=\"dataframe\">\n",
       "  <thead>\n",
       "    <tr style=\"text-align: right;\">\n",
       "      <th></th>\n",
       "      <th>age_recode_12</th>\n",
       "      <th>avg(is_suicide)</th>\n",
       "    </tr>\n",
       "  </thead>\n",
       "  <tbody>\n",
       "    <tr>\n",
       "      <th>0</th>\n",
       "      <td>07</td>\n",
       "      <td>0.046069</td>\n",
       "    </tr>\n",
       "    <tr>\n",
       "      <th>1</th>\n",
       "      <td>11</td>\n",
       "      <td>0.001289</td>\n",
       "    </tr>\n",
       "    <tr>\n",
       "      <th>2</th>\n",
       "      <td>01</td>\n",
       "      <td>0.000004</td>\n",
       "    </tr>\n",
       "    <tr>\n",
       "      <th>3</th>\n",
       "      <td>09</td>\n",
       "      <td>0.007444</td>\n",
       "    </tr>\n",
       "    <tr>\n",
       "      <th>4</th>\n",
       "      <td>05</td>\n",
       "      <td>0.131116</td>\n",
       "    </tr>\n",
       "    <tr>\n",
       "      <th>5</th>\n",
       "      <td>08</td>\n",
       "      <td>0.019629</td>\n",
       "    </tr>\n",
       "    <tr>\n",
       "      <th>6</th>\n",
       "      <td>03</td>\n",
       "      <td>0.052452</td>\n",
       "    </tr>\n",
       "    <tr>\n",
       "      <th>7</th>\n",
       "      <td>02</td>\n",
       "      <td>0.000021</td>\n",
       "    </tr>\n",
       "    <tr>\n",
       "      <th>8</th>\n",
       "      <td>06</td>\n",
       "      <td>0.089606</td>\n",
       "    </tr>\n",
       "    <tr>\n",
       "      <th>9</th>\n",
       "      <td>10</td>\n",
       "      <td>0.003456</td>\n",
       "    </tr>\n",
       "    <tr>\n",
       "      <th>10</th>\n",
       "      <td>12</td>\n",
       "      <td>0.030701</td>\n",
       "    </tr>\n",
       "    <tr>\n",
       "      <th>11</th>\n",
       "      <td>04</td>\n",
       "      <td>0.148986</td>\n",
       "    </tr>\n",
       "  </tbody>\n",
       "</table>\n",
       "</div>"
      ],
      "text/plain": [
       "   age_recode_12  avg(is_suicide)\n",
       "0             07         0.046069\n",
       "1             11         0.001289\n",
       "2             01         0.000004\n",
       "3             09         0.007444\n",
       "4             05         0.131116\n",
       "5             08         0.019629\n",
       "6             03         0.052452\n",
       "7             02         0.000021\n",
       "8             06         0.089606\n",
       "9             10         0.003456\n",
       "10            12         0.030701\n",
       "11            04         0.148986"
      ]
     },
     "execution_count": 35,
     "metadata": {},
     "output_type": "execute_result"
    }
   ],
   "source": [
    "df_age_suicide_pd = df_age_suicide.toPandas()\n",
    "df_age_suicide_pd"
   ]
  },
  {
   "cell_type": "code",
   "execution_count": 36,
   "metadata": {},
   "outputs": [],
   "source": [
    "df_age_suicide_pd['age_recode_12_2'] = df_age_suicide_pd['age_recode_12'].astype('int')\n",
    "df_age_suicide_pd = df_age_suicide_pd.sort_values(by='age_recode_12_2')"
   ]
  },
  {
   "cell_type": "code",
   "execution_count": 37,
   "metadata": {},
   "outputs": [
    {
     "data": {
      "text/html": [
       "<div>\n",
       "<style scoped>\n",
       "    .dataframe tbody tr th:only-of-type {\n",
       "        vertical-align: middle;\n",
       "    }\n",
       "\n",
       "    .dataframe tbody tr th {\n",
       "        vertical-align: top;\n",
       "    }\n",
       "\n",
       "    .dataframe thead th {\n",
       "        text-align: right;\n",
       "    }\n",
       "</style>\n",
       "<table border=\"1\" class=\"dataframe\">\n",
       "  <thead>\n",
       "    <tr style=\"text-align: right;\">\n",
       "      <th></th>\n",
       "      <th>age</th>\n",
       "      <th>suicide_percentage</th>\n",
       "      <th>age_recode_12_2</th>\n",
       "    </tr>\n",
       "  </thead>\n",
       "  <tbody>\n",
       "    <tr>\n",
       "      <th>2</th>\n",
       "      <td>Under 1 year (includes not stated infant ages)</td>\n",
       "      <td>0.000004</td>\n",
       "      <td>1</td>\n",
       "    </tr>\n",
       "    <tr>\n",
       "      <th>7</th>\n",
       "      <td>1 - 4 years</td>\n",
       "      <td>0.000021</td>\n",
       "      <td>2</td>\n",
       "    </tr>\n",
       "    <tr>\n",
       "      <th>6</th>\n",
       "      <td>5 - 14 years</td>\n",
       "      <td>0.052452</td>\n",
       "      <td>3</td>\n",
       "    </tr>\n",
       "    <tr>\n",
       "      <th>11</th>\n",
       "      <td>15 - 24 years</td>\n",
       "      <td>0.148986</td>\n",
       "      <td>4</td>\n",
       "    </tr>\n",
       "    <tr>\n",
       "      <th>4</th>\n",
       "      <td>25 - 34 years</td>\n",
       "      <td>0.131116</td>\n",
       "      <td>5</td>\n",
       "    </tr>\n",
       "    <tr>\n",
       "      <th>8</th>\n",
       "      <td>35 - 44 years</td>\n",
       "      <td>0.089606</td>\n",
       "      <td>6</td>\n",
       "    </tr>\n",
       "    <tr>\n",
       "      <th>0</th>\n",
       "      <td>45 - 54 years</td>\n",
       "      <td>0.046069</td>\n",
       "      <td>7</td>\n",
       "    </tr>\n",
       "    <tr>\n",
       "      <th>5</th>\n",
       "      <td>55 - 64 years</td>\n",
       "      <td>0.019629</td>\n",
       "      <td>8</td>\n",
       "    </tr>\n",
       "    <tr>\n",
       "      <th>3</th>\n",
       "      <td>65 - 74 years</td>\n",
       "      <td>0.007444</td>\n",
       "      <td>9</td>\n",
       "    </tr>\n",
       "    <tr>\n",
       "      <th>9</th>\n",
       "      <td>75 - 84 years</td>\n",
       "      <td>0.003456</td>\n",
       "      <td>10</td>\n",
       "    </tr>\n",
       "    <tr>\n",
       "      <th>1</th>\n",
       "      <td>85 years and over</td>\n",
       "      <td>0.001289</td>\n",
       "      <td>11</td>\n",
       "    </tr>\n",
       "    <tr>\n",
       "      <th>10</th>\n",
       "      <td>Age not stated</td>\n",
       "      <td>0.030701</td>\n",
       "      <td>12</td>\n",
       "    </tr>\n",
       "  </tbody>\n",
       "</table>\n",
       "</div>"
      ],
      "text/plain": [
       "                                               age  suicide_percentage  \\\n",
       "2   Under 1 year (includes not stated infant ages)            0.000004   \n",
       "7                                      1 - 4 years            0.000021   \n",
       "6                                     5 - 14 years            0.052452   \n",
       "11                                   15 - 24 years            0.148986   \n",
       "4                                    25 - 34 years            0.131116   \n",
       "8                                    35 - 44 years            0.089606   \n",
       "0                                    45 - 54 years            0.046069   \n",
       "5                                    55 - 64 years            0.019629   \n",
       "3                                    65 - 74 years            0.007444   \n",
       "9                                    75 - 84 years            0.003456   \n",
       "1                                85 years and over            0.001289   \n",
       "10                                  Age not stated            0.030701   \n",
       "\n",
       "    age_recode_12_2  \n",
       "2                 1  \n",
       "7                 2  \n",
       "6                 3  \n",
       "11                4  \n",
       "4                 5  \n",
       "8                 6  \n",
       "0                 7  \n",
       "5                 8  \n",
       "3                 9  \n",
       "9                10  \n",
       "1                11  \n",
       "10               12  "
      ]
     },
     "execution_count": 37,
     "metadata": {},
     "output_type": "execute_result"
    }
   ],
   "source": [
    "df_draw = df_age_suicide_pd.rename(columns={'avg(is_suicide)':'suicide_percentage','age_recode_12':'age'})\n",
    "df_draw['age'] = df_draw['age'].map(ages_map_dict)\n",
    "df_draw"
   ]
  },
  {
   "cell_type": "code",
   "execution_count": 38,
   "metadata": {},
   "outputs": [
    {
     "data": {
      "text/html": [
       "<div>\n",
       "<style scoped>\n",
       "    .dataframe tbody tr th:only-of-type {\n",
       "        vertical-align: middle;\n",
       "    }\n",
       "\n",
       "    .dataframe tbody tr th {\n",
       "        vertical-align: top;\n",
       "    }\n",
       "\n",
       "    .dataframe thead th {\n",
       "        text-align: right;\n",
       "    }\n",
       "</style>\n",
       "<table border=\"1\" class=\"dataframe\">\n",
       "  <thead>\n",
       "    <tr style=\"text-align: right;\">\n",
       "      <th></th>\n",
       "      <th>age</th>\n",
       "      <th>suicide_percentage</th>\n",
       "      <th>age_recode_12_2</th>\n",
       "    </tr>\n",
       "  </thead>\n",
       "  <tbody>\n",
       "    <tr>\n",
       "      <th>2</th>\n",
       "      <td>Under 1 year (includes not stated infant ages)</td>\n",
       "      <td>0.000353</td>\n",
       "      <td>1</td>\n",
       "    </tr>\n",
       "    <tr>\n",
       "      <th>7</th>\n",
       "      <td>1 - 4 years</td>\n",
       "      <td>0.002075</td>\n",
       "      <td>2</td>\n",
       "    </tr>\n",
       "    <tr>\n",
       "      <th>6</th>\n",
       "      <td>5 - 14 years</td>\n",
       "      <td>5.245225</td>\n",
       "      <td>3</td>\n",
       "    </tr>\n",
       "    <tr>\n",
       "      <th>11</th>\n",
       "      <td>15 - 24 years</td>\n",
       "      <td>14.898643</td>\n",
       "      <td>4</td>\n",
       "    </tr>\n",
       "    <tr>\n",
       "      <th>4</th>\n",
       "      <td>25 - 34 years</td>\n",
       "      <td>13.111553</td>\n",
       "      <td>5</td>\n",
       "    </tr>\n",
       "    <tr>\n",
       "      <th>8</th>\n",
       "      <td>35 - 44 years</td>\n",
       "      <td>8.960583</td>\n",
       "      <td>6</td>\n",
       "    </tr>\n",
       "    <tr>\n",
       "      <th>0</th>\n",
       "      <td>45 - 54 years</td>\n",
       "      <td>4.606870</td>\n",
       "      <td>7</td>\n",
       "    </tr>\n",
       "    <tr>\n",
       "      <th>5</th>\n",
       "      <td>55 - 64 years</td>\n",
       "      <td>1.962915</td>\n",
       "      <td>8</td>\n",
       "    </tr>\n",
       "    <tr>\n",
       "      <th>3</th>\n",
       "      <td>65 - 74 years</td>\n",
       "      <td>0.744403</td>\n",
       "      <td>9</td>\n",
       "    </tr>\n",
       "    <tr>\n",
       "      <th>9</th>\n",
       "      <td>75 - 84 years</td>\n",
       "      <td>0.345615</td>\n",
       "      <td>10</td>\n",
       "    </tr>\n",
       "    <tr>\n",
       "      <th>1</th>\n",
       "      <td>85 years and over</td>\n",
       "      <td>0.128878</td>\n",
       "      <td>11</td>\n",
       "    </tr>\n",
       "    <tr>\n",
       "      <th>10</th>\n",
       "      <td>Age not stated</td>\n",
       "      <td>3.070060</td>\n",
       "      <td>12</td>\n",
       "    </tr>\n",
       "  </tbody>\n",
       "</table>\n",
       "</div>"
      ],
      "text/plain": [
       "                                               age  suicide_percentage  \\\n",
       "2   Under 1 year (includes not stated infant ages)            0.000353   \n",
       "7                                      1 - 4 years            0.002075   \n",
       "6                                     5 - 14 years            5.245225   \n",
       "11                                   15 - 24 years           14.898643   \n",
       "4                                    25 - 34 years           13.111553   \n",
       "8                                    35 - 44 years            8.960583   \n",
       "0                                    45 - 54 years            4.606870   \n",
       "5                                    55 - 64 years            1.962915   \n",
       "3                                    65 - 74 years            0.744403   \n",
       "9                                    75 - 84 years            0.345615   \n",
       "1                                85 years and over            0.128878   \n",
       "10                                  Age not stated            3.070060   \n",
       "\n",
       "    age_recode_12_2  \n",
       "2                 1  \n",
       "7                 2  \n",
       "6                 3  \n",
       "11                4  \n",
       "4                 5  \n",
       "8                 6  \n",
       "0                 7  \n",
       "5                 8  \n",
       "3                 9  \n",
       "9                10  \n",
       "1                11  \n",
       "10               12  "
      ]
     },
     "execution_count": 38,
     "metadata": {},
     "output_type": "execute_result"
    }
   ],
   "source": [
    "df_draw['suicide_percentage'] = 100* df_draw['suicide_percentage']\n",
    "df_draw"
   ]
  },
  {
   "cell_type": "code",
   "execution_count": 39,
   "metadata": {},
   "outputs": [],
   "source": [
    "df_draw = df_draw.set_index('age')"
   ]
  },
  {
   "cell_type": "code",
   "execution_count": 40,
   "metadata": {},
   "outputs": [
    {
     "data": {
      "image/png": "[encoded data removed]",
      "text/plain": [
       "<Figure size 432x288 with 1 Axes>"
      ]
     },
     "metadata": {
      "needs_background": "light"
     },
     "output_type": "display_data"
    }
   ],
   "source": [
    "df_draw[['suicide_percentage']].iloc[1:-1,:].plot(title='suicide percenatge by age',legend=False)\n",
    "plt.xticks(rotation=90);"
   ]
  },
  {
   "cell_type": "markdown",
   "metadata": {},
   "source": [
    "> The graph shows a peak in the 15-24 years youth for about 17.5% and then gets low again.\n",
    " "
   ]
  },
  {
   "cell_type": "code",
   "execution_count": 41,
   "metadata": {},
   "outputs": [],
   "source": [
    "\n",
    "education_2003_revision={\n",
    "\"00\":\"No formal education\",\n",
    "\"1\":\"8th grade or less\",\n",
    "\"2\":\"9 - 12th grade, no diploma\",\n",
    "\"3\":\"high school graduate or GED completed\",\n",
    "\"4\":\"some college credit, but no degree\",\n",
    "\"5\":\"Associate degree\",\n",
    "\"6\":\"Bachelor’s degree\",\n",
    "\"7\":\"Master’s degree\",\n",
    "\"8\":\"Doctorate or professional degree\"\n",
    "\n",
    "}"
   ]
  },
  {
   "cell_type": "code",
   "execution_count": 42,
   "metadata": {},
   "outputs": [],
   "source": [
    "df_education_suicide = df_suicide.select(df_suicide['is_suicide'],coalesce(df_suicide[\"education_1989_revision\"], df_suicide[\"education_2003_revision\"]).alias('all_education'))"
   ]
  },
  {
   "cell_type": "code",
   "execution_count": 43,
   "metadata": {},
   "outputs": [],
   "source": [
    "df_education_suicide = df_education_suicide.groupby('all_education').agg(f.sum('is_suicide'),f.count('is_suicide'))\n",
    "df_education_suicide_pd = df_education_suicide.toPandas()"
   ]
  },
  {
   "cell_type": "code",
   "execution_count": 44,
   "metadata": {},
   "outputs": [],
   "source": [
    "df_draw = df_education_suicide_pd.copy()\n",
    "df_draw = df_draw.set_index('all_education')\n"
   ]
  },
  {
   "cell_type": "code",
   "execution_count": 45,
   "metadata": {},
   "outputs": [],
   "source": [
    "for i in range(1,9):\n",
    "    \n",
    "    df_draw.loc['1',['sum(is_suicide)','count(is_suicide)']] += df_draw.loc['0'+str(i),['sum(is_suicide)','count(is_suicide)']]\n",
    "#     print(df_draw.loc['8',['sum(is_suicide)','count(is_suicide)']])\n",
    "df_draw.loc['2',['sum(is_suicide)','count(is_suicide)']] += df_draw.loc['09',['sum(is_suicide)','count(is_suicide)']]\n",
    "\n",
    "for i in range(10,13):\n",
    "    df_draw.loc['2',['sum(is_suicide)','count(is_suicide)']] += df_draw.loc[str(i),['sum(is_suicide)','count(is_suicide)']]\n",
    "for i in range(13,18):\n",
    "    df_draw.loc['4',['sum(is_suicide)','count(is_suicide)']] += df_draw.loc[str(i),['sum(is_suicide)','count(is_suicide)']]"
   ]
  },
  {
   "cell_type": "code",
   "execution_count": 46,
   "metadata": {},
   "outputs": [
    {
     "data": {
      "text/html": [
       "<div>\n",
       "<style scoped>\n",
       "    .dataframe tbody tr th:only-of-type {\n",
       "        vertical-align: middle;\n",
       "    }\n",
       "\n",
       "    .dataframe tbody tr th {\n",
       "        vertical-align: top;\n",
       "    }\n",
       "\n",
       "    .dataframe thead th {\n",
       "        text-align: right;\n",
       "    }\n",
       "</style>\n",
       "<table border=\"1\" class=\"dataframe\">\n",
       "  <thead>\n",
       "    <tr style=\"text-align: right;\">\n",
       "      <th></th>\n",
       "      <th>sum(is_suicide)</th>\n",
       "      <th>count(is_suicide)</th>\n",
       "    </tr>\n",
       "    <tr>\n",
       "      <th>all_education</th>\n",
       "      <th></th>\n",
       "      <th></th>\n",
       "    </tr>\n",
       "  </thead>\n",
       "  <tbody>\n",
       "    <tr>\n",
       "      <th>7</th>\n",
       "      <td>11644</td>\n",
       "      <td>695821</td>\n",
       "    </tr>\n",
       "    <tr>\n",
       "      <th>3</th>\n",
       "      <td>117887</td>\n",
       "      <td>8017388</td>\n",
       "    </tr>\n",
       "    <tr>\n",
       "      <th>8</th>\n",
       "      <td>5923</td>\n",
       "      <td>308775</td>\n",
       "    </tr>\n",
       "    <tr>\n",
       "      <th>5</th>\n",
       "      <td>20697</td>\n",
       "      <td>1017209</td>\n",
       "    </tr>\n",
       "    <tr>\n",
       "      <th>00</th>\n",
       "      <td>132</td>\n",
       "      <td>144844</td>\n",
       "    </tr>\n",
       "    <tr>\n",
       "      <th>6</th>\n",
       "      <td>35521</td>\n",
       "      <td>1835477</td>\n",
       "    </tr>\n",
       "    <tr>\n",
       "      <th>1</th>\n",
       "      <td>18884</td>\n",
       "      <td>3660623</td>\n",
       "    </tr>\n",
       "    <tr>\n",
       "      <th>4</th>\n",
       "      <td>94233</td>\n",
       "      <td>4476225</td>\n",
       "    </tr>\n",
       "    <tr>\n",
       "      <th>2</th>\n",
       "      <td>104272</td>\n",
       "      <td>6539359</td>\n",
       "    </tr>\n",
       "  </tbody>\n",
       "</table>\n",
       "</div>"
      ],
      "text/plain": [
       "               sum(is_suicide)  count(is_suicide)\n",
       "all_education                                    \n",
       "7                        11644             695821\n",
       "3                       117887            8017388\n",
       "8                         5923             308775\n",
       "5                        20697            1017209\n",
       "00                         132             144844\n",
       "6                        35521            1835477\n",
       "1                        18884            3660623\n",
       "4                        94233            4476225\n",
       "2                       104272            6539359"
      ]
     },
     "execution_count": 46,
     "metadata": {},
     "output_type": "execute_result"
    }
   ],
   "source": [
    "rows_to_drop = ['0'+str(i)for i in range(1,10)]+[str(i)for i in range(10,18)]+['99','9']\n",
    "df_draw = df_draw.drop(rows_to_drop)\n",
    "df_draw"
   ]
  },
  {
   "cell_type": "code",
   "execution_count": 47,
   "metadata": {},
   "outputs": [
    {
     "data": {
      "text/html": [
       "<div>\n",
       "<style scoped>\n",
       "    .dataframe tbody tr th:only-of-type {\n",
       "        vertical-align: middle;\n",
       "    }\n",
       "\n",
       "    .dataframe tbody tr th {\n",
       "        vertical-align: top;\n",
       "    }\n",
       "\n",
       "    .dataframe thead th {\n",
       "        text-align: right;\n",
       "    }\n",
       "</style>\n",
       "<table border=\"1\" class=\"dataframe\">\n",
       "  <thead>\n",
       "    <tr style=\"text-align: right;\">\n",
       "      <th></th>\n",
       "      <th>all_education</th>\n",
       "      <th>sum(is_suicide)</th>\n",
       "      <th>count(is_suicide)</th>\n",
       "      <th>sorting</th>\n",
       "    </tr>\n",
       "  </thead>\n",
       "  <tbody>\n",
       "    <tr>\n",
       "      <th>4</th>\n",
       "      <td>No formal education</td>\n",
       "      <td>132</td>\n",
       "      <td>144844</td>\n",
       "      <td>0</td>\n",
       "    </tr>\n",
       "    <tr>\n",
       "      <th>6</th>\n",
       "      <td>8th grade or less</td>\n",
       "      <td>18884</td>\n",
       "      <td>3660623</td>\n",
       "      <td>1</td>\n",
       "    </tr>\n",
       "    <tr>\n",
       "      <th>8</th>\n",
       "      <td>9 - 12th grade, no diploma</td>\n",
       "      <td>104272</td>\n",
       "      <td>6539359</td>\n",
       "      <td>2</td>\n",
       "    </tr>\n",
       "    <tr>\n",
       "      <th>1</th>\n",
       "      <td>high school graduate or GED completed</td>\n",
       "      <td>117887</td>\n",
       "      <td>8017388</td>\n",
       "      <td>3</td>\n",
       "    </tr>\n",
       "    <tr>\n",
       "      <th>7</th>\n",
       "      <td>some college credit, but no degree</td>\n",
       "      <td>94233</td>\n",
       "      <td>4476225</td>\n",
       "      <td>4</td>\n",
       "    </tr>\n",
       "    <tr>\n",
       "      <th>3</th>\n",
       "      <td>Associate degree</td>\n",
       "      <td>20697</td>\n",
       "      <td>1017209</td>\n",
       "      <td>5</td>\n",
       "    </tr>\n",
       "    <tr>\n",
       "      <th>5</th>\n",
       "      <td>Bachelor’s degree</td>\n",
       "      <td>35521</td>\n",
       "      <td>1835477</td>\n",
       "      <td>6</td>\n",
       "    </tr>\n",
       "    <tr>\n",
       "      <th>0</th>\n",
       "      <td>Master’s degree</td>\n",
       "      <td>11644</td>\n",
       "      <td>695821</td>\n",
       "      <td>7</td>\n",
       "    </tr>\n",
       "    <tr>\n",
       "      <th>2</th>\n",
       "      <td>Doctorate or professional degree</td>\n",
       "      <td>5923</td>\n",
       "      <td>308775</td>\n",
       "      <td>8</td>\n",
       "    </tr>\n",
       "  </tbody>\n",
       "</table>\n",
       "</div>"
      ],
      "text/plain": [
       "                           all_education  sum(is_suicide)  count(is_suicide)  \\\n",
       "4                    No formal education              132             144844   \n",
       "6                      8th grade or less            18884            3660623   \n",
       "8             9 - 12th grade, no diploma           104272            6539359   \n",
       "1  high school graduate or GED completed           117887            8017388   \n",
       "7     some college credit, but no degree            94233            4476225   \n",
       "3                       Associate degree            20697            1017209   \n",
       "5                      Bachelor’s degree            35521            1835477   \n",
       "0                        Master’s degree            11644             695821   \n",
       "2       Doctorate or professional degree             5923             308775   \n",
       "\n",
       "   sorting  \n",
       "4        0  \n",
       "6        1  \n",
       "8        2  \n",
       "1        3  \n",
       "7        4  \n",
       "3        5  \n",
       "5        6  \n",
       "0        7  \n",
       "2        8  "
      ]
     },
     "execution_count": 47,
     "metadata": {},
     "output_type": "execute_result"
    }
   ],
   "source": [
    "df_draw = df_draw.reset_index()\n",
    "df_draw['sorting'] = df_draw['all_education'].astype('int')\n",
    "df_draw = df_draw.sort_values(by='sorting')\n",
    "df_draw['all_education'] = df_draw['all_education'].map(education_2003_revision)\n",
    "df_draw"
   ]
  },
  {
   "cell_type": "code",
   "execution_count": 48,
   "metadata": {},
   "outputs": [
    {
     "data": {
      "image/png": "[encoded data removed]",
      "text/plain": [
       "<Figure size 432x288 with 1 Axes>"
      ]
     },
     "metadata": {
      "needs_background": "light"
     },
     "output_type": "display_data"
    }
   ],
   "source": [
    "df_draw = df_draw.set_index('all_education')\n",
    "df_draw['suicide percentage'] = 100*df_draw['sum(is_suicide)']/df_draw['count(is_suicide)']\n",
    "df_draw[['suicide percentage']].plot(title='suicide percenatge by education',legend=False)\n",
    "plt.xticks(rotation=90);"
   ]
  },
  {
   "cell_type": "markdown",
   "metadata": {},
   "source": [
    "> It can be observed that the highest suiscide percentage is among college students with no degree\n",
    "\n",
    ">This high rate may be related to the age range for college students (20-24).\n",
    "\n",
    "> The rates remain high with higher degrees although they are olderin lower suicide rates."
   ]
  },
  {
   "cell_type": "markdown",
   "metadata": {},
   "source": [
    "### Homicide vs other death causes"
   ]
  },
  {
   "cell_type": "code",
   "execution_count": 49,
   "metadata": {},
   "outputs": [],
   "source": [
    "df_homicide = df_suicide.groupby('manner_of_death').agg(f.count('manner_of_death'))\n",
    "df_homicide_pd = df_homicide.toPandas()"
   ]
  },
  {
   "cell_type": "code",
   "execution_count": 50,
   "metadata": {},
   "outputs": [
    {
     "data": {
      "text/html": [
       "<div>\n",
       "<style scoped>\n",
       "    .dataframe tbody tr th:only-of-type {\n",
       "        vertical-align: middle;\n",
       "    }\n",
       "\n",
       "    .dataframe tbody tr th {\n",
       "        vertical-align: top;\n",
       "    }\n",
       "\n",
       "    .dataframe thead th {\n",
       "        text-align: right;\n",
       "    }\n",
       "</style>\n",
       "<table border=\"1\" class=\"dataframe\">\n",
       "  <thead>\n",
       "    <tr style=\"text-align: right;\">\n",
       "      <th></th>\n",
       "      <th>manner_of_death</th>\n",
       "      <th>count(manner_of_death)</th>\n",
       "    </tr>\n",
       "  </thead>\n",
       "  <tbody>\n",
       "    <tr>\n",
       "      <th>0</th>\n",
       "      <td>7</td>\n",
       "      <td>19914162</td>\n",
       "    </tr>\n",
       "    <tr>\n",
       "      <th>1</th>\n",
       "      <td>3</td>\n",
       "      <td>200528</td>\n",
       "    </tr>\n",
       "    <tr>\n",
       "      <th>2</th>\n",
       "      <td>None</td>\n",
       "      <td>0</td>\n",
       "    </tr>\n",
       "    <tr>\n",
       "      <th>3</th>\n",
       "      <td>5</td>\n",
       "      <td>119756</td>\n",
       "    </tr>\n",
       "    <tr>\n",
       "      <th>4</th>\n",
       "      <td>1</td>\n",
       "      <td>1350268</td>\n",
       "    </tr>\n",
       "    <tr>\n",
       "      <th>5</th>\n",
       "      <td>4</td>\n",
       "      <td>55808</td>\n",
       "    </tr>\n",
       "    <tr>\n",
       "      <th>6</th>\n",
       "      <td>2</td>\n",
       "      <td>423361</td>\n",
       "    </tr>\n",
       "  </tbody>\n",
       "</table>\n",
       "</div>"
      ],
      "text/plain": [
       "  manner_of_death  count(manner_of_death)\n",
       "0               7                19914162\n",
       "1               3                  200528\n",
       "2            None                       0\n",
       "3               5                  119756\n",
       "4               1                 1350268\n",
       "5               4                   55808\n",
       "6               2                  423361"
      ]
     },
     "execution_count": 50,
     "metadata": {},
     "output_type": "execute_result"
    }
   ],
   "source": [
    "df_homicide_pd"
   ]
  },
  {
   "cell_type": "code",
   "execution_count": 51,
   "metadata": {},
   "outputs": [],
   "source": [
    "manner_of_death={\n",
    "\"1\":\"Accident\",\n",
    "\"2\":\"Suicide\",\n",
    "\"3\":\"Homicide\",\n",
    "\"4\":\"Pending investigation\",\n",
    "\"5\":\"Could not determine\",\n",
    "\"6\":\"Self-Inflicted\",\n",
    "\"7\":\"Natural\",\n",
    "\"Blank\":\"Not specified\",\n",
    "}"
   ]
  },
  {
   "cell_type": "code",
   "execution_count": 52,
   "metadata": {},
   "outputs": [
    {
     "data": {
      "text/html": [
       "<div>\n",
       "<style scoped>\n",
       "    .dataframe tbody tr th:only-of-type {\n",
       "        vertical-align: middle;\n",
       "    }\n",
       "\n",
       "    .dataframe tbody tr th {\n",
       "        vertical-align: top;\n",
       "    }\n",
       "\n",
       "    .dataframe thead th {\n",
       "        text-align: right;\n",
       "    }\n",
       "</style>\n",
       "<table border=\"1\" class=\"dataframe\">\n",
       "  <thead>\n",
       "    <tr style=\"text-align: right;\">\n",
       "      <th></th>\n",
       "      <th>sum(is_suicide)</th>\n",
       "      <th>count(is_suicide)</th>\n",
       "      <th>sorting</th>\n",
       "      <th>suicide percentage</th>\n",
       "    </tr>\n",
       "    <tr>\n",
       "      <th>all_education</th>\n",
       "      <th></th>\n",
       "      <th></th>\n",
       "      <th></th>\n",
       "      <th></th>\n",
       "    </tr>\n",
       "  </thead>\n",
       "  <tbody>\n",
       "    <tr>\n",
       "      <th>No formal education</th>\n",
       "      <td>132</td>\n",
       "      <td>144844</td>\n",
       "      <td>0</td>\n",
       "      <td>0.091133</td>\n",
       "    </tr>\n",
       "    <tr>\n",
       "      <th>8th grade or less</th>\n",
       "      <td>18884</td>\n",
       "      <td>3660623</td>\n",
       "      <td>1</td>\n",
       "      <td>0.515868</td>\n",
       "    </tr>\n",
       "    <tr>\n",
       "      <th>9 - 12th grade, no diploma</th>\n",
       "      <td>104272</td>\n",
       "      <td>6539359</td>\n",
       "      <td>2</td>\n",
       "      <td>1.594529</td>\n",
       "    </tr>\n",
       "    <tr>\n",
       "      <th>high school graduate or GED completed</th>\n",
       "      <td>117887</td>\n",
       "      <td>8017388</td>\n",
       "      <td>3</td>\n",
       "      <td>1.470392</td>\n",
       "    </tr>\n",
       "    <tr>\n",
       "      <th>some college credit, but no degree</th>\n",
       "      <td>94233</td>\n",
       "      <td>4476225</td>\n",
       "      <td>4</td>\n",
       "      <td>2.105189</td>\n",
       "    </tr>\n",
       "    <tr>\n",
       "      <th>Associate degree</th>\n",
       "      <td>20697</td>\n",
       "      <td>1017209</td>\n",
       "      <td>5</td>\n",
       "      <td>2.034685</td>\n",
       "    </tr>\n",
       "    <tr>\n",
       "      <th>Bachelor’s degree</th>\n",
       "      <td>35521</td>\n",
       "      <td>1835477</td>\n",
       "      <td>6</td>\n",
       "      <td>1.935246</td>\n",
       "    </tr>\n",
       "    <tr>\n",
       "      <th>Master’s degree</th>\n",
       "      <td>11644</td>\n",
       "      <td>695821</td>\n",
       "      <td>7</td>\n",
       "      <td>1.673419</td>\n",
       "    </tr>\n",
       "    <tr>\n",
       "      <th>Doctorate or professional degree</th>\n",
       "      <td>5923</td>\n",
       "      <td>308775</td>\n",
       "      <td>8</td>\n",
       "      <td>1.918225</td>\n",
       "    </tr>\n",
       "  </tbody>\n",
       "</table>\n",
       "</div>"
      ],
      "text/plain": [
       "                                       sum(is_suicide)  count(is_suicide)  \\\n",
       "all_education                                                               \n",
       "No formal education                                132             144844   \n",
       "8th grade or less                                18884            3660623   \n",
       "9 - 12th grade, no diploma                      104272            6539359   \n",
       "high school graduate or GED completed           117887            8017388   \n",
       "some college credit, but no degree               94233            4476225   \n",
       "Associate degree                                 20697            1017209   \n",
       "Bachelor’s degree                                35521            1835477   \n",
       "Master’s degree                                  11644             695821   \n",
       "Doctorate or professional degree                  5923             308775   \n",
       "\n",
       "                                       sorting  suicide percentage  \n",
       "all_education                                                       \n",
       "No formal education                          0            0.091133  \n",
       "8th grade or less                            1            0.515868  \n",
       "9 - 12th grade, no diploma                   2            1.594529  \n",
       "high school graduate or GED completed        3            1.470392  \n",
       "some college credit, but no degree           4            2.105189  \n",
       "Associate degree                             5            2.034685  \n",
       "Bachelor’s degree                            6            1.935246  \n",
       "Master’s degree                              7            1.673419  \n",
       "Doctorate or professional degree             8            1.918225  "
      ]
     },
     "execution_count": 52,
     "metadata": {},
     "output_type": "execute_result"
    }
   ],
   "source": [
    "df_draw"
   ]
  },
  {
   "cell_type": "code",
   "execution_count": 53,
   "metadata": {},
   "outputs": [
    {
     "data": {
      "image/png": "[encoded data removed]",
      "text/plain": [
       "<Figure size 720x720 with 1 Axes>"
      ]
     },
     "metadata": {},
     "output_type": "display_data"
    }
   ],
   "source": [
    "df_draw = df_homicide_pd.copy()\n",
    "df_draw['manner_of_death'] = df_draw['manner_of_death'].map(manner_of_death)\n",
    "df_draw = df_draw.rename(columns={'count(manner_of_death)':'death cause'})\n",
    "df_draw = df_draw.dropna()\n",
    "explode=(0,0.1,0,0,0,0)\n",
    "plt.figure(figsize=(10,10))\n",
    "plt.pie(df_draw['death cause'], autopct='%1.1f%%',labels=df_draw['manner_of_death'],explode=explode);\n",
    "plt.title('Death causes');"
   ]
  },
  {
   "cell_type": "markdown",
   "metadata": {},
   "source": [
    "> Natural causes of death make 90.5% of the total death cases followed by accidents for another 6.5% and the remaining 3% is for other death causes "
   ]
  },
  {
   "cell_type": "code",
   "execution_count": 54,
   "metadata": {},
   "outputs": [
    {
     "data": {
      "image/png": "[encoded data removed]",
      "text/plain": [
       "<Figure size 720x720 with 1 Axes>"
      ]
     },
     "metadata": {},
     "output_type": "display_data"
    }
   ],
   "source": [
    "explode=(0.1,0,0,0,0)\n",
    "plt.figure(figsize=(10,10))\n",
    "\n",
    "df_draw = df_draw.drop(df_draw[df_draw['manner_of_death']==\"Natural\"].index)\n",
    "plt.pie(df_draw['death cause'], autopct='%1.1f%%',labels=df_draw['manner_of_death'],explode=explode);\n",
    "plt.title('Death causes');"
   ]
  },
  {
   "cell_type": "markdown",
   "metadata": {},
   "source": [
    "> Excluding natural reasons for death homicide is 9.3% of the overall death cases, as accidents are the most common death cause with 62.8% percentage."
   ]
  },
  {
   "cell_type": "code",
   "execution_count": null,
   "metadata": {},
   "outputs": [],
   "source": []
  }
 ],
 "metadata": {
  "kernelspec": {
   "display_name": "Python 3",
   "language": "python",
   "name": "python3"
  },
  "language_info": {
   "codemirror_mode": {
    "name": "ipython",
    "version": 3
   },
   "file_extension": ".py",
   "mimetype": "text/x-python",
   "name": "python",
   "nbconvert_exporter": "python",
   "pygments_lexer": "ipython3",
   "version": "3.9.0"
  }
 },
 "nbformat": 4,
 "nbformat_minor": 4
}
