{
 "cells": [
  {
   "cell_type": "code",
   "execution_count": 1,
   "metadata": {},
   "outputs": [],
   "source": [
    "import findspark\n",
    "findspark.init()"
   ]
  },
  {
   "cell_type": "code",
   "execution_count": 243,
   "metadata": {},
   "outputs": [],
   "source": [
    "# from pyspark import SparkContext\n",
    "from pyspark.sql.functions import explode,concat,monotonically_increasing_id, row_number,coalesce\n",
    "from pyspark.sql.window import Window\n",
    "from pyspark.sql import SparkSession\n",
    "from pyspark.conf import SparkConf\n",
    "from pyspark.sql import SQLContext\n",
    "from pyspark.mllib.regression import LabeledPoint\n",
    "from pyspark.mllib.classification import LogisticRegressionWithSGD\n",
    "from pyspark.ml.feature import HashingTF, Tokenizer\n",
    "from pyspark.ml import Pipeline\n",
    "from pyspark.ml.classification import LinearSVC\n",
    "from pyspark.mllib.regression import LabeledPoint\n",
    "from pyspark.sql import Row\n",
    "from pyspark.sql import functions as f\n",
    "from pyspark.sql.functions import monotonically_increasing_id \n",
    "import pandas as pd\n",
    "import numpy as np\n",
    "import seaborn as sns\n",
    "import matplotlib.pyplot as plt\n",
    "%matplotlib inline\n",
    "spark = SparkSession.builder.master(\"local\").appName(\"Search\").config(conf=SparkConf()).getOrCreate()"
   ]
  },
  {
   "cell_type": "code",
   "execution_count": 190,
   "metadata": {},
   "outputs": [],
   "source": [
    "from pyspark.sql.types import StructType, StructField, StringType,BooleanType,IntegerType"
   ]
  },
  {
   "cell_type": "code",
   "execution_count": 199,
   "metadata": {},
   "outputs": [
    {
     "name": "stdout",
     "output_type": "stream",
     "text": [
      "+----------------------+\n",
      "|icd_code_10th_revision|\n",
      "+----------------------+\n",
      "|                  I500|\n",
      "|                  C349|\n",
      "|                  G309|\n",
      "|                   X91|\n",
      "|                  I250|\n",
      "+----------------------+\n",
      "only showing top 5 rows\n",
      "\n"
     ]
    }
   ],
   "source": [
    "df = spark.read.format(\"csv\").option(\"header\", \"true\").load(\"../2015_data/2015_data.csv\")\n",
    "df.select('icd_code_10th_revision').show(n=5)\n"
   ]
  },
  {
   "cell_type": "code",
   "execution_count": 66,
   "metadata": {},
   "outputs": [],
   "source": [
    "# codes = spark.read.option(\"multiline\",\"true\").json(\"../2015_data/2015.json\")\n",
    "# codes.select('icd_code_10th_revision').show()\n"
   ]
  },
  {
   "cell_type": "markdown",
   "metadata": {},
   "source": [
    "### Race and gun deathes"
   ]
  },
  {
   "cell_type": "code",
   "execution_count": 67,
   "metadata": {},
   "outputs": [],
   "source": [
    "# some convenience reference data regarding the CDC ICD codes\n",
    "icd_gun_deaths = ['X72','X73','X74','X93','X94','X95','W32','W33','W34','Y22','Y23','Y24','Y35.0','Y36.4','U01.4']\n",
    "icd_gun_homicides = ['X93','X94','X95']\n",
    "icd_gun_suicides = ['X72','X73','X74']\n",
    "icd_gun_accident = ['W32','W33','W34']\n",
    "icd_gun_other = ['Y22','Y23','Y24','Y35.0','Y36.4','U01.4']"
   ]
  },
  {
   "cell_type": "code",
   "execution_count": 68,
   "metadata": {},
   "outputs": [],
   "source": [
    "df_guns = df.filter(df.icd_code_10th_revision.isin(icd_gun_deaths))"
   ]
  },
  {
   "cell_type": "code",
   "execution_count": 69,
   "metadata": {},
   "outputs": [],
   "source": [
    "def race_reclassify(race, hisp_orig):\n",
    "    if hisp_orig == '6':\n",
    "        return 'White'\n",
    "    elif hisp_orig == '7':\n",
    "        return 'Black'\n",
    "    elif hisp_orig == '8':\n",
    "        if race == '03':\n",
    "            return \"Native American\"\n",
    "        else:\n",
    "            return \"Asian/Pacific Islander\"\n",
    "    else:\n",
    "        return 'Hispanic'"
   ]
  },
  {
   "cell_type": "code",
   "execution_count": 70,
   "metadata": {},
   "outputs": [
    {
     "name": "stdout",
     "output_type": "stream",
     "text": [
      "+---------------+\n",
      "|   race_decoded|\n",
      "+---------------+\n",
      "|          White|\n",
      "|          White|\n",
      "|          White|\n",
      "|Native American|\n",
      "|          White|\n",
      "|Native American|\n",
      "|          White|\n",
      "|          White|\n",
      "|          White|\n",
      "|          White|\n",
      "|          White|\n",
      "|          White|\n",
      "|          White|\n",
      "|          White|\n",
      "|          White|\n",
      "|Native American|\n",
      "|Native American|\n",
      "|          White|\n",
      "|Native American|\n",
      "|          White|\n",
      "+---------------+\n",
      "only showing top 20 rows\n",
      "\n"
     ]
    }
   ],
   "source": [
    "\n",
    "df_2 = spark.createDataFrame(\n",
    "    df.rdd.map(lambda row: row + (race_reclassify(row.race,row.hispanic_originrace_recode), )), \n",
    "    df.schema.add(StructField(\"race_decoded\", StringType())))\n",
    "df_2.select('race_decoded').show()"
   ]
  },
  {
   "cell_type": "code",
   "execution_count": 74,
   "metadata": {},
   "outputs": [
    {
     "name": "stdout",
     "output_type": "stream",
     "text": [
      "+--------------------+-------+\n",
      "|        race_decoded|  count|\n",
      "+--------------------+-------+\n",
      "|     Native American|  18062|\n",
      "|Asian/Pacific Isl...|  65874|\n",
      "|               White|2125954|\n",
      "|            Hispanic| 192533|\n",
      "|               Black| 315775|\n",
      "+--------------------+-------+\n",
      "\n"
     ]
    }
   ],
   "source": [
    "df_races_deaths=df_2.groupby('race_decoded').count()\n",
    "df_races_deaths.show()"
   ]
  },
  {
   "cell_type": "code",
   "execution_count": 76,
   "metadata": {},
   "outputs": [
    {
     "name": "stdout",
     "output_type": "stream",
     "text": [
      "+--------------------+-----+\n",
      "|        race_decoded|count|\n",
      "+--------------------+-----+\n",
      "|     Native American|  345|\n",
      "|Asian/Pacific Isl...|  494|\n",
      "|               White|22794|\n",
      "|               Black| 8807|\n",
      "|            Hispanic| 3411|\n",
      "+--------------------+-----+\n",
      "\n"
     ]
    }
   ],
   "source": [
    "df_races_guns=df_2.filter(df_2.icd_code_10th_revision.isin(icd_gun_deaths)).groupby('race_decoded').count()\n",
    "df_races_guns.show()"
   ]
  },
  {
   "cell_type": "code",
   "execution_count": 77,
   "metadata": {},
   "outputs": [],
   "source": [
    "df_races_deaths_pd = df_races_deaths.toPandas()\n",
    "df_races_guns_pd = df_races_guns.toPandas()"
   ]
  },
  {
   "cell_type": "code",
   "execution_count": 163,
   "metadata": {},
   "outputs": [
    {
     "data": {
      "text/html": [
       "<div>\n",
       "<style scoped>\n",
       "    .dataframe tbody tr th:only-of-type {\n",
       "        vertical-align: middle;\n",
       "    }\n",
       "\n",
       "    .dataframe tbody tr th {\n",
       "        vertical-align: top;\n",
       "    }\n",
       "\n",
       "    .dataframe thead th {\n",
       "        text-align: right;\n",
       "    }\n",
       "</style>\n",
       "<table border=\"1\" class=\"dataframe\">\n",
       "  <thead>\n",
       "    <tr style=\"text-align: right;\">\n",
       "      <th></th>\n",
       "      <th>race_decoded</th>\n",
       "      <th>count</th>\n",
       "    </tr>\n",
       "  </thead>\n",
       "  <tbody>\n",
       "    <tr>\n",
       "      <th>0</th>\n",
       "      <td>Native American</td>\n",
       "      <td>18062</td>\n",
       "    </tr>\n",
       "    <tr>\n",
       "      <th>1</th>\n",
       "      <td>Asian/Pacific Islander</td>\n",
       "      <td>65874</td>\n",
       "    </tr>\n",
       "    <tr>\n",
       "      <th>2</th>\n",
       "      <td>White</td>\n",
       "      <td>2125954</td>\n",
       "    </tr>\n",
       "    <tr>\n",
       "      <th>3</th>\n",
       "      <td>Black</td>\n",
       "      <td>315775</td>\n",
       "    </tr>\n",
       "    <tr>\n",
       "      <th>4</th>\n",
       "      <td>Hispanic</td>\n",
       "      <td>192533</td>\n",
       "    </tr>\n",
       "  </tbody>\n",
       "</table>\n",
       "</div>"
      ],
      "text/plain": [
       "             race_decoded    count\n",
       "0         Native American    18062\n",
       "1  Asian/Pacific Islander    65874\n",
       "2                   White  2125954\n",
       "3                   Black   315775\n",
       "4                Hispanic   192533"
      ]
     },
     "execution_count": 163,
     "metadata": {},
     "output_type": "execute_result"
    }
   ],
   "source": [
    "row = df_races_deaths_pd.iloc[3,:]\n",
    "df_races_deaths_pd.iloc[3,:] = df_races_deaths_pd.iloc[4,:]\n",
    "df_races_deaths_pd.iloc[4,:] = row\n",
    "df_races_deaths_pd"
   ]
  },
  {
   "cell_type": "code",
   "execution_count": 165,
   "metadata": {},
   "outputs": [
    {
     "data": {
      "text/html": [
       "<div>\n",
       "<style scoped>\n",
       "    .dataframe tbody tr th:only-of-type {\n",
       "        vertical-align: middle;\n",
       "    }\n",
       "\n",
       "    .dataframe tbody tr th {\n",
       "        vertical-align: top;\n",
       "    }\n",
       "\n",
       "    .dataframe thead th {\n",
       "        text-align: right;\n",
       "    }\n",
       "</style>\n",
       "<table border=\"1\" class=\"dataframe\">\n",
       "  <thead>\n",
       "    <tr style=\"text-align: right;\">\n",
       "      <th></th>\n",
       "      <th>race_decoded</th>\n",
       "      <th>count</th>\n",
       "      <th>others</th>\n",
       "      <th>all</th>\n",
       "      <th>gun percentage</th>\n",
       "      <th>death by gun percentage</th>\n",
       "    </tr>\n",
       "  </thead>\n",
       "  <tbody>\n",
       "    <tr>\n",
       "      <th>0</th>\n",
       "      <td>Native American</td>\n",
       "      <td>345</td>\n",
       "      <td>17717</td>\n",
       "      <td>18062</td>\n",
       "      <td>1.910087</td>\n",
       "      <td>1.910087</td>\n",
       "    </tr>\n",
       "    <tr>\n",
       "      <th>1</th>\n",
       "      <td>Asian/Pacific Islander</td>\n",
       "      <td>494</td>\n",
       "      <td>65380</td>\n",
       "      <td>65874</td>\n",
       "      <td>0.749917</td>\n",
       "      <td>0.749917</td>\n",
       "    </tr>\n",
       "    <tr>\n",
       "      <th>2</th>\n",
       "      <td>White</td>\n",
       "      <td>22794</td>\n",
       "      <td>2103160</td>\n",
       "      <td>2125954</td>\n",
       "      <td>1.072177</td>\n",
       "      <td>1.072177</td>\n",
       "    </tr>\n",
       "    <tr>\n",
       "      <th>3</th>\n",
       "      <td>Black</td>\n",
       "      <td>8807</td>\n",
       "      <td>183726</td>\n",
       "      <td>315775</td>\n",
       "      <td>4.574281</td>\n",
       "      <td>2.789011</td>\n",
       "    </tr>\n",
       "    <tr>\n",
       "      <th>4</th>\n",
       "      <td>Hispanic</td>\n",
       "      <td>3411</td>\n",
       "      <td>312364</td>\n",
       "      <td>192533</td>\n",
       "      <td>1.080200</td>\n",
       "      <td>1.771644</td>\n",
       "    </tr>\n",
       "  </tbody>\n",
       "</table>\n",
       "</div>"
      ],
      "text/plain": [
       "             race_decoded  count   others      all  gun percentage  \\\n",
       "0         Native American    345    17717    18062        1.910087   \n",
       "1  Asian/Pacific Islander    494    65380    65874        0.749917   \n",
       "2                   White  22794  2103160  2125954        1.072177   \n",
       "3                   Black   8807   183726   315775        4.574281   \n",
       "4                Hispanic   3411   312364   192533        1.080200   \n",
       "\n",
       "   death by gun percentage  \n",
       "0                 1.910087  \n",
       "1                 0.749917  \n",
       "2                 1.072177  \n",
       "3                 2.789011  \n",
       "4                 1.771644  "
      ]
     },
     "execution_count": 165,
     "metadata": {},
     "output_type": "execute_result"
    }
   ],
   "source": [
    "df_races_guns_pd['all']=df_races_deaths_pd['count']\n",
    "df_races_guns_pd['death by gun percentage'] = 100*df_races_guns_pd['count']/df_races_guns_pd['all']\n",
    "df_races_guns_pd"
   ]
  },
  {
   "cell_type": "code",
   "execution_count": 421,
   "metadata": {},
   "outputs": [
    {
     "data": {
      "text/html": [
       "<div>\n",
       "<style scoped>\n",
       "    .dataframe tbody tr th:only-of-type {\n",
       "        vertical-align: middle;\n",
       "    }\n",
       "\n",
       "    .dataframe tbody tr th {\n",
       "        vertical-align: top;\n",
       "    }\n",
       "\n",
       "    .dataframe thead th {\n",
       "        text-align: right;\n",
       "    }\n",
       "</style>\n",
       "<table border=\"1\" class=\"dataframe\">\n",
       "  <thead>\n",
       "    <tr style=\"text-align: right;\">\n",
       "      <th></th>\n",
       "      <th>death by gun percentage</th>\n",
       "    </tr>\n",
       "    <tr>\n",
       "      <th>race</th>\n",
       "      <th></th>\n",
       "    </tr>\n",
       "  </thead>\n",
       "  <tbody>\n",
       "    <tr>\n",
       "      <th>Black</th>\n",
       "      <td>2.789011</td>\n",
       "    </tr>\n",
       "    <tr>\n",
       "      <th>Native American</th>\n",
       "      <td>1.910087</td>\n",
       "    </tr>\n",
       "    <tr>\n",
       "      <th>Hispanic</th>\n",
       "      <td>1.771644</td>\n",
       "    </tr>\n",
       "    <tr>\n",
       "      <th>White</th>\n",
       "      <td>1.072177</td>\n",
       "    </tr>\n",
       "    <tr>\n",
       "      <th>Asian/Pacific Islander</th>\n",
       "      <td>0.749917</td>\n",
       "    </tr>\n",
       "  </tbody>\n",
       "</table>\n",
       "</div>"
      ],
      "text/plain": [
       "                        death by gun percentage\n",
       "race                                           \n",
       "Black                                  2.789011\n",
       "Native American                        1.910087\n",
       "Hispanic                               1.771644\n",
       "White                                  1.072177\n",
       "Asian/Pacific Islander                 0.749917"
      ]
     },
     "execution_count": 421,
     "metadata": {},
     "output_type": "execute_result"
    }
   ],
   "source": [
    "df_draw = df_races_guns_pd[['race_decoded','death by gun percentage']]\n",
    "df_draw=df_draw.rename(columns={'race_decoded':'race'})\n",
    "df_draw = df_draw.sort_values(by='death by gun percentage',ascending=False)\n",
    "df_draw.set_index('race',inplace=True)\n",
    "df_draw"
   ]
  },
  {
   "cell_type": "code",
   "execution_count": 422,
   "metadata": {},
   "outputs": [
    {
     "data": {
      "image/png": "[encoded data removed]",
      "text/plain": [
       "<Figure size 360x360 with 1 Axes>"
      ]
     },
     "metadata": {
      "needs_background": "light"
     },
     "output_type": "display_data"
    }
   ],
   "source": [
    "df_draw.plot.bar( figsize=(5,5), title='Gun Deaths percantage by race (2015)',legend=False);"
   ]
  },
  {
   "cell_type": "markdown",
   "metadata": {},
   "source": [
    "> Black are the dying with guns more than other races and then comes native americans and hispanics."
   ]
  },
  {
   "cell_type": "markdown",
   "metadata": {},
   "source": [
    "### vehicle and gun deaths"
   ]
  },
  {
   "cell_type": "code",
   "execution_count": 123,
   "metadata": {},
   "outputs": [],
   "source": [
    "vehicle_358_cause_recode = list(range(385,398))\n",
    "vehicle_358_cause_recode=[str(ele) for ele in vehicle_358_cause_recode]\n",
    "vehicle_113_cause_recode=['114']\n",
    "vehicle_130_infant_cause_recode=['141']\n",
    "vehicle_39_cause_recode = [\"038\"]"
   ]
  },
  {
   "cell_type": "code",
   "execution_count": 124,
   "metadata": {},
   "outputs": [],
   "source": [
    "df_vehicle=df.filter(df['358_cause_recode'].isin(vehicle_358_cause_recode) | \n",
    "                     df['358_cause_recode'].isin(vehicle_113_cause_recode) |\n",
    "                    df['130_infant_cause_recode'].isin(vehicle_130_infant_cause_recode)|\n",
    "                    df['39_cause_recode'].isin(vehicle_39_cause_recode)).count()\n",
    "\n"
   ]
  },
  {
   "cell_type": "code",
   "execution_count": 132,
   "metadata": {},
   "outputs": [
    {
     "data": {
      "text/plain": [
       "70.66127690547988"
      ]
     },
     "execution_count": 132,
     "metadata": {},
     "output_type": "execute_result"
    }
   ],
   "source": [
    "sum(df_races_deaths_pd['count'])/df_vehicle"
   ]
  },
  {
   "cell_type": "code",
   "execution_count": 417,
   "metadata": {},
   "outputs": [],
   "source": [
    "df_draw = pd.DataFrame({'deaths percentage':[0,0]})\n",
    "df_draw.index = ['guns','vehicles']"
   ]
  },
  {
   "cell_type": "code",
   "execution_count": 418,
   "metadata": {},
   "outputs": [],
   "source": [
    "df_draw.loc['vehicles','deaths percentage']=100*df_vehicle/sum(df_races_deaths_pd['count'])\n",
    "df_draw.loc['guns','deaths percentage']=100*sum(df_races_guns_pd['count'])/sum(df_races_deaths_pd['count'])"
   ]
  },
  {
   "cell_type": "code",
   "execution_count": 419,
   "metadata": {},
   "outputs": [
    {
     "data": {
      "text/html": [
       "<div>\n",
       "<style scoped>\n",
       "    .dataframe tbody tr th:only-of-type {\n",
       "        vertical-align: middle;\n",
       "    }\n",
       "\n",
       "    .dataframe tbody tr th {\n",
       "        vertical-align: top;\n",
       "    }\n",
       "\n",
       "    .dataframe thead th {\n",
       "        text-align: right;\n",
       "    }\n",
       "</style>\n",
       "<table border=\"1\" class=\"dataframe\">\n",
       "  <thead>\n",
       "    <tr style=\"text-align: right;\">\n",
       "      <th></th>\n",
       "      <th>deaths percentage</th>\n",
       "    </tr>\n",
       "  </thead>\n",
       "  <tbody>\n",
       "    <tr>\n",
       "      <th>vehicles</th>\n",
       "      <td>1.415202</td>\n",
       "    </tr>\n",
       "    <tr>\n",
       "      <th>guns</th>\n",
       "      <td>1.318925</td>\n",
       "    </tr>\n",
       "  </tbody>\n",
       "</table>\n",
       "</div>"
      ],
      "text/plain": [
       "          deaths percentage\n",
       "vehicles           1.415202\n",
       "guns               1.318925"
      ]
     },
     "execution_count": 419,
     "metadata": {},
     "output_type": "execute_result"
    }
   ],
   "source": [
    "df_draw = df_draw.sort_values(by='deaths percentage',ascending=False)\n",
    "df_draw"
   ]
  },
  {
   "cell_type": "code",
   "execution_count": 420,
   "metadata": {},
   "outputs": [
    {
     "data": {
      "image/png": "[encoded data removed]",
      "text/plain": [
       "<Figure size 360x360 with 1 Axes>"
      ]
     },
     "metadata": {
      "needs_background": "light"
     },
     "output_type": "display_data"
    }
   ],
   "source": [
    "df_draw.plot.bar( figsize=(5,5), title='Guns vs. Vehicles (deaths percentage 2015)',legend=False);"
   ]
  },
  {
   "cell_type": "markdown",
   "metadata": {},
   "source": [
    "> There is almost no difference between the rates of death by guns and vehicles (around 1.4% each)"
   ]
  },
  {
   "cell_type": "markdown",
   "metadata": {},
   "source": [
    "### suicide correlation of age and education"
   ]
  },
  {
   "cell_type": "code",
   "execution_count": 200,
   "metadata": {},
   "outputs": [],
   "source": [
    "df_suicide =spark.createDataFrame(\n",
    "    df.rdd.map(lambda row: row + (int(row.manner_of_death=='2'), )), \n",
    "    df.schema.add(StructField(\"is_suicide\", IntegerType())))"
   ]
  },
  {
   "cell_type": "code",
   "execution_count": 201,
   "metadata": {},
   "outputs": [],
   "source": [
    "df_age_suicide = df_suicide.groupby('age_recode_12').agg(f.mean('is_suicide'))"
   ]
  },
  {
   "cell_type": "code",
   "execution_count": 202,
   "metadata": {},
   "outputs": [
    {
     "name": "stdout",
     "output_type": "stream",
     "text": [
      "+-------------+--------------------+\n",
      "|age_recode_12|     avg(is_suicide)|\n",
      "+-------------+--------------------+\n",
      "|           07| 0.05022778913234606|\n",
      "|           11|0.001428828860250...|\n",
      "|           01|                 0.0|\n",
      "|           09| 0.00852299637032006|\n",
      "|           05| 0.13478395180908986|\n",
      "|           08| 0.02166948944799768|\n",
      "|           03| 0.07590759075907591|\n",
      "|           02|                 0.0|\n",
      "|           06| 0.09482969860328351|\n",
      "|           10|0.003923712380134894|\n",
      "|           12| 0.02680965147453083|\n",
      "|           04| 0.17940697295536004|\n",
      "+-------------+--------------------+\n",
      "\n"
     ]
    }
   ],
   "source": [
    "df_age_suicide.show()"
   ]
  },
  {
   "cell_type": "code",
   "execution_count": 204,
   "metadata": {},
   "outputs": [],
   "source": [
    "ages_map_dict = {\n",
    "\"10\":\"75 - 84 years\",\n",
    "\"11\":\"85 years and over\",\n",
    "\"12\":\"Age not stated\",\n",
    "\"01\":\"Under 1 year (includes not stated infant ages)\",\n",
    "\"02\":\"1 - 4 years\",\n",
    "\"03\":\"5 - 14 years\",\n",
    "\"04\":\"15 - 24 years\",\n",
    "\"05\":\"25 - 34 years\",\n",
    "\"06\":\"35 - 44 years\",\n",
    "\"07\":\"45 - 54 years\",\n",
    "\"08\":\"55 - 64 years\",\n",
    "\"09\":\"65 - 74 years\",\n",
    "}"
   ]
  },
  {
   "cell_type": "code",
   "execution_count": 222,
   "metadata": {},
   "outputs": [
    {
     "data": {
      "text/html": [
       "<div>\n",
       "<style scoped>\n",
       "    .dataframe tbody tr th:only-of-type {\n",
       "        vertical-align: middle;\n",
       "    }\n",
       "\n",
       "    .dataframe tbody tr th {\n",
       "        vertical-align: top;\n",
       "    }\n",
       "\n",
       "    .dataframe thead th {\n",
       "        text-align: right;\n",
       "    }\n",
       "</style>\n",
       "<table border=\"1\" class=\"dataframe\">\n",
       "  <thead>\n",
       "    <tr style=\"text-align: right;\">\n",
       "      <th></th>\n",
       "      <th>age_recode_12</th>\n",
       "      <th>avg(is_suicide)</th>\n",
       "    </tr>\n",
       "  </thead>\n",
       "  <tbody>\n",
       "    <tr>\n",
       "      <th>0</th>\n",
       "      <td>07</td>\n",
       "      <td>0.050228</td>\n",
       "    </tr>\n",
       "    <tr>\n",
       "      <th>1</th>\n",
       "      <td>11</td>\n",
       "      <td>0.001429</td>\n",
       "    </tr>\n",
       "    <tr>\n",
       "      <th>2</th>\n",
       "      <td>01</td>\n",
       "      <td>0.000000</td>\n",
       "    </tr>\n",
       "    <tr>\n",
       "      <th>3</th>\n",
       "      <td>09</td>\n",
       "      <td>0.008523</td>\n",
       "    </tr>\n",
       "    <tr>\n",
       "      <th>4</th>\n",
       "      <td>05</td>\n",
       "      <td>0.134784</td>\n",
       "    </tr>\n",
       "    <tr>\n",
       "      <th>5</th>\n",
       "      <td>08</td>\n",
       "      <td>0.021669</td>\n",
       "    </tr>\n",
       "    <tr>\n",
       "      <th>6</th>\n",
       "      <td>03</td>\n",
       "      <td>0.075908</td>\n",
       "    </tr>\n",
       "    <tr>\n",
       "      <th>7</th>\n",
       "      <td>02</td>\n",
       "      <td>0.000000</td>\n",
       "    </tr>\n",
       "    <tr>\n",
       "      <th>8</th>\n",
       "      <td>06</td>\n",
       "      <td>0.094830</td>\n",
       "    </tr>\n",
       "    <tr>\n",
       "      <th>9</th>\n",
       "      <td>10</td>\n",
       "      <td>0.003924</td>\n",
       "    </tr>\n",
       "    <tr>\n",
       "      <th>10</th>\n",
       "      <td>12</td>\n",
       "      <td>0.026810</td>\n",
       "    </tr>\n",
       "    <tr>\n",
       "      <th>11</th>\n",
       "      <td>04</td>\n",
       "      <td>0.179407</td>\n",
       "    </tr>\n",
       "  </tbody>\n",
       "</table>\n",
       "</div>"
      ],
      "text/plain": [
       "   age_recode_12  avg(is_suicide)\n",
       "0             07         0.050228\n",
       "1             11         0.001429\n",
       "2             01         0.000000\n",
       "3             09         0.008523\n",
       "4             05         0.134784\n",
       "5             08         0.021669\n",
       "6             03         0.075908\n",
       "7             02         0.000000\n",
       "8             06         0.094830\n",
       "9             10         0.003924\n",
       "10            12         0.026810\n",
       "11            04         0.179407"
      ]
     },
     "execution_count": 222,
     "metadata": {},
     "output_type": "execute_result"
    }
   ],
   "source": [
    "df_age_suicide_pd = df_age_suicide.toPandas()\n",
    "df_age_suicide_pd"
   ]
  },
  {
   "cell_type": "code",
   "execution_count": 223,
   "metadata": {},
   "outputs": [],
   "source": [
    "df_age_suicide_pd['age_recode_12_2'] = df_age_suicide_pd['age_recode_12'].astype('int')\n",
    "df_age_suicide_pd = df_age_suicide_pd.sort_values(by='age_recode_12_2')"
   ]
  },
  {
   "cell_type": "code",
   "execution_count": 413,
   "metadata": {},
   "outputs": [
    {
     "data": {
      "text/html": [
       "<div>\n",
       "<style scoped>\n",
       "    .dataframe tbody tr th:only-of-type {\n",
       "        vertical-align: middle;\n",
       "    }\n",
       "\n",
       "    .dataframe tbody tr th {\n",
       "        vertical-align: top;\n",
       "    }\n",
       "\n",
       "    .dataframe thead th {\n",
       "        text-align: right;\n",
       "    }\n",
       "</style>\n",
       "<table border=\"1\" class=\"dataframe\">\n",
       "  <thead>\n",
       "    <tr style=\"text-align: right;\">\n",
       "      <th></th>\n",
       "      <th>age</th>\n",
       "      <th>suicide_percentage</th>\n",
       "      <th>age_recode_12_2</th>\n",
       "    </tr>\n",
       "  </thead>\n",
       "  <tbody>\n",
       "    <tr>\n",
       "      <th>2</th>\n",
       "      <td>Under 1 year (includes not stated infant ages)</td>\n",
       "      <td>0.000000</td>\n",
       "      <td>1</td>\n",
       "    </tr>\n",
       "    <tr>\n",
       "      <th>7</th>\n",
       "      <td>1 - 4 years</td>\n",
       "      <td>0.000000</td>\n",
       "      <td>2</td>\n",
       "    </tr>\n",
       "    <tr>\n",
       "      <th>6</th>\n",
       "      <td>5 - 14 years</td>\n",
       "      <td>0.075908</td>\n",
       "      <td>3</td>\n",
       "    </tr>\n",
       "    <tr>\n",
       "      <th>11</th>\n",
       "      <td>15 - 24 years</td>\n",
       "      <td>0.179407</td>\n",
       "      <td>4</td>\n",
       "    </tr>\n",
       "    <tr>\n",
       "      <th>4</th>\n",
       "      <td>25 - 34 years</td>\n",
       "      <td>0.134784</td>\n",
       "      <td>5</td>\n",
       "    </tr>\n",
       "    <tr>\n",
       "      <th>8</th>\n",
       "      <td>35 - 44 years</td>\n",
       "      <td>0.094830</td>\n",
       "      <td>6</td>\n",
       "    </tr>\n",
       "    <tr>\n",
       "      <th>0</th>\n",
       "      <td>45 - 54 years</td>\n",
       "      <td>0.050228</td>\n",
       "      <td>7</td>\n",
       "    </tr>\n",
       "    <tr>\n",
       "      <th>5</th>\n",
       "      <td>55 - 64 years</td>\n",
       "      <td>0.021669</td>\n",
       "      <td>8</td>\n",
       "    </tr>\n",
       "    <tr>\n",
       "      <th>3</th>\n",
       "      <td>65 - 74 years</td>\n",
       "      <td>0.008523</td>\n",
       "      <td>9</td>\n",
       "    </tr>\n",
       "    <tr>\n",
       "      <th>9</th>\n",
       "      <td>75 - 84 years</td>\n",
       "      <td>0.003924</td>\n",
       "      <td>10</td>\n",
       "    </tr>\n",
       "    <tr>\n",
       "      <th>1</th>\n",
       "      <td>85 years and over</td>\n",
       "      <td>0.001429</td>\n",
       "      <td>11</td>\n",
       "    </tr>\n",
       "    <tr>\n",
       "      <th>10</th>\n",
       "      <td>Age not stated</td>\n",
       "      <td>0.026810</td>\n",
       "      <td>12</td>\n",
       "    </tr>\n",
       "  </tbody>\n",
       "</table>\n",
       "</div>"
      ],
      "text/plain": [
       "                                               age  suicide_percentage  \\\n",
       "2   Under 1 year (includes not stated infant ages)            0.000000   \n",
       "7                                      1 - 4 years            0.000000   \n",
       "6                                     5 - 14 years            0.075908   \n",
       "11                                   15 - 24 years            0.179407   \n",
       "4                                    25 - 34 years            0.134784   \n",
       "8                                    35 - 44 years            0.094830   \n",
       "0                                    45 - 54 years            0.050228   \n",
       "5                                    55 - 64 years            0.021669   \n",
       "3                                    65 - 74 years            0.008523   \n",
       "9                                    75 - 84 years            0.003924   \n",
       "1                                85 years and over            0.001429   \n",
       "10                                  Age not stated            0.026810   \n",
       "\n",
       "    age_recode_12_2  \n",
       "2                 1  \n",
       "7                 2  \n",
       "6                 3  \n",
       "11                4  \n",
       "4                 5  \n",
       "8                 6  \n",
       "0                 7  \n",
       "5                 8  \n",
       "3                 9  \n",
       "9                10  \n",
       "1                11  \n",
       "10               12  "
      ]
     },
     "execution_count": 413,
     "metadata": {},
     "output_type": "execute_result"
    }
   ],
   "source": [
    "df_draw = df_age_suicide_pd.rename(columns={'avg(is_suicide)':'suicide_percentage','age_recode_12':'age'})\n",
    "df_draw['age'] = df_draw['age'].map(ages_map_dict)\n",
    "df_draw"
   ]
  },
  {
   "cell_type": "code",
   "execution_count": 414,
   "metadata": {},
   "outputs": [
    {
     "data": {
      "text/html": [
       "<div>\n",
       "<style scoped>\n",
       "    .dataframe tbody tr th:only-of-type {\n",
       "        vertical-align: middle;\n",
       "    }\n",
       "\n",
       "    .dataframe tbody tr th {\n",
       "        vertical-align: top;\n",
       "    }\n",
       "\n",
       "    .dataframe thead th {\n",
       "        text-align: right;\n",
       "    }\n",
       "</style>\n",
       "<table border=\"1\" class=\"dataframe\">\n",
       "  <thead>\n",
       "    <tr style=\"text-align: right;\">\n",
       "      <th></th>\n",
       "      <th>age</th>\n",
       "      <th>suicide_percentage</th>\n",
       "      <th>age_recode_12_2</th>\n",
       "    </tr>\n",
       "  </thead>\n",
       "  <tbody>\n",
       "    <tr>\n",
       "      <th>2</th>\n",
       "      <td>Under 1 year (includes not stated infant ages)</td>\n",
       "      <td>0.000000</td>\n",
       "      <td>1</td>\n",
       "    </tr>\n",
       "    <tr>\n",
       "      <th>7</th>\n",
       "      <td>1 - 4 years</td>\n",
       "      <td>0.000000</td>\n",
       "      <td>2</td>\n",
       "    </tr>\n",
       "    <tr>\n",
       "      <th>6</th>\n",
       "      <td>5 - 14 years</td>\n",
       "      <td>7.590759</td>\n",
       "      <td>3</td>\n",
       "    </tr>\n",
       "    <tr>\n",
       "      <th>11</th>\n",
       "      <td>15 - 24 years</td>\n",
       "      <td>17.940697</td>\n",
       "      <td>4</td>\n",
       "    </tr>\n",
       "    <tr>\n",
       "      <th>4</th>\n",
       "      <td>25 - 34 years</td>\n",
       "      <td>13.478395</td>\n",
       "      <td>5</td>\n",
       "    </tr>\n",
       "    <tr>\n",
       "      <th>8</th>\n",
       "      <td>35 - 44 years</td>\n",
       "      <td>9.482970</td>\n",
       "      <td>6</td>\n",
       "    </tr>\n",
       "    <tr>\n",
       "      <th>0</th>\n",
       "      <td>45 - 54 years</td>\n",
       "      <td>5.022779</td>\n",
       "      <td>7</td>\n",
       "    </tr>\n",
       "    <tr>\n",
       "      <th>5</th>\n",
       "      <td>55 - 64 years</td>\n",
       "      <td>2.166949</td>\n",
       "      <td>8</td>\n",
       "    </tr>\n",
       "    <tr>\n",
       "      <th>3</th>\n",
       "      <td>65 - 74 years</td>\n",
       "      <td>0.852300</td>\n",
       "      <td>9</td>\n",
       "    </tr>\n",
       "    <tr>\n",
       "      <th>9</th>\n",
       "      <td>75 - 84 years</td>\n",
       "      <td>0.392371</td>\n",
       "      <td>10</td>\n",
       "    </tr>\n",
       "    <tr>\n",
       "      <th>1</th>\n",
       "      <td>85 years and over</td>\n",
       "      <td>0.142883</td>\n",
       "      <td>11</td>\n",
       "    </tr>\n",
       "    <tr>\n",
       "      <th>10</th>\n",
       "      <td>Age not stated</td>\n",
       "      <td>2.680965</td>\n",
       "      <td>12</td>\n",
       "    </tr>\n",
       "  </tbody>\n",
       "</table>\n",
       "</div>"
      ],
      "text/plain": [
       "                                               age  suicide_percentage  \\\n",
       "2   Under 1 year (includes not stated infant ages)            0.000000   \n",
       "7                                      1 - 4 years            0.000000   \n",
       "6                                     5 - 14 years            7.590759   \n",
       "11                                   15 - 24 years           17.940697   \n",
       "4                                    25 - 34 years           13.478395   \n",
       "8                                    35 - 44 years            9.482970   \n",
       "0                                    45 - 54 years            5.022779   \n",
       "5                                    55 - 64 years            2.166949   \n",
       "3                                    65 - 74 years            0.852300   \n",
       "9                                    75 - 84 years            0.392371   \n",
       "1                                85 years and over            0.142883   \n",
       "10                                  Age not stated            2.680965   \n",
       "\n",
       "    age_recode_12_2  \n",
       "2                 1  \n",
       "7                 2  \n",
       "6                 3  \n",
       "11                4  \n",
       "4                 5  \n",
       "8                 6  \n",
       "0                 7  \n",
       "5                 8  \n",
       "3                 9  \n",
       "9                10  \n",
       "1                11  \n",
       "10               12  "
      ]
     },
     "execution_count": 414,
     "metadata": {},
     "output_type": "execute_result"
    }
   ],
   "source": [
    "df_draw['suicide_percentage'] = 100* df_draw['suicide_percentage']\n",
    "df_draw"
   ]
  },
  {
   "cell_type": "code",
   "execution_count": 415,
   "metadata": {},
   "outputs": [],
   "source": [
    "df_draw = df_draw.set_index('age')"
   ]
  },
  {
   "cell_type": "code",
   "execution_count": 416,
   "metadata": {},
   "outputs": [
    {
     "data": {
      "image/png": "[encoded data removed]",
      "text/plain": [
       "<Figure size 432x288 with 1 Axes>"
      ]
     },
     "metadata": {
      "needs_background": "light"
     },
     "output_type": "display_data"
    }
   ],
   "source": [
    "df_draw[['suicide_percentage']].iloc[1:-1,:].plot(title='suicide percenatge by age',legend=False)\n",
    "plt.xticks(rotation=90);"
   ]
  },
  {
   "cell_type": "markdown",
   "metadata": {},
   "source": [
    "> The graph shows a peak in the 15-24 years youth for about 17.5% and then gets low again.\n",
    " "
   ]
  },
  {
   "cell_type": "code",
   "execution_count": 330,
   "metadata": {},
   "outputs": [],
   "source": [
    "\n",
    "education_2003_revision={\n",
    "\"00\":\"No formal education\",\n",
    "\"1\":\"8th grade or less\",\n",
    "\"2\":\"9 - 12th grade, no diploma\",\n",
    "\"3\":\"high school graduate or GED completed\",\n",
    "\"4\":\"some college credit, but no degree\",\n",
    "\"5\":\"Associate degree\",\n",
    "\"6\":\"Bachelor’s degree\",\n",
    "\"7\":\"Master’s degree\",\n",
    "\"8\":\"Doctorate or professional degree\"\n",
    "\n",
    "}"
   ]
  },
  {
   "cell_type": "code",
   "execution_count": 271,
   "metadata": {},
   "outputs": [],
   "source": [
    "df_education_suicide = df_suicide.select(df_suicide['is_suicide'],coalesce(df_suicide[\"education_1989_revision\"], df_suicide[\"education_2003_revision\"]).alias('all_education'))"
   ]
  },
  {
   "cell_type": "code",
   "execution_count": 272,
   "metadata": {},
   "outputs": [],
   "source": [
    "df_education_suicide = df_education_suicide.groupby('all_education').agg(f.sum('is_suicide'),f.count('is_suicide'))\n",
    "df_education_suicide_pd = df_education_suicide.toPandas()"
   ]
  },
  {
   "cell_type": "code",
   "execution_count": 408,
   "metadata": {},
   "outputs": [],
   "source": [
    "df_draw = df_education_suicide_pd.copy()\n",
    "df_draw = df_draw.set_index('all_education')\n"
   ]
  },
  {
   "cell_type": "code",
   "execution_count": 409,
   "metadata": {},
   "outputs": [],
   "source": [
    "for i in range(1,9):\n",
    "    \n",
    "    df_draw.loc['1',['sum(is_suicide)','count(is_suicide)']] += df_draw.loc['0'+str(i),['sum(is_suicide)','count(is_suicide)']]\n",
    "#     print(df_draw.loc['8',['sum(is_suicide)','count(is_suicide)']])\n",
    "df_draw.loc['2',['sum(is_suicide)','count(is_suicide)']] += df_draw.loc['09',['sum(is_suicide)','count(is_suicide)']]\n",
    "\n",
    "for i in range(10,13):\n",
    "    df_draw.loc['2',['sum(is_suicide)','count(is_suicide)']] += df_draw.loc[str(i),['sum(is_suicide)','count(is_suicide)']]\n",
    "for i in range(13,18):\n",
    "    df_draw.loc['4',['sum(is_suicide)','count(is_suicide)']] += df_draw.loc[str(i),['sum(is_suicide)','count(is_suicide)']]"
   ]
  },
  {
   "cell_type": "code",
   "execution_count": 410,
   "metadata": {},
   "outputs": [
    {
     "data": {
      "text/html": [
       "<div>\n",
       "<style scoped>\n",
       "    .dataframe tbody tr th:only-of-type {\n",
       "        vertical-align: middle;\n",
       "    }\n",
       "\n",
       "    .dataframe tbody tr th {\n",
       "        vertical-align: top;\n",
       "    }\n",
       "\n",
       "    .dataframe thead th {\n",
       "        text-align: right;\n",
       "    }\n",
       "</style>\n",
       "<table border=\"1\" class=\"dataframe\">\n",
       "  <thead>\n",
       "    <tr style=\"text-align: right;\">\n",
       "      <th></th>\n",
       "      <th>sum(is_suicide)</th>\n",
       "      <th>count(is_suicide)</th>\n",
       "    </tr>\n",
       "    <tr>\n",
       "      <th>all_education</th>\n",
       "      <th></th>\n",
       "      <th></th>\n",
       "    </tr>\n",
       "  </thead>\n",
       "  <tbody>\n",
       "    <tr>\n",
       "      <th>7</th>\n",
       "      <td>1754</td>\n",
       "      <td>103978</td>\n",
       "    </tr>\n",
       "    <tr>\n",
       "      <th>3</th>\n",
       "      <td>16853</td>\n",
       "      <td>1077604</td>\n",
       "    </tr>\n",
       "    <tr>\n",
       "      <th>8</th>\n",
       "      <td>864</td>\n",
       "      <td>43688</td>\n",
       "    </tr>\n",
       "    <tr>\n",
       "      <th>5</th>\n",
       "      <td>3259</td>\n",
       "      <td>154326</td>\n",
       "    </tr>\n",
       "    <tr>\n",
       "      <th>00</th>\n",
       "      <td>0</td>\n",
       "      <td>1006</td>\n",
       "    </tr>\n",
       "    <tr>\n",
       "      <th>6</th>\n",
       "      <td>5256</td>\n",
       "      <td>261106</td>\n",
       "    </tr>\n",
       "    <tr>\n",
       "      <th>1</th>\n",
       "      <td>1665</td>\n",
       "      <td>299608</td>\n",
       "    </tr>\n",
       "    <tr>\n",
       "      <th>4</th>\n",
       "      <td>7807</td>\n",
       "      <td>334753</td>\n",
       "    </tr>\n",
       "    <tr>\n",
       "      <th>2</th>\n",
       "      <td>5743</td>\n",
       "      <td>321511</td>\n",
       "    </tr>\n",
       "  </tbody>\n",
       "</table>\n",
       "</div>"
      ],
      "text/plain": [
       "               sum(is_suicide)  count(is_suicide)\n",
       "all_education                                    \n",
       "7                         1754             103978\n",
       "3                        16853            1077604\n",
       "8                          864              43688\n",
       "5                         3259             154326\n",
       "00                           0               1006\n",
       "6                         5256             261106\n",
       "1                         1665             299608\n",
       "4                         7807             334753\n",
       "2                         5743             321511"
      ]
     },
     "execution_count": 410,
     "metadata": {},
     "output_type": "execute_result"
    }
   ],
   "source": [
    "rows_to_drop = ['0'+str(i)for i in range(1,10)]+[str(i)for i in range(10,18)]+['99','9']\n",
    "df_draw = df_draw.drop(rows_to_drop)\n",
    "df_draw"
   ]
  },
  {
   "cell_type": "code",
   "execution_count": 411,
   "metadata": {},
   "outputs": [
    {
     "data": {
      "text/html": [
       "<div>\n",
       "<style scoped>\n",
       "    .dataframe tbody tr th:only-of-type {\n",
       "        vertical-align: middle;\n",
       "    }\n",
       "\n",
       "    .dataframe tbody tr th {\n",
       "        vertical-align: top;\n",
       "    }\n",
       "\n",
       "    .dataframe thead th {\n",
       "        text-align: right;\n",
       "    }\n",
       "</style>\n",
       "<table border=\"1\" class=\"dataframe\">\n",
       "  <thead>\n",
       "    <tr style=\"text-align: right;\">\n",
       "      <th></th>\n",
       "      <th>all_education</th>\n",
       "      <th>sum(is_suicide)</th>\n",
       "      <th>count(is_suicide)</th>\n",
       "      <th>sorting</th>\n",
       "    </tr>\n",
       "  </thead>\n",
       "  <tbody>\n",
       "    <tr>\n",
       "      <th>4</th>\n",
       "      <td>No formal education</td>\n",
       "      <td>0</td>\n",
       "      <td>1006</td>\n",
       "      <td>0</td>\n",
       "    </tr>\n",
       "    <tr>\n",
       "      <th>6</th>\n",
       "      <td>8th grade or less</td>\n",
       "      <td>1665</td>\n",
       "      <td>299608</td>\n",
       "      <td>1</td>\n",
       "    </tr>\n",
       "    <tr>\n",
       "      <th>8</th>\n",
       "      <td>9 - 12th grade, no diploma</td>\n",
       "      <td>5743</td>\n",
       "      <td>321511</td>\n",
       "      <td>2</td>\n",
       "    </tr>\n",
       "    <tr>\n",
       "      <th>1</th>\n",
       "      <td>high school graduate or GED completed</td>\n",
       "      <td>16853</td>\n",
       "      <td>1077604</td>\n",
       "      <td>3</td>\n",
       "    </tr>\n",
       "    <tr>\n",
       "      <th>7</th>\n",
       "      <td>some college credit, but no degree</td>\n",
       "      <td>7807</td>\n",
       "      <td>334753</td>\n",
       "      <td>4</td>\n",
       "    </tr>\n",
       "    <tr>\n",
       "      <th>3</th>\n",
       "      <td>Associate degree</td>\n",
       "      <td>3259</td>\n",
       "      <td>154326</td>\n",
       "      <td>5</td>\n",
       "    </tr>\n",
       "    <tr>\n",
       "      <th>5</th>\n",
       "      <td>Bachelor’s degree</td>\n",
       "      <td>5256</td>\n",
       "      <td>261106</td>\n",
       "      <td>6</td>\n",
       "    </tr>\n",
       "    <tr>\n",
       "      <th>0</th>\n",
       "      <td>Master’s degree</td>\n",
       "      <td>1754</td>\n",
       "      <td>103978</td>\n",
       "      <td>7</td>\n",
       "    </tr>\n",
       "    <tr>\n",
       "      <th>2</th>\n",
       "      <td>Doctorate or professional degree</td>\n",
       "      <td>864</td>\n",
       "      <td>43688</td>\n",
       "      <td>8</td>\n",
       "    </tr>\n",
       "  </tbody>\n",
       "</table>\n",
       "</div>"
      ],
      "text/plain": [
       "                           all_education  sum(is_suicide)  count(is_suicide)  \\\n",
       "4                    No formal education                0               1006   \n",
       "6                      8th grade or less             1665             299608   \n",
       "8             9 - 12th grade, no diploma             5743             321511   \n",
       "1  high school graduate or GED completed            16853            1077604   \n",
       "7     some college credit, but no degree             7807             334753   \n",
       "3                       Associate degree             3259             154326   \n",
       "5                      Bachelor’s degree             5256             261106   \n",
       "0                        Master’s degree             1754             103978   \n",
       "2       Doctorate or professional degree              864              43688   \n",
       "\n",
       "   sorting  \n",
       "4        0  \n",
       "6        1  \n",
       "8        2  \n",
       "1        3  \n",
       "7        4  \n",
       "3        5  \n",
       "5        6  \n",
       "0        7  \n",
       "2        8  "
      ]
     },
     "execution_count": 411,
     "metadata": {},
     "output_type": "execute_result"
    }
   ],
   "source": [
    "df_draw = df_draw.reset_index()\n",
    "df_draw['sorting'] = df_draw['all_education'].astype('int')\n",
    "df_draw = df_draw.sort_values(by='sorting')\n",
    "df_draw['all_education'] = df_draw['all_education'].map(education_2003_revision)\n",
    "df_draw"
   ]
  },
  {
   "cell_type": "code",
   "execution_count": 412,
   "metadata": {},
   "outputs": [
    {
     "data": {
      "image/png": "[encoded data removed]",
      "text/plain": [
       "<Figure size 432x288 with 1 Axes>"
      ]
     },
     "metadata": {
      "needs_background": "light"
     },
     "output_type": "display_data"
    }
   ],
   "source": [
    "df_draw = df_draw.set_index('all_education')\n",
    "df_draw['suicide percentage'] = 100*df_draw['sum(is_suicide)']/df_draw['count(is_suicide)']\n",
    "df_draw[['suicide percentage']].plot(title='suicide percenatge by education',legend=False)\n",
    "plt.xticks(rotation=90);"
   ]
  },
  {
   "cell_type": "markdown",
   "metadata": {},
   "source": [
    "> It can be observed that the highest suiscide percentage is among college students with no degree\n",
    "\n",
    ">This high rate may be related to the age range for college students (20-24).\n",
    "\n",
    "> The rates remain high with higher degrees although they are olderin lower suicide rates."
   ]
  },
  {
   "cell_type": "markdown",
   "metadata": {},
   "source": [
    "### Homicide vs other death causes"
   ]
  },
  {
   "cell_type": "code",
   "execution_count": 387,
   "metadata": {},
   "outputs": [],
   "source": [
    "df_homicide = df_suicide.groupby('manner_of_death').agg(f.count('manner_of_death'))\n",
    "df_homicide_pd = df_homicide.toPandas()"
   ]
  },
  {
   "cell_type": "code",
   "execution_count": 390,
   "metadata": {},
   "outputs": [
    {
     "data": {
      "text/html": [
       "<div>\n",
       "<style scoped>\n",
       "    .dataframe tbody tr th:only-of-type {\n",
       "        vertical-align: middle;\n",
       "    }\n",
       "\n",
       "    .dataframe tbody tr th {\n",
       "        vertical-align: top;\n",
       "    }\n",
       "\n",
       "    .dataframe thead th {\n",
       "        text-align: right;\n",
       "    }\n",
       "</style>\n",
       "<table border=\"1\" class=\"dataframe\">\n",
       "  <thead>\n",
       "    <tr style=\"text-align: right;\">\n",
       "      <th></th>\n",
       "      <th>manner_of_death</th>\n",
       "      <th>count(manner_of_death)</th>\n",
       "    </tr>\n",
       "  </thead>\n",
       "  <tbody>\n",
       "    <tr>\n",
       "      <th>0</th>\n",
       "      <td>7</td>\n",
       "      <td>2107352</td>\n",
       "    </tr>\n",
       "    <tr>\n",
       "      <th>1</th>\n",
       "      <td>3</td>\n",
       "      <td>18885</td>\n",
       "    </tr>\n",
       "    <tr>\n",
       "      <th>2</th>\n",
       "      <td>None</td>\n",
       "      <td>0</td>\n",
       "    </tr>\n",
       "    <tr>\n",
       "      <th>3</th>\n",
       "      <td>5</td>\n",
       "      <td>11054</td>\n",
       "    </tr>\n",
       "    <tr>\n",
       "      <th>4</th>\n",
       "      <td>1</td>\n",
       "      <td>143961</td>\n",
       "    </tr>\n",
       "    <tr>\n",
       "      <th>5</th>\n",
       "      <td>4</td>\n",
       "      <td>4165</td>\n",
       "    </tr>\n",
       "    <tr>\n",
       "      <th>6</th>\n",
       "      <td>2</td>\n",
       "      <td>44417</td>\n",
       "    </tr>\n",
       "  </tbody>\n",
       "</table>\n",
       "</div>"
      ],
      "text/plain": [
       "  manner_of_death  count(manner_of_death)\n",
       "0               7                 2107352\n",
       "1               3                   18885\n",
       "2            None                       0\n",
       "3               5                   11054\n",
       "4               1                  143961\n",
       "5               4                    4165\n",
       "6               2                   44417"
      ]
     },
     "execution_count": 390,
     "metadata": {},
     "output_type": "execute_result"
    }
   ],
   "source": [
    "df_homicide_pd"
   ]
  },
  {
   "cell_type": "code",
   "execution_count": 391,
   "metadata": {},
   "outputs": [],
   "source": [
    "manner_of_death={\n",
    "\"1\":\"Accident\",\n",
    "\"2\":\"Suicide\",\n",
    "\"3\":\"Homicide\",\n",
    "\"4\":\"Pending investigation\",\n",
    "\"5\":\"Could not determine\",\n",
    "\"6\":\"Self-Inflicted\",\n",
    "\"7\":\"Natural\",\n",
    "\"Blank\":\"Not specified\",\n",
    "}"
   ]
  },
  {
   "cell_type": "code",
   "execution_count": 395,
   "metadata": {},
   "outputs": [
    {
     "data": {
      "text/html": [
       "<div>\n",
       "<style scoped>\n",
       "    .dataframe tbody tr th:only-of-type {\n",
       "        vertical-align: middle;\n",
       "    }\n",
       "\n",
       "    .dataframe tbody tr th {\n",
       "        vertical-align: top;\n",
       "    }\n",
       "\n",
       "    .dataframe thead th {\n",
       "        text-align: right;\n",
       "    }\n",
       "</style>\n",
       "<table border=\"1\" class=\"dataframe\">\n",
       "  <thead>\n",
       "    <tr style=\"text-align: right;\">\n",
       "      <th></th>\n",
       "      <th>manner_of_death</th>\n",
       "      <th>death cause</th>\n",
       "    </tr>\n",
       "  </thead>\n",
       "  <tbody>\n",
       "    <tr>\n",
       "      <th>0</th>\n",
       "      <td>Natural</td>\n",
       "      <td>2107352</td>\n",
       "    </tr>\n",
       "    <tr>\n",
       "      <th>1</th>\n",
       "      <td>Homicide</td>\n",
       "      <td>18885</td>\n",
       "    </tr>\n",
       "    <tr>\n",
       "      <th>3</th>\n",
       "      <td>Could not determine</td>\n",
       "      <td>11054</td>\n",
       "    </tr>\n",
       "    <tr>\n",
       "      <th>4</th>\n",
       "      <td>Accident</td>\n",
       "      <td>143961</td>\n",
       "    </tr>\n",
       "    <tr>\n",
       "      <th>5</th>\n",
       "      <td>Pending investigation</td>\n",
       "      <td>4165</td>\n",
       "    </tr>\n",
       "    <tr>\n",
       "      <th>6</th>\n",
       "      <td>Suicide</td>\n",
       "      <td>44417</td>\n",
       "    </tr>\n",
       "  </tbody>\n",
       "</table>\n",
       "</div>"
      ],
      "text/plain": [
       "         manner_of_death  death cause\n",
       "0                Natural      2107352\n",
       "1               Homicide        18885\n",
       "3    Could not determine        11054\n",
       "4               Accident       143961\n",
       "5  Pending investigation         4165\n",
       "6                Suicide        44417"
      ]
     },
     "execution_count": 395,
     "metadata": {},
     "output_type": "execute_result"
    }
   ],
   "source": [
    "df_draw"
   ]
  },
  {
   "cell_type": "code",
   "execution_count": 406,
   "metadata": {},
   "outputs": [
    {
     "data": {
      "image/png": "[encoded data removed]",
      "text/plain": [
       "<Figure size 720x720 with 1 Axes>"
      ]
     },
     "metadata": {},
     "output_type": "display_data"
    }
   ],
   "source": [
    "df_draw = df_homicide_pd.copy()\n",
    "df_draw['manner_of_death'] = df_draw['manner_of_death'].map(manner_of_death)\n",
    "df_draw = df_draw.rename(columns={'count(manner_of_death)':'death cause'})\n",
    "df_draw = df_draw.dropna()\n",
    "explode=(0,0.1,0,0,0,0)\n",
    "plt.figure(figsize=(10,10))\n",
    "plt.pie(df_draw['death cause'], autopct='%1.1f%%',labels=df_draw['manner_of_death'],explode=explode);\n",
    "plt.title('Death causes (2015)');"
   ]
  },
  {
   "cell_type": "markdown",
   "metadata": {},
   "source": [
    "> Natural causes of death make 90.5% of the total death cases followed by accidents for another 6.5% and the remaining 3% is for other death causes "
   ]
  },
  {
   "cell_type": "code",
   "execution_count": 407,
   "metadata": {},
   "outputs": [
    {
     "data": {
      "text/plain": [
       "Text(0.5, 1.0, 'Death causes (2015)')"
      ]
     },
     "execution_count": 407,
     "metadata": {},
     "output_type": "execute_result"
    },
    {
     "data": {
      "image/png": "[encoded data removed]",
      "text/plain": [
       "<Figure size 720x720 with 1 Axes>"
      ]
     },
     "metadata": {},
     "output_type": "display_data"
    }
   ],
   "source": [
    "explode=(0.1,0,0,0,0)\n",
    "plt.figure(figsize=(10,10))\n",
    "\n",
    "df_draw = df_draw.drop(df_draw[df_draw['manner_of_death']==\"Natural\"].index)\n",
    "plt.pie(df_draw['death cause'], autopct='%1.1f%%',labels=df_draw['manner_of_death'],explode=explode);\n",
    "plt.title('Death causes (2015)')"
   ]
  },
  {
   "cell_type": "markdown",
   "metadata": {},
   "source": [
    "> Excluding natural reasons for death homicide is 8.5% of the overall death cases, as accidents are the most common death cause with 64.7% percentage."
   ]
  }
 ],
 "metadata": {
  "kernelspec": {
   "display_name": "Python 3",
   "language": "python",
   "name": "python3"
  },
  "language_info": {
   "codemirror_mode": {
    "name": "ipython",
    "version": 3
   },
   "file_extension": ".py",
   "mimetype": "text/x-python",
   "name": "python",
   "nbconvert_exporter": "python",
   "pygments_lexer": "ipython3",
   "version": "3.9.0"
  }
 },
 "nbformat": 4,
 "nbformat_minor": 4
}
