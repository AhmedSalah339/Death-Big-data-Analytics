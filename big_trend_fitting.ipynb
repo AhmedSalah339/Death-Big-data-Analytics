{
  "nbformat": 4,
  "nbformat_minor": 0,
  "metadata": {
    "kernelspec": {
      "name": "python3",
      "display_name": "Python 3",
      "language": "python"
    },
    "language_info": {
      "pygments_lexer": "ipython3",
      "nbconvert_exporter": "python",
      "version": "3.6.4",
      "file_extension": ".py",
      "codemirror_mode": {
        "name": "ipython",
        "version": 3
      },
      "name": "python",
      "mimetype": "text/x-python"
    },
    "colab": {
      "name": "big_trend_fitting.ipynb",
      "provenance": [],
      "collapsed_sections": [
        "vK_XaXye1_kR",
        "IYPXNvhC1_kU",
        "oYEvK8PA1_kW",
        "4Y6ZMaKT1_kY",
        "9VMt-7b41_kZ"
      ]
    }
  },
  "cells": [
    {
      "cell_type": "markdown",
      "metadata": {
        "id": "tLEhsSyn1_j6"
      },
      "source": [
        "In this notebook, I will try to fit the regression model of the trend of amount of the deceased from 2005 to 2014 and use this model to predict amount of the deceased in 2015"
      ]
    },
    {
      "cell_type": "markdown",
      "metadata": {
        "id": "3JwrBElV1_j_"
      },
      "source": [
        "The trend includes resident status, race, gender and death cause of the deceased"
      ]
    },
    {
      "cell_type": "markdown",
      "metadata": {
        "id": "_W7tRlHez0sY"
      },
      "source": [
        "# Loading and setting up the session"
      ]
    },
    {
      "cell_type": "code",
      "metadata": {
        "id": "hWA2ZQW-2Drg",
        "colab": {
          "base_uri": "https://localhost:8080/"
        },
        "outputId": "d184b6cc-4b3f-4984-d88f-5014ac752990"
      },
      "source": [
        "from google.colab import drive\n",
        "drive.mount('/content/drive')"
      ],
      "execution_count": 3,
      "outputs": [
        {
          "output_type": "stream",
          "text": [
            "Mounted at /content/drive\n"
          ],
          "name": "stdout"
        }
      ]
    },
    {
      "cell_type": "code",
      "metadata": {
        "_uuid": "8f2839f25d086af736a60e9eeb907d3b93b6e0e5",
        "_cell_guid": "b1076dfc-b9ad-4769-8c92-a6c4dae69d19",
        "trusted": true,
        "id": "80CEwdwx1_kA"
      },
      "source": [
        "import numpy as np \n",
        "import pandas as pd \n",
        "import time\n",
        "import json\n",
        "import gc\n",
        "import xgboost as xgb \n",
        "from sklearn.model_selection import GridSearchCV\n",
        "import matplotlib.pyplot as plt"
      ],
      "execution_count": 4,
      "outputs": []
    },
    {
      "cell_type": "code",
      "metadata": {
        "id": "MHcc0lWrSkKw"
      },
      "source": [
        "!apt-get install openjdk-8-jdk-headless -qq > /dev/null\n",
        "!wget -q https://downloads.apache.org/spark/spark-2.4.7/spark-2.4.7-bin-hadoop2.7.tgz\n",
        "!tar xf spark-2.4.7-bin-hadoop2.7.tgz\n",
        "!pip install -q findspark"
      ],
      "execution_count": 5,
      "outputs": []
    },
    {
      "cell_type": "code",
      "metadata": {
        "id": "uRcD1-BfSlHo"
      },
      "source": [
        "import os\n",
        "os.environ[\"JAVA_HOME\"] = \"/usr/lib/jvm/java-8-openjdk-amd64\"\n",
        "os.environ[\"SPARK_HOME\"] = \"/content/spark-2.4.7-bin-hadoop2.7\"\n",
        "# os.environ[\"SPARK_HOME\"] =\"/content/drive/MyDrive/Colab Notebooks/BigData/spark-2.4.7-bin-hadoop2.7\"\n"
      ],
      "execution_count": 6,
      "outputs": []
    },
    {
      "cell_type": "code",
      "metadata": {
        "id": "-rJE1s5SSolK"
      },
      "source": [
        "import findspark\n",
        "findspark.init()\n",
        "from pyspark.sql import SparkSession\n",
        "spark = SparkSession.builder.master(\"local[*]\").getOrCreate()"
      ],
      "execution_count": 7,
      "outputs": []
    },
    {
      "cell_type": "code",
      "metadata": {
        "id": "7n3IOGUzSqK8"
      },
      "source": [
        "from pyspark.sql import functions as F\n",
        "from pyspark.sql.types import DoubleType, IntegerType, StringType\n",
        "from pyspark.sql.functions import udf,col\n"
      ],
      "execution_count": 8,
      "outputs": []
    },
    {
      "cell_type": "markdown",
      "metadata": {
        "id": "nxKAdz_Rz5iM"
      },
      "source": [
        "# Loading and intial cleaning."
      ]
    },
    {
      "cell_type": "code",
      "metadata": {
        "id": "Vp5fx4t-Str4",
        "colab": {
          "base_uri": "https://localhost:8080/"
        },
        "outputId": "ac1b2a22-4a20-4860-bb19-7d6aacbc9722"
      },
      "source": [
        "start = time.time()\n",
        "data_path=\"/content/drive/MyDrive/Colab Notebooks/BigData/Final project/Death-Big-data-Analytics/archive\"\n",
        "df=spark.read.options(header=True,inferSchema=True).csv(data_path+'/sampled.csv')\n",
        "df.show(truncate=False)\n",
        "print((time.time()-start)/60)"
      ],
      "execution_count": 9,
      "outputs": [
        {
          "output_type": "stream",
          "text": [
            "+---------------+-----------------------+-----------------------+------------------------+--------------+---+---------------+----------+---------------------+-------------+-------------+-------------+--------------------+-----------------------------------+--------------+--------------------+-----------------+--------------+---------------+---------------------+-------+-------------+------------------------------------------------------+----------------------+----------------+----------------+-----------------------+---------------+--------------------------------+------------------+------------------+------------------+------------------+------------------+------------------+------------------+------------------+------------------+-------------------+-------------------+-------------------+-------------------+-------------------+-------------------+-------------------+-------------------+-------------------+-------------------+-------------------+--------------------------------+------------------+------------------+------------------+------------------+------------------+------------------+------------------+------------------+------------------+-------------------+-------------------+-------------------+-------------------+-------------------+-------------------+-------------------+-------------------+-------------------+-------------------+-------------------+----+-----------------+--------------------+-------------+-------------+---------------+--------------------------+\n",
            "|resident_status|education_1989_revision|education_2003_revision|education_reporting_flag|month_of_death|sex|detail_age_type|detail_age|age_substitution_flag|age_recode_52|age_recode_27|age_recode_12|infant_age_recode_22|place_of_death_and_decedents_status|marital_status|day_of_week_of_death|current_data_year|injury_at_work|manner_of_death|method_of_disposition|autopsy|activity_code|place_of_injury_for_causes_w00_y34_except_y06_and_y07_|icd_code_10th_revision|358_cause_recode|113_cause_recode|130_infant_cause_recode|39_cause_recode|number_of_entity_axis_conditions|entity_condition_1|entity_condition_2|entity_condition_3|entity_condition_4|entity_condition_5|entity_condition_6|entity_condition_7|entity_condition_8|entity_condition_9|entity_condition_10|entity_condition_11|entity_condition_12|entity_condition_13|entity_condition_14|entity_condition_15|entity_condition_16|entity_condition_17|entity_condition_18|entity_condition_19|entity_condition_20|number_of_record_axis_conditions|record_condition_1|record_condition_2|record_condition_3|record_condition_4|record_condition_5|record_condition_6|record_condition_7|record_condition_8|record_condition_9|record_condition_10|record_condition_11|record_condition_12|record_condition_13|record_condition_14|record_condition_15|record_condition_16|record_condition_17|record_condition_18|record_condition_19|record_condition_20|race|bridged_race_flag|race_imputation_flag|race_recode_3|race_recode_5|hispanic_origin|hispanic_originrace_recode|\n",
            "+---------------+-----------------------+-----------------------+------------------------+--------------+---+---------------+----------+---------------------+-------------+-------------+-------------+--------------------+-----------------------------------+--------------+--------------------+-----------------+--------------+---------------+---------------------+-------+-------------+------------------------------------------------------+----------------------+----------------+----------------+-----------------------+---------------+--------------------------------+------------------+------------------+------------------+------------------+------------------+------------------+------------------+------------------+------------------+-------------------+-------------------+-------------------+-------------------+-------------------+-------------------+-------------------+-------------------+-------------------+-------------------+-------------------+--------------------------------+------------------+------------------+------------------+------------------+------------------+------------------+------------------+------------------+------------------+-------------------+-------------------+-------------------+-------------------+-------------------+-------------------+-------------------+-------------------+-------------------+-------------------+-------------------+----+-----------------+--------------------+-------------+-------------+---------------+--------------------------+\n",
            "|1              |11                     |null                   |0                       |01            |F  |1              |045       |null                 |35           |15           |07           |null                |1                                  |M             |2                   |2005             |U             |7              |U                    |N      |null         |null                                                  |C439                  |098             |028             |null                   |15             |01                              |11C439            |null              |null              |null              |null              |null              |null              |null              |null              |null               |null               |null               |null               |null               |null               |null               |null               |null               |null               |null               |01                              |C439              |null              |null              |null              |null              |null              |null              |null              |null              |null               |null               |null               |null               |null               |null               |null               |null               |null               |null               |null               |01  |null             |null                |1            |1            |100            |6                         |\n",
            "|1              |13                     |null                   |0                       |01            |M  |1              |061       |null                 |38           |18           |08           |null                |1                                  |D             |7                   |2005             |U             |7              |U                    |N      |null         |null                                                  |J439                  |266             |084             |null                   |28             |01                              |11J439            |null              |null              |null              |null              |null              |null              |null              |null              |null               |null               |null               |null               |null               |null               |null               |null               |null               |null               |null               |01                              |J439              |null              |null              |null              |null              |null              |null              |null              |null              |null               |null               |null               |null               |null               |null               |null               |null               |null               |null               |null               |01  |null             |null                |1            |1            |100            |6                         |\n",
            "|1              |12                     |null                   |0                       |01            |F  |1              |079       |null                 |41           |21           |10           |null                |6                                  |D             |1                   |2005             |U             |7              |U                    |N      |null         |null                                                  |I698                  |239             |070             |null                   |24             |05                              |11R628            |21I698            |61J449            |62M199            |63R568            |null              |null              |null              |null              |null               |null               |null               |null               |null               |null               |null               |null               |null               |null               |null               |05                              |I698              |J449              |M199              |R568              |R628              |null              |null              |null              |null              |null               |null               |null               |null               |null               |null               |null               |null               |null               |null               |null               |01  |null             |null                |1            |1            |100            |6                         |\n",
            "|1              |12                     |null                   |0                       |01            |M  |1              |050       |null                 |36           |16           |07           |null                |1                                  |S             |4                   |2005             |U             |7              |U                    |N      |null         |null                                                  |E119                  |159             |046             |null                   |16             |04                              |11I469            |61E119            |62I500            |63K862            |null              |null              |null              |null              |null              |null               |null               |null               |null               |null               |null               |null               |null               |null               |null               |null               |04                              |E119              |I469              |I500              |K862              |null              |null              |null              |null              |null              |null               |null               |null               |null               |null               |null               |null               |null               |null               |null               |null               |01  |null             |null                |1            |1            |100            |6                         |\n",
            "|1              |14                     |null                   |0                       |01            |F  |1              |068       |null                 |39           |19           |09           |null                |1                                  |M             |2                   |2005             |U             |7              |U                    |N      |null         |null                                                  |C349                  |093             |027             |null                   |08             |03                              |11C349            |61F179            |62J449            |null              |null              |null              |null              |null              |null              |null               |null               |null               |null               |null               |null               |null               |null               |null               |null               |null               |03                              |C349              |F179              |J449              |null              |null              |null              |null              |null              |null              |null               |null               |null               |null               |null               |null               |null               |null               |null               |null               |null               |01  |null             |null                |1            |1            |100            |6                         |\n",
            "|1              |03                     |null                   |0                       |01            |F  |1              |089       |null                 |43           |23           |11           |null                |6                                  |W             |7                   |2005             |U             |7              |U                    |N      |null         |null                                                  |I679                  |239             |070             |null                   |24             |03                              |11N19             |21I679            |61F03             |null              |null              |null              |null              |null              |null              |null               |null               |null               |null               |null               |null               |null               |null               |null               |null               |null               |03                              |F03               |I679              |N19               |null              |null              |null              |null              |null              |null              |null               |null               |null               |null               |null               |null               |null               |null               |null               |null               |null               |03  |null             |null                |2            |3            |100            |8                         |\n",
            "|1              |12                     |null                   |0                       |01            |F  |1              |068       |null                 |39           |19           |09           |null                |1                                  |D             |7                   |2005             |U             |7              |U                    |N      |null         |null                                                  |J439                  |266             |084             |null                   |28             |01                              |11J439            |null              |null              |null              |null              |null              |null              |null              |null              |null               |null               |null               |null               |null               |null               |null               |null               |null               |null               |null               |01                              |J439              |null              |null              |null              |null              |null              |null              |null              |null              |null               |null               |null               |null               |null               |null               |null               |null               |null               |null               |null               |01  |null             |null                |1            |1            |100            |6                         |\n",
            "|1              |12                     |null                   |0                       |01            |M  |1              |061       |null                 |38           |18           |08           |null                |1                                  |S             |6                   |2005             |U             |7              |U                    |N      |null         |null                                                  |J449                  |267             |086             |null                   |28             |03                              |11I279            |21J449            |61F102            |null              |null              |null              |null              |null              |null              |null               |null               |null               |null               |null               |null               |null               |null               |null               |null               |null               |03                              |F102              |I279              |J449              |null              |null              |null              |null              |null              |null              |null               |null               |null               |null               |null               |null               |null               |null               |null               |null               |null               |03  |null             |null                |2            |3            |100            |8                         |\n",
            "|1              |14                     |null                   |0                       |01            |F  |1              |073       |null                 |40           |20           |09           |null                |1                                  |D             |6                   |2005             |U             |7              |U                    |N      |null         |null                                                  |J439                  |266             |084             |null                   |28             |01                              |11J439            |null              |null              |null              |null              |null              |null              |null              |null              |null               |null               |null               |null               |null               |null               |null               |null               |null               |null               |null               |01                              |J439              |null              |null              |null              |null              |null              |null              |null              |null              |null               |null               |null               |null               |null               |null               |null               |null               |null               |null               |null               |01  |null             |null                |1            |1            |100            |6                         |\n",
            "|3              |08                     |null                   |0                       |01            |F  |1              |085       |null                 |43           |23           |11           |null                |7                                  |W             |6                   |2005             |U             |7              |U                    |N      |null         |null                                                  |C80                   |125             |043             |null                   |15             |01                              |11C80             |null              |null              |null              |null              |null              |null              |null              |null              |null               |null               |null               |null               |null               |null               |null               |null               |null               |null               |null               |01                              |C80               |null              |null              |null              |null              |null              |null              |null              |null              |null               |null               |null               |null               |null               |null               |null               |null               |null               |null               |null               |01  |null             |null                |1            |1            |100            |6                         |\n",
            "|1              |03                     |null                   |0                       |01            |F  |1              |093       |null                 |44           |24           |11           |null                |6                                  |W             |7                   |2005             |U             |7              |U                    |N      |null         |null                                                  |R99                   |379             |110             |null                   |36             |01                              |11R99             |null              |null              |null              |null              |null              |null              |null              |null              |null               |null               |null               |null               |null               |null               |null               |null               |null               |null               |null               |01                              |R99               |null              |null              |null              |null              |null              |null              |null              |null              |null               |null               |null               |null               |null               |null               |null               |null               |null               |null               |null               |03  |null             |null                |2            |3            |100            |8                         |\n",
            "|1              |11                     |null                   |0                       |01            |M  |1              |077       |null                 |41           |21           |10           |null                |1                                  |M             |4                   |2005             |U             |7              |U                    |N      |null         |null                                                  |C189                  |081             |023             |null                   |06             |03                              |11C189            |21C189            |61F03             |null              |null              |null              |null              |null              |null              |null               |null               |null               |null               |null               |null               |null               |null               |null               |null               |null               |02                              |C189              |F03               |null              |null              |null              |null              |null              |null              |null              |null               |null               |null               |null               |null               |null               |null               |null               |null               |null               |null               |02  |null             |null                |3            |2            |100            |7                         |\n",
            "|1              |06                     |null                   |0                       |01            |M  |1              |078       |null                 |41           |21           |10           |null                |1                                  |D             |2                   |2005             |U             |7              |U                    |N      |null         |null                                                  |J449                  |267             |086             |null                   |28             |02                              |11J969            |21J449            |null              |null              |null              |null              |null              |null              |null              |null               |null               |null               |null               |null               |null               |null               |null               |null               |null               |null               |02                              |J449              |J969              |null              |null              |null              |null              |null              |null              |null              |null               |null               |null               |null               |null               |null               |null               |null               |null               |null               |null               |01  |null             |null                |1            |1            |100            |6                         |\n",
            "|1              |14                     |null                   |0                       |01            |M  |1              |048       |null                 |35           |15           |07           |null                |1                                  |M             |3                   |2005             |U             |7              |U                    |N      |null         |null                                                  |C439                  |098             |028             |null                   |15             |01                              |11C439            |null              |null              |null              |null              |null              |null              |null              |null              |null               |null               |null               |null               |null               |null               |null               |null               |null               |null               |null               |01                              |C439              |null              |null              |null              |null              |null              |null              |null              |null              |null               |null               |null               |null               |null               |null               |null               |null               |null               |null               |null               |01  |null             |null                |1            |1            |100            |6                         |\n",
            "|1              |12                     |null                   |0                       |01            |M  |1              |078       |null                 |41           |21           |10           |null                |1                                  |W             |2                   |2005             |U             |7              |U                    |N      |null         |null                                                  |J849                  |278             |089             |null                   |37             |08                              |11J969            |21J849            |61J189            |62M819            |63M844            |64I64             |65I251            |66C61             |null              |null               |null               |null               |null               |null               |null               |null               |null               |null               |null               |null               |07                              |C61               |I251              |I64               |J189              |J849              |J969              |M809              |null              |null              |null               |null               |null               |null               |null               |null               |null               |null               |null               |null               |null               |01  |null             |null                |1            |1            |100            |6                         |\n",
            "|1              |12                     |null                   |0                       |01            |F  |1              |059       |null                 |37           |17           |08           |null                |1                                  |M             |4                   |2005             |U             |7              |U                    |N      |null         |null                                                  |C349                  |093             |027             |null                   |08             |03                              |11C349            |61J459            |62N19             |null              |null              |null              |null              |null              |null              |null               |null               |null               |null               |null               |null               |null               |null               |null               |null               |null               |03                              |C349              |J459              |N19               |null              |null              |null              |null              |null              |null              |null               |null               |null               |null               |null               |null               |null               |null               |null               |null               |null               |01  |null             |null                |1            |1            |100            |6                         |\n",
            "|1              |08                     |null                   |0                       |01            |M  |1              |077       |null                 |41           |21           |10           |null                |6                                  |M             |6                   |2005             |U             |7              |U                    |N      |9            |9                                                     |X59                   |423             |123             |null                   |39             |03                              |11S720            |31F03             |61X59             |null              |null              |null              |null              |null              |null              |null               |null               |null               |null               |null               |null               |null               |null               |null               |null               |null               |03                              |F03               |S720              |X59               |null              |null              |null              |null              |null              |null              |null               |null               |null               |null               |null               |null               |null               |null               |null               |null               |null               |03  |null             |null                |2            |3            |100            |8                         |\n",
            "|1              |17                     |null                   |0                       |01            |M  |1              |039       |null                 |33           |13           |06           |null                |1                                  |M             |3                   |2005             |N             |5              |U                    |Y      |9            |0                                                     |Y20                   |448             |133             |null                   |42             |04                              |11T71             |12Y20             |21S199            |61S199            |null              |null              |null              |null              |null              |null               |null               |null               |null               |null               |null               |null               |null               |null               |null               |null               |03                              |S199              |T71               |Y20               |null              |null              |null              |null              |null              |null              |null               |null               |null               |null               |null               |null               |null               |null               |null               |null               |null               |01  |null             |null                |1            |1            |211            |1                         |\n",
            "|1              |12                     |null                   |0                       |01            |M  |1              |064       |null                 |38           |18           |08           |null                |7                                  |D             |1                   |2005             |U             |7              |U                    |N      |null         |null                                                  |I250                  |214             |062             |null                   |21             |01                              |11I250            |null              |null              |null              |null              |null              |null              |null              |null              |null               |null               |null               |null               |null               |null               |null               |null               |null               |null               |null               |01                              |I250              |null              |null              |null              |null              |null              |null              |null              |null              |null               |null               |null               |null               |null               |null               |null               |null               |null               |null               |null               |01  |null             |null                |1            |1            |100            |6                         |\n",
            "|1              |12                     |null                   |0                       |01            |F  |1              |090       |null                 |44           |24           |11           |null                |6                                  |W             |2                   |2005             |U             |7              |U                    |N      |null         |null                                                  |J449                  |267             |086             |null                   |28             |01                              |11J449            |null              |null              |null              |null              |null              |null              |null              |null              |null               |null               |null               |null               |null               |null               |null               |null               |null               |null               |null               |01                              |J449              |null              |null              |null              |null              |null              |null              |null              |null              |null               |null               |null               |null               |null               |null               |null               |null               |null               |null               |null               |01  |null             |null                |1            |1            |100            |6                         |\n",
            "+---------------+-----------------------+-----------------------+------------------------+--------------+---+---------------+----------+---------------------+-------------+-------------+-------------+--------------------+-----------------------------------+--------------+--------------------+-----------------+--------------+---------------+---------------------+-------+-------------+------------------------------------------------------+----------------------+----------------+----------------+-----------------------+---------------+--------------------------------+------------------+------------------+------------------+------------------+------------------+------------------+------------------+------------------+------------------+-------------------+-------------------+-------------------+-------------------+-------------------+-------------------+-------------------+-------------------+-------------------+-------------------+-------------------+--------------------------------+------------------+------------------+------------------+------------------+------------------+------------------+------------------+------------------+------------------+-------------------+-------------------+-------------------+-------------------+-------------------+-------------------+-------------------+-------------------+-------------------+-------------------+-------------------+----+-----------------+--------------------+-------------+-------------+---------------+--------------------------+\n",
            "only showing top 20 rows\n",
            "\n",
            "0.14804871877034506\n"
          ],
          "name": "stdout"
        }
      ]
    },
    {
      "cell_type": "code",
      "metadata": {
        "trusted": true,
        "id": "Nyi33PuD1_kC",
        "colab": {
          "base_uri": "https://localhost:8080/"
        },
        "outputId": "9bb4e856-3d6d-4bbe-a9cd-e678b77ac9e6"
      },
      "source": [
        "df.dtypes"
      ],
      "execution_count": 10,
      "outputs": [
        {
          "output_type": "execute_result",
          "data": {
            "text/plain": [
              "[('resident_status', 'string'),\n",
              " ('education_1989_revision', 'string'),\n",
              " ('education_2003_revision', 'string'),\n",
              " ('education_reporting_flag', 'string'),\n",
              " ('month_of_death', 'string'),\n",
              " ('sex', 'string'),\n",
              " ('detail_age_type', 'string'),\n",
              " ('detail_age', 'string'),\n",
              " ('age_substitution_flag', 'string'),\n",
              " ('age_recode_52', 'string'),\n",
              " ('age_recode_27', 'string'),\n",
              " ('age_recode_12', 'string'),\n",
              " ('infant_age_recode_22', 'string'),\n",
              " ('place_of_death_and_decedents_status', 'string'),\n",
              " ('marital_status', 'string'),\n",
              " ('day_of_week_of_death', 'string'),\n",
              " ('current_data_year', 'string'),\n",
              " ('injury_at_work', 'string'),\n",
              " ('manner_of_death', 'string'),\n",
              " ('method_of_disposition', 'string'),\n",
              " ('autopsy', 'string'),\n",
              " ('activity_code', 'string'),\n",
              " ('place_of_injury_for_causes_w00_y34_except_y06_and_y07_', 'string'),\n",
              " ('icd_code_10th_revision', 'string'),\n",
              " ('358_cause_recode', 'string'),\n",
              " ('113_cause_recode', 'string'),\n",
              " ('130_infant_cause_recode', 'string'),\n",
              " ('39_cause_recode', 'string'),\n",
              " ('number_of_entity_axis_conditions', 'string'),\n",
              " ('entity_condition_1', 'string'),\n",
              " ('entity_condition_2', 'string'),\n",
              " ('entity_condition_3', 'string'),\n",
              " ('entity_condition_4', 'string'),\n",
              " ('entity_condition_5', 'string'),\n",
              " ('entity_condition_6', 'string'),\n",
              " ('entity_condition_7', 'string'),\n",
              " ('entity_condition_8', 'string'),\n",
              " ('entity_condition_9', 'string'),\n",
              " ('entity_condition_10', 'string'),\n",
              " ('entity_condition_11', 'string'),\n",
              " ('entity_condition_12', 'string'),\n",
              " ('entity_condition_13', 'string'),\n",
              " ('entity_condition_14', 'string'),\n",
              " ('entity_condition_15', 'string'),\n",
              " ('entity_condition_16', 'string'),\n",
              " ('entity_condition_17', 'string'),\n",
              " ('entity_condition_18', 'string'),\n",
              " ('entity_condition_19', 'string'),\n",
              " ('entity_condition_20', 'string'),\n",
              " ('number_of_record_axis_conditions', 'string'),\n",
              " ('record_condition_1', 'string'),\n",
              " ('record_condition_2', 'string'),\n",
              " ('record_condition_3', 'string'),\n",
              " ('record_condition_4', 'string'),\n",
              " ('record_condition_5', 'string'),\n",
              " ('record_condition_6', 'string'),\n",
              " ('record_condition_7', 'string'),\n",
              " ('record_condition_8', 'string'),\n",
              " ('record_condition_9', 'string'),\n",
              " ('record_condition_10', 'string'),\n",
              " ('record_condition_11', 'string'),\n",
              " ('record_condition_12', 'string'),\n",
              " ('record_condition_13', 'string'),\n",
              " ('record_condition_14', 'string'),\n",
              " ('record_condition_15', 'string'),\n",
              " ('record_condition_16', 'string'),\n",
              " ('record_condition_17', 'string'),\n",
              " ('record_condition_18', 'string'),\n",
              " ('record_condition_19', 'string'),\n",
              " ('record_condition_20', 'string'),\n",
              " ('race', 'string'),\n",
              " ('bridged_race_flag', 'string'),\n",
              " ('race_imputation_flag', 'string'),\n",
              " ('race_recode_3', 'string'),\n",
              " ('race_recode_5', 'string'),\n",
              " ('hispanic_origin', 'string'),\n",
              " ('hispanic_originrace_recode', 'string')]"
            ]
          },
          "metadata": {
            "tags": []
          },
          "execution_count": 10
        }
      ]
    },
    {
      "cell_type": "code",
      "metadata": {
        "id": "1FN8ee-5bvFr"
      },
      "source": [
        "df=df.filter(\"current_data_year in ('2005','2006','2007','2008','2009','2010','2011','2012','2013','2014','2015')\")\\\n",
        "               .filter('sex in (\"M\",\"F\")')\n"
      ],
      "execution_count": 11,
      "outputs": []
    },
    {
      "cell_type": "code",
      "metadata": {
        "trusted": true,
        "id": "hX5iBuYm1_kD"
      },
      "source": [
        "features = ['current_data_year','month_of_death','resident_status','sex','race_recode_3','39_cause_recode']\n",
        "train_1=df.select(features)"
      ],
      "execution_count": 12,
      "outputs": []
    },
    {
      "cell_type": "code",
      "metadata": {
        "id": "lhSV0bN8lKgc",
        "colab": {
          "base_uri": "https://localhost:8080/"
        },
        "outputId": "a7485743-f7e5-4481-94c9-bf85edfb9000"
      },
      "source": [
        "train_1.groupby(\"race_recode_3\").count().show()\n",
        "train_1.groupby(\"39_cause_recode\").count().show()\n",
        "train_1.groupby(\"resident_status\").count().show()\n",
        "train_1.groupby(\"current_data_year\").count().show()\n",
        "train_1.groupby(\"month_of_death\").count().show()"
      ],
      "execution_count": 13,
      "outputs": [
        {
          "output_type": "stream",
          "text": [
            "+-------------+-----+\n",
            "|race_recode_3|count|\n",
            "+-------------+-----+\n",
            "|            3|   55|\n",
            "|            1|  807|\n",
            "|            2|  227|\n",
            "+-------------+-----+\n",
            "\n",
            "+---------------+-----+\n",
            "|39_cause_recode|count|\n",
            "+---------------+-----+\n",
            "|             07|   17|\n",
            "|             15|   70|\n",
            "|             11|    6|\n",
            "|             42|    1|\n",
            "|             30|   14|\n",
            "|             34|    3|\n",
            "|             01|    1|\n",
            "|             28|   46|\n",
            "|             22|   97|\n",
            "|             16|   30|\n",
            "|             31|   22|\n",
            "|             27|   25|\n",
            "|             17|   35|\n",
            "|             26|    6|\n",
            "|             09|   28|\n",
            "|             05|    2|\n",
            "|             23|    9|\n",
            "|             41|    4|\n",
            "|             08|   81|\n",
            "|             40|   33|\n",
            "+---------------+-----+\n",
            "only showing top 20 rows\n",
            "\n",
            "+---------------+-----+\n",
            "|resident_status|count|\n",
            "+---------------+-----+\n",
            "|              3|   23|\n",
            "|              1|  942|\n",
            "|              2|  124|\n",
            "+---------------+-----+\n",
            "\n",
            "+-----------------+-----+\n",
            "|current_data_year|count|\n",
            "+-----------------+-----+\n",
            "|             2012|   99|\n",
            "|             2014|   99|\n",
            "|             2013|   99|\n",
            "|             2005|   99|\n",
            "|             2009|   99|\n",
            "|             2006|   99|\n",
            "|             2011|   99|\n",
            "|             2008|   99|\n",
            "|             2007|   99|\n",
            "|             2015|   99|\n",
            "|             2010|   99|\n",
            "+-----------------+-----+\n",
            "\n",
            "+--------------+-----+\n",
            "|month_of_death|count|\n",
            "+--------------+-----+\n",
            "|            01| 1089|\n",
            "+--------------+-----+\n",
            "\n"
          ],
          "name": "stdout"
        }
      ]
    },
    {
      "cell_type": "code",
      "metadata": {
        "trusted": true,
        "id": "9iXn_9TI1_kG"
      },
      "source": [
        "def read_json(path):\n",
        "    with open(path,'r', encoding = 'utf-8') as f:\n",
        "        definition = json.load(f)\n",
        "    return definition"
      ],
      "execution_count": 14,
      "outputs": []
    },
    {
      "cell_type": "code",
      "metadata": {
        "trusted": true,
        "id": "WxvKP6-f1_kG"
      },
      "source": [
        "path=\"/content/drive/MyDrive/Colab Notebooks/BigData/Final project/Death-Big-data-Analytics/archive\"\n",
        "definition = read_json(path+'/2005_codes.json')\n",
        "definition['place_of_death_and_decedents_status']['1'] = 'Hospital, Clinic or Medical Center'"
      ],
      "execution_count": 15,
      "outputs": []
    },
    {
      "cell_type": "code",
      "metadata": {
        "trusted": true,
        "id": "WATvisvS1_kH"
      },
      "source": [
        "cause_definition = {}\n",
        "neoplasm = list(range(4,16))\n",
        "heart = list(range(19,23))\n",
        "\n",
        "cause_dict = {'accident':1, 'heart':2, 'neoplasm':3,'others':4}\n",
        "\n",
        "for i in range(1,43):\n",
        "    if i in neoplasm:\n",
        "        cause_definition[i] = cause_dict['neoplasm'] # code for neoplasmic deaths\n",
        "    elif i in heart:\n",
        "        cause_definition[i] = cause_dict['heart'] # code for heart related deaths\n",
        "    elif i in [38,39]:\n",
        "        cause_definition[i] = cause_dict['accident'] # code for accident related deaths\n",
        "    else:\n",
        "        cause_definition[i] = cause_dict['others'] # code for other deaths"
      ],
      "execution_count": 24,
      "outputs": []
    },
    {
      "cell_type": "code",
      "metadata": {
        "id": "Pj00gQ9utJmb",
        "colab": {
          "base_uri": "https://localhost:8080/"
        },
        "outputId": "d5a33853-e898-49ee-f314-9b7be456ffb0"
      },
      "source": [
        "cause_definition"
      ],
      "execution_count": 25,
      "outputs": [
        {
          "output_type": "execute_result",
          "data": {
            "text/plain": [
              "{1: 4,\n",
              " 2: 4,\n",
              " 3: 4,\n",
              " 4: 3,\n",
              " 5: 3,\n",
              " 6: 3,\n",
              " 7: 3,\n",
              " 8: 3,\n",
              " 9: 3,\n",
              " 10: 3,\n",
              " 11: 3,\n",
              " 12: 3,\n",
              " 13: 3,\n",
              " 14: 3,\n",
              " 15: 3,\n",
              " 16: 4,\n",
              " 17: 4,\n",
              " 18: 4,\n",
              " 19: 2,\n",
              " 20: 2,\n",
              " 21: 2,\n",
              " 22: 2,\n",
              " 23: 4,\n",
              " 24: 4,\n",
              " 25: 4,\n",
              " 26: 4,\n",
              " 27: 4,\n",
              " 28: 4,\n",
              " 29: 4,\n",
              " 30: 4,\n",
              " 31: 4,\n",
              " 32: 4,\n",
              " 33: 4,\n",
              " 34: 4,\n",
              " 35: 4,\n",
              " 36: 4,\n",
              " 37: 4,\n",
              " 38: 1,\n",
              " 39: 1,\n",
              " 40: 4,\n",
              " 41: 4,\n",
              " 42: 4}"
            ]
          },
          "metadata": {
            "tags": []
          },
          "execution_count": 25
        }
      ]
    },
    {
      "cell_type": "markdown",
      "metadata": {
        "id": "RusBgJV60KC-"
      },
      "source": [
        "# Preparing The training dataset"
      ]
    },
    {
      "cell_type": "code",
      "metadata": {
        "id": "SP_o69gBwc-N"
      },
      "source": [
        "features = ['current_data_year','month_of_death','resident_status','sex','race_recode_3','39_cause_recode']\n",
        "train_1=df.select(features)"
      ],
      "execution_count": 26,
      "outputs": []
    },
    {
      "cell_type": "code",
      "metadata": {
        "colab": {
          "base_uri": "https://localhost:8080/"
        },
        "id": "GfWukrOzl89A",
        "outputId": "f55ff1e2-c81a-405e-e0a9-8541b90c4f69"
      },
      "source": [
        "train_1.count()"
      ],
      "execution_count": 27,
      "outputs": [
        {
          "output_type": "execute_result",
          "data": {
            "text/plain": [
              "1089"
            ]
          },
          "metadata": {
            "tags": []
          },
          "execution_count": 27
        }
      ]
    },
    {
      "cell_type": "code",
      "metadata": {
        "id": "_n2ycRLlqK0N"
      },
      "source": [
        "@udf(returnType=IntegerType()) \n",
        "def convertCause(val):\n",
        "  return cause_definition[int(val)]\n",
        "\n",
        "@udf(returnType=IntegerType()) \n",
        "def convertResidency(val):\n",
        "  return 1 if val==\"1\" or val==\"4\" else 0\n",
        "\n",
        "@udf(returnType=IntegerType()) \n",
        "def convertSex(val):\n",
        "  return 1 if val==\"M\"  else 0"
      ],
      "execution_count": 28,
      "outputs": []
    },
    {
      "cell_type": "code",
      "metadata": {
        "id": "Hm48zTwisThs"
      },
      "source": [
        "train_1=train_1.withColumn('cause_recode',convertCause(col('39_cause_recode')))\\\n",
        "               .withColumn('resident_status',convertResidency(col('resident_status')))\\\n",
        "               .withColumn('sex',convertSex(col('sex')))\\\n",
        "               .withColumn(\"current_data_year\",col(\"current_data_year\").cast(\"Integer\"))\\\n",
        "               .withColumn(\"month_of_death\",col(\"month_of_death\").cast(\"Integer\"))\\\n",
        "               .withColumn(\"race_recode\",col(\"race_recode_3\").cast(\"Integer\"))\\\n",
        "               .withColumn(\"numeric_month\",col(\"month_of_death\")+(col(\"current_data_year\")-2005)*12)\\\n",
        "               .filter('cause_recode != 4') # remove all of death samples with cause code (others)"
      ],
      "execution_count": 29,
      "outputs": []
    },
    {
      "cell_type": "code",
      "metadata": {
        "id": "5Gaxjs9fyqI0",
        "colab": {
          "base_uri": "https://localhost:8080/"
        },
        "outputId": "0a67e682-edaa-45d6-8861-1acd91da165d"
      },
      "source": [
        "train_1.show()"
      ],
      "execution_count": 30,
      "outputs": [
        {
          "output_type": "stream",
          "text": [
            "+-----------------+--------------+---------------+---+-------------+---------------+------------+-----------+-------------+\n",
            "|current_data_year|month_of_death|resident_status|sex|race_recode_3|39_cause_recode|cause_recode|race_recode|numeric_month|\n",
            "+-----------------+--------------+---------------+---+-------------+---------------+------------+-----------+-------------+\n",
            "|             2005|             1|              1|  0|            1|             15|           3|          1|            1|\n",
            "|             2005|             1|              1|  0|            1|             08|           3|          1|            1|\n",
            "|             2005|             1|              0|  0|            1|             15|           3|          1|            1|\n",
            "|             2005|             1|              1|  1|            3|             06|           3|          3|            1|\n",
            "|             2005|             1|              1|  1|            1|             15|           3|          1|            1|\n",
            "|             2005|             1|              1|  0|            1|             08|           3|          1|            1|\n",
            "|             2005|             1|              1|  1|            2|             39|           1|          2|            1|\n",
            "|             2005|             1|              1|  1|            1|             21|           2|          1|            1|\n",
            "|             2005|             1|              1|  1|            1|             06|           3|          1|            1|\n",
            "|             2005|             1|              1|  0|            1|             08|           3|          1|            1|\n",
            "|             2005|             1|              1|  0|            1|             05|           3|          1|            1|\n",
            "|             2005|             1|              1|  1|            2|             15|           3|          2|            1|\n",
            "|             2005|             1|              1|  0|            1|             08|           3|          1|            1|\n",
            "|             2005|             1|              1|  1|            1|             22|           2|          1|            1|\n",
            "|             2005|             1|              1|  0|            2|             08|           3|          2|            1|\n",
            "|             2005|             1|              1|  1|            2|             22|           2|          2|            1|\n",
            "|             2005|             1|              1|  1|            1|             07|           3|          1|            1|\n",
            "|             2005|             1|              1|  0|            1|             09|           3|          1|            1|\n",
            "|             2005|             1|              1|  1|            1|             08|           3|          1|            1|\n",
            "|             2005|             1|              1|  1|            2|             07|           3|          2|            1|\n",
            "+-----------------+--------------+---------------+---+-------------+---------------+------------+-----------+-------------+\n",
            "only showing top 20 rows\n",
            "\n"
          ],
          "name": "stdout"
        }
      ]
    },
    {
      "cell_type": "code",
      "metadata": {
        "id": "JUX7ocUo-HSF",
        "colab": {
          "base_uri": "https://localhost:8080/"
        },
        "outputId": "49a695a3-d74e-4c6c-f93f-bb88d7ca9191"
      },
      "source": [
        "train_1.dtypes"
      ],
      "execution_count": 31,
      "outputs": [
        {
          "output_type": "execute_result",
          "data": {
            "text/plain": [
              "[('current_data_year', 'int'),\n",
              " ('month_of_death', 'int'),\n",
              " ('resident_status', 'int'),\n",
              " ('sex', 'int'),\n",
              " ('race_recode_3', 'string'),\n",
              " ('39_cause_recode', 'string'),\n",
              " ('cause_recode', 'int'),\n",
              " ('race_recode', 'int'),\n",
              " ('numeric_month', 'int')]"
            ]
          },
          "metadata": {
            "tags": []
          },
          "execution_count": 31
        }
      ]
    },
    {
      "cell_type": "markdown",
      "metadata": {
        "id": "_5Rz2m4k0dpI"
      },
      "source": [
        "# Extracting the features from the dataset"
      ]
    },
    {
      "cell_type": "code",
      "metadata": {
        "id": "ReyKaG7i3hhb"
      },
      "source": [
        "cols=['numeric_month','resident_status','sex','race_recode','cause_recode']\n",
        "death_cnt_group= train_1.select(cols)\\\n",
        "                        .groupby('numeric_month','resident_status','sex','race_recode','cause_recode')\\\n",
        "                        .count()"
      ],
      "execution_count": 32,
      "outputs": []
    },
    {
      "cell_type": "code",
      "metadata": {
        "id": "HJ-_LFtH0hlh"
      },
      "source": [
        ""
      ],
      "execution_count": 32,
      "outputs": []
    },
    {
      "cell_type": "code",
      "metadata": {
        "id": "3ehN9Uu07e97"
      },
      "source": [
        "cols=['numeric_month','resident_status','count']\n",
        "death_cnt_group2 = death_cnt_group.select(cols).groupby('numeric_month','resident_status').agg(F.mean('count')).withColumnRenamed(\"avg(count)\",\"resident_status_death_mean\")\n",
        "death_cnt_group=death_cnt_group.join(death_cnt_group2,['numeric_month','resident_status'] ,how='left_outer')"
      ],
      "execution_count": 33,
      "outputs": []
    },
    {
      "cell_type": "code",
      "metadata": {
        "id": "q6v2pYNLDAW_"
      },
      "source": [
        "cols=['numeric_month','sex','count']\n",
        "death_cnt_group3 = death_cnt_group.select(cols).groupby('numeric_month','sex').agg(F.mean('count')).withColumnRenamed(\"avg(count)\",\"sex_death_mean\")\n",
        "death_cnt_group=death_cnt_group.join(death_cnt_group3, ['numeric_month','sex'],how='left')"
      ],
      "execution_count": 34,
      "outputs": []
    },
    {
      "cell_type": "code",
      "metadata": {
        "id": "cN8fLJFyFrqR"
      },
      "source": [
        "cols=['numeric_month','race_recode','count']\n",
        "death_cnt_group4 = death_cnt_group.select(cols).groupby('numeric_month','race_recode').agg(F.mean('count')).withColumnRenamed(\"avg(count)\",\"race_recode_death_mean\")\n",
        "death_cnt_group=death_cnt_group.join(death_cnt_group4, ['numeric_month','race_recode'],how='left')"
      ],
      "execution_count": 35,
      "outputs": []
    },
    {
      "cell_type": "code",
      "metadata": {
        "id": "_j_jU54NF9Ic"
      },
      "source": [
        "cols=['numeric_month','cause_recode','count']\n",
        "death_cnt_group5 = death_cnt_group.select(cols).groupby('numeric_month','cause_recode').agg(F.mean('count')).withColumnRenamed(\"avg(count)\",\"cause_recode_death_mean\")\n",
        "death_cnt_group=death_cnt_group.join(death_cnt_group5,['numeric_month','cause_recode'],how='left')"
      ],
      "execution_count": 36,
      "outputs": []
    },
    {
      "cell_type": "code",
      "metadata": {
        "colab": {
          "base_uri": "https://localhost:8080/"
        },
        "id": "tRp5TkuIEQ7C",
        "outputId": "2d963338-fa1d-4238-d792-ee204079645d"
      },
      "source": [
        "death_cnt_group.dtypes"
      ],
      "execution_count": 37,
      "outputs": [
        {
          "output_type": "execute_result",
          "data": {
            "text/plain": [
              "[('numeric_month', 'int'),\n",
              " ('cause_recode', 'int'),\n",
              " ('race_recode', 'int'),\n",
              " ('sex', 'int'),\n",
              " ('resident_status', 'int'),\n",
              " ('count', 'bigint'),\n",
              " ('resident_status_death_mean', 'double'),\n",
              " ('sex_death_mean', 'double'),\n",
              " ('race_recode_death_mean', 'double'),\n",
              " ('cause_recode_death_mean', 'double')]"
            ]
          },
          "metadata": {
            "tags": []
          },
          "execution_count": 37
        }
      ]
    },
    {
      "cell_type": "code",
      "metadata": {
        "id": "JhG9gC5SKT7n"
      },
      "source": [
        "col_lags=['count','resident_status_death_mean','sex_death_mean','race_recode_death_mean']\n",
        "for column in col_lags:\n",
        "  cols=['numeric_month','resident_status','sex','race_recode','cause_recode',column]\n",
        "  for lag in [1,6,12]:\n",
        "    tmp = death_cnt_group.select(cols)\n",
        "    shifted=tmp.withColumn(\"numeric_month\",col(\"numeric_month\")+lag)\\\n",
        "               .withColumnRenamed(column,f\"{column}_lag_{lag}\")\n",
        "    death_cnt_group = death_cnt_group.join(shifted,cols[:-1],how='left')\n"
      ],
      "execution_count": 38,
      "outputs": []
    },
    {
      "cell_type": "code",
      "metadata": {
        "colab": {
          "base_uri": "https://localhost:8080/"
        },
        "id": "1znv7igUNDBU",
        "outputId": "387ae661-d7ab-41fa-8913-81f181306cb7"
      },
      "source": [
        "death_cnt_group.dtypes"
      ],
      "execution_count": 39,
      "outputs": [
        {
          "output_type": "execute_result",
          "data": {
            "text/plain": [
              "[('numeric_month', 'int'),\n",
              " ('resident_status', 'int'),\n",
              " ('sex', 'int'),\n",
              " ('race_recode', 'int'),\n",
              " ('cause_recode', 'int'),\n",
              " ('count', 'bigint'),\n",
              " ('resident_status_death_mean', 'double'),\n",
              " ('sex_death_mean', 'double'),\n",
              " ('race_recode_death_mean', 'double'),\n",
              " ('cause_recode_death_mean', 'double'),\n",
              " ('count_lag_1', 'bigint'),\n",
              " ('count_lag_6', 'bigint'),\n",
              " ('count_lag_12', 'bigint'),\n",
              " ('resident_status_death_mean_lag_1', 'double'),\n",
              " ('resident_status_death_mean_lag_6', 'double'),\n",
              " ('resident_status_death_mean_lag_12', 'double'),\n",
              " ('sex_death_mean_lag_1', 'double'),\n",
              " ('sex_death_mean_lag_6', 'double'),\n",
              " ('sex_death_mean_lag_12', 'double'),\n",
              " ('race_recode_death_mean_lag_1', 'double'),\n",
              " ('race_recode_death_mean_lag_6', 'double'),\n",
              " ('race_recode_death_mean_lag_12', 'double')]"
            ]
          },
          "metadata": {
            "tags": []
          },
          "execution_count": 39
        }
      ]
    },
    {
      "cell_type": "code",
      "metadata": {
        "trusted": true,
        "id": "SVseDZEH1_kO"
      },
      "source": [
        "death_cnt_group=death_cnt_group.fillna(0)"
      ],
      "execution_count": 40,
      "outputs": []
    },
    {
      "cell_type": "code",
      "metadata": {
        "id": "RltbWgVYeA84"
      },
      "source": [
        "save_path=\"/content/drive/MyDrive/Colab Notebooks/BigData/Final project/\"\n",
        "death_cnt_group.toPandas().to_csv(save_path+\"features.csv\")"
      ],
      "execution_count": null,
      "outputs": []
    }
  ]
}