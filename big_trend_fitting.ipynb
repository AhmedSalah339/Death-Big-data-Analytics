{
  "nbformat": 4,
  "nbformat_minor": 0,
  "metadata": {
    "kernelspec": {
      "name": "python3",
      "display_name": "Python 3",
      "language": "python"
    },
    "language_info": {
      "pygments_lexer": "ipython3",
      "nbconvert_exporter": "python",
      "version": "3.6.4",
      "file_extension": ".py",
      "codemirror_mode": {
        "name": "ipython",
        "version": 3
      },
      "name": "python",
      "mimetype": "text/x-python"
    },
    "colab": {
      "name": "big_trend_fitting.ipynb",
      "provenance": [],
      "collapsed_sections": [
        "vK_XaXye1_kR",
        "IYPXNvhC1_kU",
        "oYEvK8PA1_kW",
        "4Y6ZMaKT1_kY",
        "9VMt-7b41_kZ"
      ],
      "include_colab_link": true
    }
  },
  "cells": [
    {
      "cell_type": "markdown",
      "metadata": {
        "id": "view-in-github",
        "colab_type": "text"
      },
      "source": [
        "<a href=\"https://colab.research.google.com/github/Khaled-Abdelhamid/Death-Big-data-Analytics/blob/Ahmed/big_trend_fitting.ipynb\" target=\"_parent\"><img src=\"https://colab.research.google.com/assets/colab-badge.svg\" alt=\"Open In Colab\"/></a>"
      ]
    },
    {
      "cell_type": "markdown",
      "metadata": {
        "id": "tLEhsSyn1_j6"
      },
      "source": [
        "In this notebook, I will try to fit the regression model of the trend of amount of the deceased from 2005 to 2014 and use this model to predict amount of the deceased in 2015"
      ]
    },
    {
      "cell_type": "markdown",
      "metadata": {
        "id": "3JwrBElV1_j_"
      },
      "source": [
        "The trend includes resident status, race, gender and death cause of the deceased"
      ]
    },
    {
      "cell_type": "code",
      "metadata": {
        "colab": {
          "base_uri": "https://localhost:8080/"
        },
        "id": "hWA2ZQW-2Drg",
        "outputId": "a32317c2-ab7b-40ac-d73d-630fa5cb4424"
      },
      "source": [
        "from google.colab import drive\n",
        "drive.mount('/content/drive')"
      ],
      "execution_count": 3,
      "outputs": [
        {
          "output_type": "stream",
          "text": [
            "Drive already mounted at /content/drive; to attempt to forcibly remount, call drive.mount(\"/content/drive\", force_remount=True).\n"
          ],
          "name": "stdout"
        }
      ]
    },
    {
      "cell_type": "code",
      "metadata": {
        "_uuid": "8f2839f25d086af736a60e9eeb907d3b93b6e0e5",
        "_cell_guid": "b1076dfc-b9ad-4769-8c92-a6c4dae69d19",
        "trusted": true,
        "id": "80CEwdwx1_kA"
      },
      "source": [
        "import numpy as np \n",
        "import pandas as pd \n",
        "import time\n",
        "import json\n",
        "import gc\n",
        "import xgboost as xgb \n",
        "from sklearn.model_selection import GridSearchCV\n",
        "import matplotlib.pyplot as plt"
      ],
      "execution_count": 4,
      "outputs": []
    },
    {
      "cell_type": "code",
      "metadata": {
        "id": "MHcc0lWrSkKw"
      },
      "source": [
        "!apt-get install openjdk-8-jdk-headless -qq > /dev/null\n",
        "!wget -q https://downloads.apache.org/spark/spark-2.4.7/spark-2.4.7-bin-hadoop2.7.tgz\n",
        "!tar xf spark-2.4.7-bin-hadoop2.7.tgz\n",
        "!pip install -q findspark"
      ],
      "execution_count": 5,
      "outputs": []
    },
    {
      "cell_type": "code",
      "metadata": {
        "id": "uRcD1-BfSlHo"
      },
      "source": [
        "import os\n",
        "os.environ[\"JAVA_HOME\"] = \"/usr/lib/jvm/java-8-openjdk-amd64\"\n",
        "os.environ[\"SPARK_HOME\"] = \"/content/spark-2.4.7-bin-hadoop2.7\"\n",
        "# os.environ[\"SPARK_HOME\"] =\"/content/drive/MyDrive/Colab Notebooks/BigData/spark-2.4.7-bin-hadoop2.7\"\n"
      ],
      "execution_count": 6,
      "outputs": []
    },
    {
      "cell_type": "code",
      "metadata": {
        "id": "-rJE1s5SSolK"
      },
      "source": [
        "import findspark\n",
        "findspark.init()\n",
        "from pyspark.sql import SparkSession\n",
        "spark = SparkSession.builder.master(\"local[*]\").getOrCreate()"
      ],
      "execution_count": 7,
      "outputs": []
    },
    {
      "cell_type": "code",
      "metadata": {
        "id": "7n3IOGUzSqK8"
      },
      "source": [
        "from pyspark.sql import functions as F\n",
        "from pyspark.sql.types import DoubleType, IntegerType, StringType\n",
        "from pyspark.sql.functions import udf,col\n"
      ],
      "execution_count": 58,
      "outputs": []
    },
    {
      "cell_type": "code",
      "metadata": {
        "colab": {
          "base_uri": "https://localhost:8080/"
        },
        "id": "Vp5fx4t-Str4",
        "outputId": "a87770b0-0c68-4b8d-9f0f-0287dc034bb3"
      },
      "source": [
        "start = time.time()\n",
        "data_path=\"/content/drive/MyDrive/Colab Notebooks/BigData/Final project/Death-Big-data-Analytics/archive\"\n",
        "df=spark.read.options(header=True,inferSchema=True).csv(data_path)\n",
        "df.show(truncate=False)\n",
        "print((time.time()-start)/60)"
      ],
      "execution_count": 9,
      "outputs": [
        {
          "output_type": "stream",
          "text": [
            "+---------------+-----------------------+-----------------------+------------------------+--------------+---+---------------+----------+---------------------+-------------+-------------+-------------+--------------------+-----------------------------------+--------------+--------------------+-----------------+--------------+---------------+---------------------+-------+-------------+------------------------------------------------------+----------------------+----------------+----------------+-----------------------+---------------+--------------------------------+------------------+------------------+------------------+------------------+------------------+------------------+------------------+------------------+------------------+-------------------+-------------------+-------------------+-------------------+-------------------+-------------------+-------------------+-------------------+-------------------+-------------------+-------------------+--------------------------------+------------------+------------------+------------------+------------------+------------------+------------------+------------------+------------------+------------------+-------------------+-------------------+-------------------+-------------------+-------------------+-------------------+-------------------+-------------------+-------------------+-------------------+-------------------+----+-----------------+--------------------+-------------+-------------+---------------+--------------------------+\n",
            "|resident_status|education_1989_revision|education_2003_revision|education_reporting_flag|month_of_death|sex|detail_age_type|detail_age|age_substitution_flag|age_recode_52|age_recode_27|age_recode_12|infant_age_recode_22|place_of_death_and_decedents_status|marital_status|day_of_week_of_death|current_data_year|injury_at_work|manner_of_death|method_of_disposition|autopsy|activity_code|place_of_injury_for_causes_w00_y34_except_y06_and_y07_|icd_code_10th_revision|358_cause_recode|113_cause_recode|130_infant_cause_recode|39_cause_recode|number_of_entity_axis_conditions|entity_condition_1|entity_condition_2|entity_condition_3|entity_condition_4|entity_condition_5|entity_condition_6|entity_condition_7|entity_condition_8|entity_condition_9|entity_condition_10|entity_condition_11|entity_condition_12|entity_condition_13|entity_condition_14|entity_condition_15|entity_condition_16|entity_condition_17|entity_condition_18|entity_condition_19|entity_condition_20|number_of_record_axis_conditions|record_condition_1|record_condition_2|record_condition_3|record_condition_4|record_condition_5|record_condition_6|record_condition_7|record_condition_8|record_condition_9|record_condition_10|record_condition_11|record_condition_12|record_condition_13|record_condition_14|record_condition_15|record_condition_16|record_condition_17|record_condition_18|record_condition_19|record_condition_20|race|bridged_race_flag|race_imputation_flag|race_recode_3|race_recode_5|hispanic_origin|hispanic_originrace_recode|\n",
            "+---------------+-----------------------+-----------------------+------------------------+--------------+---+---------------+----------+---------------------+-------------+-------------+-------------+--------------------+-----------------------------------+--------------+--------------------+-----------------+--------------+---------------+---------------------+-------+-------------+------------------------------------------------------+----------------------+----------------+----------------+-----------------------+---------------+--------------------------------+------------------+------------------+------------------+------------------+------------------+------------------+------------------+------------------+------------------+-------------------+-------------------+-------------------+-------------------+-------------------+-------------------+-------------------+-------------------+-------------------+-------------------+-------------------+--------------------------------+------------------+------------------+------------------+------------------+------------------+------------------+------------------+------------------+------------------+-------------------+-------------------+-------------------+-------------------+-------------------+-------------------+-------------------+-------------------+-------------------+-------------------+-------------------+----+-----------------+--------------------+-------------+-------------+---------------+--------------------------+\n",
            "|1              |10                     |null                   |0                       |01            |F  |1              |084       |null                 |42           |22           |10           |null                |4                                  |W             |2                   |2006             |U             |null           |U                    |N      |null         |null                                                  |I500                  |230             |067             |null                   |22             |01                              |11I500            |null              |null              |null              |null              |null              |null              |null              |null              |null               |null               |null               |null               |null               |null               |null               |null               |null               |null               |null               |01                              |I500              |null              |null              |null              |null              |null              |null              |null              |null              |null               |null               |null               |null               |null               |null               |null               |null               |null               |null               |null               |01  |null             |null                |1            |1            |100            |6                         |\n",
            "|1              |06                     |null                   |0                       |01            |F  |1              |093       |null                 |44           |24           |11           |null                |1                                  |W             |1                   |2006             |U             |null           |U                    |U      |null         |null                                                  |I251                  |215             |063             |null                   |21             |03                              |11I500            |12J81             |21I251            |null              |null              |null              |null              |null              |null              |null               |null               |null               |null               |null               |null               |null               |null               |null               |null               |null               |03                              |I251              |I500              |J81               |null              |null              |null              |null              |null              |null              |null               |null               |null               |null               |null               |null               |null               |null               |null               |null               |null               |01  |null             |null                |1            |1            |100            |6                         |\n",
            "|1              |06                     |null                   |0                       |01            |M  |1              |076       |null                 |41           |21           |10           |null                |4                                  |M             |2                   |2006             |U             |null           |U                    |U      |null         |null                                                  |N189                  |327             |100             |null                   |31             |02                              |11I500            |21N189            |null              |null              |null              |null              |null              |null              |null              |null               |null               |null               |null               |null               |null               |null               |null               |null               |null               |null               |02                              |N189              |I500              |null              |null              |null              |null              |null              |null              |null              |null               |null               |null               |null               |null               |null               |null               |null               |null               |null               |null               |01  |null             |null                |1            |1            |100            |6                         |\n",
            "|2              |12                     |null                   |0                       |01            |M  |1              |078       |null                 |41           |21           |10           |null                |1                                  |W             |1                   |2006             |U             |7              |U                    |N      |null         |null                                                  |J449                  |267             |086             |null                   |28             |05                              |11I469            |61J449            |62J984            |63C80             |64I251            |null              |null              |null              |null              |null               |null               |null               |null               |null               |null               |null               |null               |null               |null               |null               |04                              |J449              |C80               |I251              |I469              |null              |null              |null              |null              |null              |null               |null               |null               |null               |null               |null               |null               |null               |null               |null               |null               |01  |null             |null                |1            |1            |100            |6                         |\n",
            "|1              |13                     |null                   |0                       |01            |F  |1              |073       |null                 |40           |20           |09           |null                |1                                  |D             |2                   |2006             |U             |7              |U                    |N      |null         |null                                                  |C509                  |104             |029             |null                   |09             |02                              |11J969            |21C509            |null              |null              |null              |null              |null              |null              |null              |null               |null               |null               |null               |null               |null               |null               |null               |null               |null               |null               |02                              |C509              |J969              |null              |null              |null              |null              |null              |null              |null              |null               |null               |null               |null               |null               |null               |null               |null               |null               |null               |null               |02  |null             |null                |3            |2            |100            |7                         |\n",
            "|1              |12                     |null                   |0                       |01            |M  |1              |050       |null                 |36           |16           |07           |null                |7                                  |M             |1                   |2006             |U             |1              |U                    |N      |9            |null                                                  |V299                  |388             |114             |null                   |38             |02                              |11T149            |12V299            |null              |null              |null              |null              |null              |null              |null              |null               |null               |null               |null               |null               |null               |null               |null               |null               |null               |null               |02                              |V299              |T149              |null              |null              |null              |null              |null              |null              |null              |null               |null               |null               |null               |null               |null               |null               |null               |null               |null               |null               |01  |null             |null                |1            |1            |100            |6                         |\n",
            "|1              |08                     |null                   |0                       |01            |M  |1              |059       |null                 |37           |17           |08           |null                |4                                  |M             |3                   |2006             |U             |7              |U                    |N      |null         |null                                                  |I469                  |228             |068             |null                   |22             |01                              |11I469            |null              |null              |null              |null              |null              |null              |null              |null              |null               |null               |null               |null               |null               |null               |null               |null               |null               |null               |null               |01                              |I469              |null              |null              |null              |null              |null              |null              |null              |null              |null               |null               |null               |null               |null               |null               |null               |null               |null               |null               |null               |01  |null             |null                |1            |1            |100            |6                         |\n",
            "|1              |17                     |null                   |0                       |01            |F  |1              |084       |null                 |42           |22           |10           |null                |2                                  |W             |2                   |2006             |U             |1              |U                    |N      |9            |9                                                     |X59                   |423             |123             |null                   |39             |05                              |11R092            |21S068            |61I10             |62G309            |63X59             |null              |null              |null              |null              |null               |null               |null               |null               |null               |null               |null               |null               |null               |null               |null               |05                              |X59               |G309              |I10               |R092              |S068              |null              |null              |null              |null              |null               |null               |null               |null               |null               |null               |null               |null               |null               |null               |null               |01  |null             |null                |1            |1            |100            |6                         |\n",
            "|1              |12                     |null                   |0                       |01            |F  |1              |089       |null                 |43           |23           |11           |null                |6                                  |W             |1                   |2006             |U             |7              |U                    |U      |null         |null                                                  |J449                  |267             |086             |null                   |28             |01                              |11J449            |null              |null              |null              |null              |null              |null              |null              |null              |null               |null               |null               |null               |null               |null               |null               |null               |null               |null               |null               |01                              |J449              |null              |null              |null              |null              |null              |null              |null              |null              |null               |null               |null               |null               |null               |null               |null               |null               |null               |null               |null               |01  |null             |null                |1            |1            |100            |6                         |\n",
            "|1              |12                     |null                   |0                       |01            |F  |1              |041       |null                 |34           |14           |06           |null                |7                                  |M             |2                   |2006             |U             |1              |U                    |N      |9            |null                                                  |V892                  |397             |114             |null                   |38             |03                              |11S099            |12V892            |13S299            |null              |null              |null              |null              |null              |null              |null               |null               |null               |null               |null               |null               |null               |null               |null               |null               |null               |03                              |V892              |S099              |S299              |null              |null              |null              |null              |null              |null              |null               |null               |null               |null               |null               |null               |null               |null               |null               |null               |null               |01  |null             |null                |1            |1            |100            |6                         |\n",
            "|1              |12                     |null                   |0                       |01            |F  |1              |077       |null                 |41           |21           |10           |null                |4                                  |M             |1                   |2006             |U             |7              |U                    |N      |null         |null                                                  |G309                  |189             |052             |null                   |17             |02                              |11I469            |21G309            |null              |null              |null              |null              |null              |null              |null              |null               |null               |null               |null               |null               |null               |null               |null               |null               |null               |null               |02                              |G309              |I469              |null              |null              |null              |null              |null              |null              |null              |null               |null               |null               |null               |null               |null               |null               |null               |null               |null               |null               |01  |null             |null                |1            |1            |100            |6                         |\n",
            "|1              |12                     |null                   |0                       |01            |F  |1              |086       |null                 |43           |23           |11           |null                |2                                  |W             |2                   |2006             |U             |null           |U                    |U      |null         |null                                                  |J189                  |257             |078             |null                   |27             |03                              |11I469            |21R092            |31J189            |null              |null              |null              |null              |null              |null              |null               |null               |null               |null               |null               |null               |null               |null               |null               |null               |null               |03                              |J189              |I469              |R092              |null              |null              |null              |null              |null              |null              |null               |null               |null               |null               |null               |null               |null               |null               |null               |null               |null               |01  |null             |null                |1            |1            |100            |6                         |\n",
            "|1              |16                     |null                   |0                       |01            |M  |1              |093       |null                 |44           |24           |11           |null                |1                                  |W             |1                   |2006             |U             |null           |U                    |U      |null         |null                                                  |N19                   |327             |100             |null                   |31             |02                              |11I219            |21N19             |null              |null              |null              |null              |null              |null              |null              |null               |null               |null               |null               |null               |null               |null               |null               |null               |null               |null               |02                              |N19               |I219              |null              |null              |null              |null              |null              |null              |null              |null               |null               |null               |null               |null               |null               |null               |null               |null               |null               |null               |01  |null             |null                |1            |1            |100            |6                         |\n",
            "|1              |12                     |null                   |0                       |01            |F  |1              |052       |null                 |36           |16           |07           |null                |1                                  |M             |1                   |2006             |U             |null           |U                    |U      |null         |null                                                  |J449                  |267             |086             |null                   |28             |07                              |11I469            |21R688            |61J449            |62G473            |63C189            |64I10             |65E785            |null              |null              |null               |null               |null               |null               |null               |null               |null               |null               |null               |null               |null               |07                              |J449              |C189              |E785              |G473              |I10               |I469              |R688              |null              |null              |null               |null               |null               |null               |null               |null               |null               |null               |null               |null               |null               |01  |null             |null                |1            |1            |100            |6                         |\n",
            "|1              |12                     |null                   |0                       |01            |F  |1              |042       |null                 |34           |14           |06           |null                |4                                  |M             |1                   |2006             |U             |7              |U                    |N      |null         |null                                                  |C509                  |104             |029             |null                   |09             |01                              |11C509            |null              |null              |null              |null              |null              |null              |null              |null              |null               |null               |null               |null               |null               |null               |null               |null               |null               |null               |null               |01                              |C509              |null              |null              |null              |null              |null              |null              |null              |null              |null               |null               |null               |null               |null               |null               |null               |null               |null               |null               |null               |01  |null             |null                |1            |1            |100            |6                         |\n",
            "|1              |16                     |null                   |0                       |01            |M  |1              |057       |null                 |37           |17           |08           |null                |4                                  |D             |3                   |2006             |U             |7              |U                    |N      |null         |null                                                  |I500                  |230             |067             |null                   |22             |01                              |11I500            |null              |null              |null              |null              |null              |null              |null              |null              |null               |null               |null               |null               |null               |null               |null               |null               |null               |null               |null               |01                              |I500              |null              |null              |null              |null              |null              |null              |null              |null              |null               |null               |null               |null               |null               |null               |null               |null               |null               |null               |null               |01  |null             |null                |1            |1            |100            |6                         |\n",
            "|1              |13                     |null                   |0                       |01            |F  |1              |073       |null                 |40           |20           |09           |null                |1                                  |M             |1                   |2006             |U             |7              |U                    |N      |null         |null                                                  |D70                   |154             |111             |null                   |37             |03                              |11L039            |21A419            |31D70             |null              |null              |null              |null              |null              |null              |null               |null               |null               |null               |null               |null               |null               |null               |null               |null               |null               |03                              |D70               |A419              |L039              |null              |null              |null              |null              |null              |null              |null               |null               |null               |null               |null               |null               |null               |null               |null               |null               |null               |01  |null             |null                |1            |1            |100            |6                         |\n",
            "|1              |11                     |null                   |0                       |01            |F  |1              |074       |null                 |40           |20           |09           |null                |4                                  |W             |2                   |2006             |U             |7              |U                    |N      |null         |null                                                  |C189                  |081             |023             |null                   |06             |01                              |11C189            |null              |null              |null              |null              |null              |null              |null              |null              |null               |null               |null               |null               |null               |null               |null               |null               |null               |null               |null               |01                              |C189              |null              |null              |null              |null              |null              |null              |null              |null              |null               |null               |null               |null               |null               |null               |null               |null               |null               |null               |null               |02  |null             |null                |3            |2            |100            |7                         |\n",
            "|2              |10                     |null                   |0                       |01            |F  |1              |057       |null                 |37           |17           |08           |null                |1                                  |W             |2                   |2006             |U             |7              |U                    |N      |null         |null                                                  |I519                  |233             |068             |null                   |22             |05                              |11R688            |21I519            |31R578            |61M839            |62E668            |null              |null              |null              |null              |null               |null               |null               |null               |null               |null               |null               |null               |null               |null               |null               |05                              |I519              |E668              |M839              |R578              |R688              |null              |null              |null              |null              |null               |null               |null               |null               |null               |null               |null               |null               |null               |null               |null               |01  |null             |null                |1            |1            |100            |6                         |\n",
            "|2              |12                     |null                   |0                       |01            |M  |1              |071       |null                 |40           |20           |09           |null                |1                                  |M             |3                   |2006             |U             |7              |U                    |N      |null         |null                                                  |C920                  |135             |040             |null                   |14             |07                              |11J969            |21D469            |31C920            |41C782            |61K922            |62C61             |63I251            |null              |null              |null               |null               |null               |null               |null               |null               |null               |null               |null               |null               |null               |07                              |C920              |C61               |C782              |D469              |I251              |J969              |K922              |null              |null              |null               |null               |null               |null               |null               |null               |null               |null               |null               |null               |null               |01  |null             |null                |1            |1            |100            |6                         |\n",
            "+---------------+-----------------------+-----------------------+------------------------+--------------+---+---------------+----------+---------------------+-------------+-------------+-------------+--------------------+-----------------------------------+--------------+--------------------+-----------------+--------------+---------------+---------------------+-------+-------------+------------------------------------------------------+----------------------+----------------+----------------+-----------------------+---------------+--------------------------------+------------------+------------------+------------------+------------------+------------------+------------------+------------------+------------------+------------------+-------------------+-------------------+-------------------+-------------------+-------------------+-------------------+-------------------+-------------------+-------------------+-------------------+-------------------+--------------------------------+------------------+------------------+------------------+------------------+------------------+------------------+------------------+------------------+------------------+-------------------+-------------------+-------------------+-------------------+-------------------+-------------------+-------------------+-------------------+-------------------+-------------------+-------------------+----+-----------------+--------------------+-------------+-------------+---------------+--------------------------+\n",
            "only showing top 20 rows\n",
            "\n",
            "3.1159384806950885\n"
          ],
          "name": "stdout"
        }
      ]
    },
    {
      "cell_type": "code",
      "metadata": {
        "trusted": true,
        "colab": {
          "base_uri": "https://localhost:8080/"
        },
        "id": "Nyi33PuD1_kC",
        "outputId": "f6213536-f1f0-4597-ed73-74d2a704a24d"
      },
      "source": [
        "df.dtypes"
      ],
      "execution_count": 16,
      "outputs": [
        {
          "output_type": "execute_result",
          "data": {
            "text/plain": [
              "[('resident_status', 'string'),\n",
              " ('education_1989_revision', 'string'),\n",
              " ('education_2003_revision', 'string'),\n",
              " ('education_reporting_flag', 'string'),\n",
              " ('month_of_death', 'string'),\n",
              " ('sex', 'string'),\n",
              " ('detail_age_type', 'string'),\n",
              " ('detail_age', 'string'),\n",
              " ('age_substitution_flag', 'string'),\n",
              " ('age_recode_52', 'string'),\n",
              " ('age_recode_27', 'string'),\n",
              " ('age_recode_12', 'string'),\n",
              " ('infant_age_recode_22', 'string'),\n",
              " ('place_of_death_and_decedents_status', 'string'),\n",
              " ('marital_status', 'string'),\n",
              " ('day_of_week_of_death', 'string'),\n",
              " ('current_data_year', 'string'),\n",
              " ('injury_at_work', 'string'),\n",
              " ('manner_of_death', 'string'),\n",
              " ('method_of_disposition', 'string'),\n",
              " ('autopsy', 'string'),\n",
              " ('activity_code', 'string'),\n",
              " ('place_of_injury_for_causes_w00_y34_except_y06_and_y07_', 'string'),\n",
              " ('icd_code_10th_revision', 'string'),\n",
              " ('358_cause_recode', 'string'),\n",
              " ('113_cause_recode', 'string'),\n",
              " ('130_infant_cause_recode', 'string'),\n",
              " ('39_cause_recode', 'string'),\n",
              " ('number_of_entity_axis_conditions', 'string'),\n",
              " ('entity_condition_1', 'string'),\n",
              " ('entity_condition_2', 'string'),\n",
              " ('entity_condition_3', 'string'),\n",
              " ('entity_condition_4', 'string'),\n",
              " ('entity_condition_5', 'string'),\n",
              " ('entity_condition_6', 'string'),\n",
              " ('entity_condition_7', 'string'),\n",
              " ('entity_condition_8', 'string'),\n",
              " ('entity_condition_9', 'string'),\n",
              " ('entity_condition_10', 'string'),\n",
              " ('entity_condition_11', 'string'),\n",
              " ('entity_condition_12', 'string'),\n",
              " ('entity_condition_13', 'string'),\n",
              " ('entity_condition_14', 'string'),\n",
              " ('entity_condition_15', 'string'),\n",
              " ('entity_condition_16', 'string'),\n",
              " ('entity_condition_17', 'string'),\n",
              " ('entity_condition_18', 'string'),\n",
              " ('entity_condition_19', 'string'),\n",
              " ('entity_condition_20', 'string'),\n",
              " ('number_of_record_axis_conditions', 'string'),\n",
              " ('record_condition_1', 'string'),\n",
              " ('record_condition_2', 'string'),\n",
              " ('record_condition_3', 'string'),\n",
              " ('record_condition_4', 'string'),\n",
              " ('record_condition_5', 'string'),\n",
              " ('record_condition_6', 'string'),\n",
              " ('record_condition_7', 'string'),\n",
              " ('record_condition_8', 'string'),\n",
              " ('record_condition_9', 'string'),\n",
              " ('record_condition_10', 'string'),\n",
              " ('record_condition_11', 'string'),\n",
              " ('record_condition_12', 'string'),\n",
              " ('record_condition_13', 'string'),\n",
              " ('record_condition_14', 'string'),\n",
              " ('record_condition_15', 'string'),\n",
              " ('record_condition_16', 'string'),\n",
              " ('record_condition_17', 'string'),\n",
              " ('record_condition_18', 'string'),\n",
              " ('record_condition_19', 'string'),\n",
              " ('record_condition_20', 'string'),\n",
              " ('race', 'string'),\n",
              " ('bridged_race_flag', 'string'),\n",
              " ('race_imputation_flag', 'string'),\n",
              " ('race_recode_3', 'string'),\n",
              " ('race_recode_5', 'string'),\n",
              " ('hispanic_origin', 'string'),\n",
              " ('hispanic_originrace_recode', 'string')]"
            ]
          },
          "metadata": {
            "tags": []
          },
          "execution_count": 16
        }
      ]
    },
    {
      "cell_type": "markdown",
      "metadata": {
        "id": "BbhHawTB1_kD"
      },
      "source": [
        "# Data Preprocessing and Feature Engineering"
      ]
    },
    {
      "cell_type": "code",
      "metadata": {
        "id": "1FN8ee-5bvFr"
      },
      "source": [
        "df=df.filter(\"current_data_year in ('2005','2006','2007','2008','2009','2010','2011','2012','2013','2014','2015')\")\\\n",
        "               .filter('sex in (\"M\",\"F\")')\n"
      ],
      "execution_count": 212,
      "outputs": []
    },
    {
      "cell_type": "code",
      "metadata": {
        "trusted": true,
        "id": "hX5iBuYm1_kD"
      },
      "source": [
        "features = ['current_data_year','month_of_death','resident_status','sex','race_recode_3','39_cause_recode']\n",
        "train_1=df.select(features)\n",
        "\n",
        "# df2.groupby(\"current_data_year\").count().show()\n"
      ],
      "execution_count": 213,
      "outputs": []
    },
    {
      "cell_type": "code",
      "metadata": {
        "colab": {
          "base_uri": "https://localhost:8080/"
        },
        "id": "lhSV0bN8lKgc",
        "outputId": "26979107-5c91-48e9-9718-6650a3280c8f"
      },
      "source": [
        "train_1.groupby(\"race_recode_3\").count().show()"
      ],
      "execution_count": 29,
      "outputs": [
        {
          "output_type": "stream",
          "text": [
            "+-------------+--------+\n",
            "|race_recode_3|   count|\n",
            "+-------------+--------+\n",
            "|            3| 3258257|\n",
            "|            1|23703335|\n",
            "|            2|  759081|\n",
            "+-------------+--------+\n",
            "\n"
          ],
          "name": "stdout"
        }
      ]
    },
    {
      "cell_type": "code",
      "metadata": {
        "colab": {
          "base_uri": "https://localhost:8080/"
        },
        "id": "qgq9zEeqlQJw",
        "outputId": "4c988a8d-0f91-437f-bf2c-1dfa6539849d"
      },
      "source": [
        "train_1.groupby(\"39_cause_recode\").count().show()"
      ],
      "execution_count": 28,
      "outputs": [
        {
          "output_type": "stream",
          "text": [
            "+---------------+-------+\n",
            "|39_cause_recode|  count|\n",
            "+---------------+-------+\n",
            "|             07| 405728|\n",
            "|             15|1630010|\n",
            "|             11| 311877|\n",
            "|             29|  33924|\n",
            "|             42|  59467|\n",
            "|             30| 361128|\n",
            "|             34| 110071|\n",
            "|             01|   6169|\n",
            "|             22|2060821|\n",
            "|             28|1538728|\n",
            "|             16| 807571|\n",
            "|             35|  21919|\n",
            "|             31| 520221|\n",
            "|             27| 606709|\n",
            "|             17| 921265|\n",
            "|             26| 222159|\n",
            "|             09| 455641|\n",
            "|             05| 124569|\n",
            "|             41| 189552|\n",
            "|             23| 301297|\n",
            "+---------------+-------+\n",
            "only showing top 20 rows\n",
            "\n"
          ],
          "name": "stdout"
        }
      ]
    },
    {
      "cell_type": "code",
      "metadata": {
        "colab": {
          "base_uri": "https://localhost:8080/"
        },
        "id": "9wU9Z37slGzO",
        "outputId": "e24c583c-e3e4-40cd-de3f-f68da80b28ee"
      },
      "source": [
        "train_1.groupby(\"resident_status\").count().show()"
      ],
      "execution_count": 27,
      "outputs": [
        {
          "output_type": "stream",
          "text": [
            "+---------------+--------+\n",
            "|resident_status|   count|\n",
            "+---------------+--------+\n",
            "|              3|  905032|\n",
            "|              1|22449300|\n",
            "|              4|   50320|\n",
            "|              2| 4316021|\n",
            "+---------------+--------+\n",
            "\n"
          ],
          "name": "stdout"
        }
      ]
    },
    {
      "cell_type": "code",
      "metadata": {
        "trusted": true,
        "colab": {
          "base_uri": "https://localhost:8080/"
        },
        "id": "KrbwUlNc1_kE",
        "outputId": "fa1afe23-525f-45a0-d853-650f2a32ee8f"
      },
      "source": [
        "train_1.groupby(\"current_data_year\").count().show()"
      ],
      "execution_count": 22,
      "outputs": [
        {
          "output_type": "stream",
          "text": [
            "+-----------------+-------+\n",
            "|current_data_year|  count|\n",
            "+-----------------+-------+\n",
            "|             2012|2547864|\n",
            "|             2014|2631171|\n",
            "|             2013|2601452|\n",
            "|             2005|2452506|\n",
            "|             2009|2441219|\n",
            "|             2006|2430725|\n",
            "|             2011|2519842|\n",
            "|             2008|2476811|\n",
            "|             2007|2428343|\n",
            "|             2015|2718198|\n",
            "|             2010|2472542|\n",
            "+-----------------+-------+\n",
            "\n"
          ],
          "name": "stdout"
        }
      ]
    },
    {
      "cell_type": "code",
      "metadata": {
        "colab": {
          "base_uri": "https://localhost:8080/"
        },
        "id": "-UnmGiz-iqqL",
        "outputId": "2acae6c5-b0a5-4a12-8028-8c424e67bfd7"
      },
      "source": [
        "train_1.groupby(\"month_of_death\").count().show()"
      ],
      "execution_count": 26,
      "outputs": [
        {
          "output_type": "stream",
          "text": [
            "+--------------+-------+\n",
            "|month_of_death|  count|\n",
            "+--------------+-------+\n",
            "|            07|2205194|\n",
            "|            11|2285476|\n",
            "|            01|2571615|\n",
            "|            09|2146811|\n",
            "|            05|2278865|\n",
            "|            08|2191365|\n",
            "|            03|2494294|\n",
            "|            02|2324679|\n",
            "|            06|2154291|\n",
            "|            10|2292374|\n",
            "|            12|2479590|\n",
            "|            04|2296119|\n",
            "+--------------+-------+\n",
            "\n"
          ],
          "name": "stdout"
        }
      ]
    },
    {
      "cell_type": "code",
      "metadata": {
        "trusted": true,
        "id": "9iXn_9TI1_kG"
      },
      "source": [
        "def read_json(path):\n",
        "    with open(path,'r', encoding = 'utf-8') as f:\n",
        "        definition = json.load(f)\n",
        "    return definition"
      ],
      "execution_count": 46,
      "outputs": []
    },
    {
      "cell_type": "code",
      "metadata": {
        "trusted": true,
        "id": "WxvKP6-f1_kG"
      },
      "source": [
        "path=\"/content/drive/MyDrive/Colab Notebooks/BigData/Final project/Death-Big-data-Analytics/archive\"\n",
        "definition = read_json(path+'/2005_codes.json')\n",
        "definition['place_of_death_and_decedents_status']['1'] = 'Hospital, Clinic or Medical Center'"
      ],
      "execution_count": 47,
      "outputs": []
    },
    {
      "cell_type": "markdown",
      "metadata": {
        "id": "tNfEKLyO1_kG"
      },
      "source": [
        "Typo in the json file"
      ]
    },
    {
      "cell_type": "code",
      "metadata": {
        "trusted": true,
        "id": "WATvisvS1_kH"
      },
      "source": [
        "cause_definition = {}\n",
        "neoplasm = list(range(4,16))\n",
        "heart = list(range(19,23))\n",
        "\n",
        "cause_dict = {'accident':1, 'heart':2, 'neoplasm':3,'others':4}\n",
        "\n",
        "for i in range(1,43):\n",
        "    if i in neoplasm:\n",
        "        cause_definition[i] = cause_dict['neoplasm'] # code for neoplasmic deaths\n",
        "    elif i in heart:\n",
        "        cause_definition[i] = cause_dict['heart'] # code for heart related deaths\n",
        "    elif i in [38,39]:\n",
        "        cause_definition[i] = cause_dict['accident'] # code for accident related deaths\n",
        "    else:\n",
        "        cause_definition[i] = cause_dict['others'] # code for other deaths"
      ],
      "execution_count": 304,
      "outputs": []
    },
    {
      "cell_type": "code",
      "metadata": {
        "colab": {
          "base_uri": "https://localhost:8080/"
        },
        "id": "Pj00gQ9utJmb",
        "outputId": "1cc9d86d-7885-4c12-cfcd-595c52a12cfb"
      },
      "source": [
        "cause_definition"
      ],
      "execution_count": 305,
      "outputs": [
        {
          "output_type": "execute_result",
          "data": {
            "text/plain": [
              "{1: 4,\n",
              " 2: 4,\n",
              " 3: 4,\n",
              " 4: 3,\n",
              " 5: 3,\n",
              " 6: 3,\n",
              " 7: 3,\n",
              " 8: 3,\n",
              " 9: 3,\n",
              " 10: 3,\n",
              " 11: 3,\n",
              " 12: 3,\n",
              " 13: 3,\n",
              " 14: 3,\n",
              " 15: 3,\n",
              " 16: 4,\n",
              " 17: 4,\n",
              " 18: 4,\n",
              " 19: 2,\n",
              " 20: 2,\n",
              " 21: 2,\n",
              " 22: 2,\n",
              " 23: 4,\n",
              " 24: 4,\n",
              " 25: 4,\n",
              " 26: 4,\n",
              " 27: 4,\n",
              " 28: 4,\n",
              " 29: 4,\n",
              " 30: 4,\n",
              " 31: 4,\n",
              " 32: 4,\n",
              " 33: 4,\n",
              " 34: 4,\n",
              " 35: 4,\n",
              " 36: 4,\n",
              " 37: 4,\n",
              " 38: 1,\n",
              " 39: 1,\n",
              " 40: 4,\n",
              " 41: 4,\n",
              " 42: 4}"
            ]
          },
          "metadata": {
            "tags": []
          },
          "execution_count": 305
        }
      ]
    },
    {
      "cell_type": "code",
      "metadata": {
        "id": "SP_o69gBwc-N"
      },
      "source": [
        "features = ['current_data_year','month_of_death','resident_status','sex','race_recode_3','39_cause_recode']\n",
        "train_1=df.select(features)\n"
      ],
      "execution_count": 306,
      "outputs": []
    },
    {
      "cell_type": "code",
      "metadata": {
        "id": "_n2ycRLlqK0N"
      },
      "source": [
        "@udf(returnType=IntegerType()) \n",
        "def convertCause(val):\n",
        "  return cause_definition[int(val)]\n",
        "\n",
        "@udf(returnType=IntegerType()) \n",
        "def convertResidency(val):\n",
        "  return 1 if val==\"1\" or val==\"4\" else 0\n",
        "\n",
        "@udf(returnType=IntegerType()) \n",
        "def convertSex(val):\n",
        "  return 1 if val==\"M\"  else 0"
      ],
      "execution_count": 307,
      "outputs": []
    },
    {
      "cell_type": "code",
      "metadata": {
        "id": "Hm48zTwisThs"
      },
      "source": [
        "train_1=train_1.withColumn('cause_recode',convertCause(col('39_cause_recode')))\\\n",
        "               .withColumn('resident_status',convertResidency(col('resident_status')))\\\n",
        "               .withColumn('sex',convertSex(col('sex')))\\\n",
        "               .withColumn(\"current_data_year\",col(\"current_data_year\").cast(\"Integer\"))\\\n",
        "               .withColumn(\"month_of_death\",col(\"month_of_death\").cast(\"Integer\"))\\\n",
        "               .withColumn(\"race_recode\",col(\"race_recode_3\").cast(\"Integer\"))\\\n",
        "               .withColumn(\"numeric_month\",col(\"month_of_death\")+(col(\"current_data_year\")-2005)*12)\\\n",
        "               .filter('cause_recode != 4') # remove all of death samples with cause code (others)"
      ],
      "execution_count": 308,
      "outputs": []
    },
    {
      "cell_type": "code",
      "metadata": {
        "colab": {
          "base_uri": "https://localhost:8080/"
        },
        "id": "5Gaxjs9fyqI0",
        "outputId": "d806ae9a-03d2-46f6-ce9d-812ebd9a4277"
      },
      "source": [
        "train_1.show()"
      ],
      "execution_count": 309,
      "outputs": [
        {
          "output_type": "stream",
          "text": [
            "+-----------------+--------------+---------------+---+-------------+---------------+------------+-----------+-------------+\n",
            "|current_data_year|month_of_death|resident_status|sex|race_recode_3|39_cause_recode|cause_recode|race_recode|numeric_month|\n",
            "+-----------------+--------------+---------------+---+-------------+---------------+------------+-----------+-------------+\n",
            "|             2006|             1|              1|  0|            1|             22|           2|          1|           13|\n",
            "|             2006|             1|              1|  0|            1|             21|           2|          1|           13|\n",
            "|             2006|             1|              1|  0|            3|             09|           3|          3|           13|\n",
            "|             2006|             1|              1|  1|            1|             38|           1|          1|           13|\n",
            "|             2006|             1|              1|  1|            1|             22|           2|          1|           13|\n",
            "|             2006|             1|              1|  0|            1|             39|           1|          1|           13|\n",
            "|             2006|             1|              1|  0|            1|             38|           1|          1|           13|\n",
            "|             2006|             1|              1|  0|            1|             09|           3|          1|           13|\n",
            "|             2006|             1|              1|  1|            1|             22|           2|          1|           13|\n",
            "|             2006|             1|              1|  0|            3|             06|           3|          3|           13|\n",
            "|             2006|             1|              0|  0|            1|             22|           2|          1|           13|\n",
            "|             2006|             1|              0|  1|            1|             14|           3|          1|           13|\n",
            "|             2006|             1|              1|  0|            3|             06|           3|          3|           13|\n",
            "|             2006|             1|              1|  1|            1|             21|           2|          1|           13|\n",
            "|             2006|             1|              1|  1|            1|             22|           2|          1|           13|\n",
            "|             2006|             1|              1|  0|            1|             39|           1|          1|           13|\n",
            "|             2006|             1|              1|  0|            1|             22|           2|          1|           13|\n",
            "|             2006|             1|              1|  0|            1|             21|           2|          1|           13|\n",
            "|             2006|             1|              1|  0|            1|             22|           2|          1|           13|\n",
            "|             2006|             1|              0|  1|            1|             12|           3|          1|           13|\n",
            "+-----------------+--------------+---------------+---+-------------+---------------+------------+-----------+-------------+\n",
            "only showing top 20 rows\n",
            "\n"
          ],
          "name": "stdout"
        }
      ]
    },
    {
      "cell_type": "code",
      "metadata": {
        "colab": {
          "base_uri": "https://localhost:8080/"
        },
        "id": "JUX7ocUo-HSF",
        "outputId": "8f0e416d-4927-470b-d9d5-e49d0a1ff1bf"
      },
      "source": [
        "train_1.dtypes"
      ],
      "execution_count": 310,
      "outputs": [
        {
          "output_type": "execute_result",
          "data": {
            "text/plain": [
              "[('current_data_year', 'int'),\n",
              " ('month_of_death', 'int'),\n",
              " ('resident_status', 'int'),\n",
              " ('sex', 'int'),\n",
              " ('race_recode_3', 'string'),\n",
              " ('39_cause_recode', 'string'),\n",
              " ('cause_recode', 'int'),\n",
              " ('race_recode', 'int'),\n",
              " ('numeric_month', 'int')]"
            ]
          },
          "metadata": {
            "tags": []
          },
          "execution_count": 310
        }
      ]
    },
    {
      "cell_type": "code",
      "metadata": {
        "id": "ReyKaG7i3hhb"
      },
      "source": [
        "cols=['numeric_month','resident_status','sex','race_recode','cause_recode']\n",
        "death_cnt_group= train_1.select(cols)\\\n",
        "                        .groupby('numeric_month','resident_status','sex','race_recode','cause_recode')\\\n",
        "                        .count()"
      ],
      "execution_count": 311,
      "outputs": []
    },
    {
      "cell_type": "code",
      "metadata": {
        "id": "3ehN9Uu07e97"
      },
      "source": [
        "cols=['numeric_month','resident_status','count']\n",
        "death_cnt_group2 = death_cnt_group.select(cols).groupby('numeric_month','resident_status').agg(F.mean('count')).withColumnRenamed(\"avg(count)\",\"resident_status_death_mean\")\n",
        "death_cnt_group=death_cnt_group.join(death_cnt_group2,['numeric_month','resident_status'] ,how='left_outer')"
      ],
      "execution_count": 313,
      "outputs": []
    },
    {
      "cell_type": "code",
      "metadata": {
        "id": "q6v2pYNLDAW_"
      },
      "source": [
        "cols=['numeric_month','sex','count']\n",
        "death_cnt_group3 = death_cnt_group.select(cols).groupby('numeric_month','sex').agg(F.mean('count')).withColumnRenamed(\"avg(count)\",\"sex_death_mean\")\n",
        "death_cnt_group=death_cnt_group.join(death_cnt_group3, ['numeric_month','sex'],how='left')"
      ],
      "execution_count": 314,
      "outputs": []
    },
    {
      "cell_type": "code",
      "metadata": {
        "id": "cN8fLJFyFrqR"
      },
      "source": [
        "cols=['numeric_month','race_recode','count']\n",
        "death_cnt_group4 = death_cnt_group.select(cols).groupby('numeric_month','race_recode').agg(F.mean('count')).withColumnRenamed(\"avg(count)\",\"race_recode_death_mean\")\n",
        "death_cnt_group=death_cnt_group.join(death_cnt_group4, ['numeric_month','race_recode'],how='left')"
      ],
      "execution_count": 315,
      "outputs": []
    },
    {
      "cell_type": "code",
      "metadata": {
        "id": "_j_jU54NF9Ic"
      },
      "source": [
        "cols=['numeric_month','cause_recode','count']\n",
        "death_cnt_group5 = death_cnt_group.select(cols).groupby('numeric_month','cause_recode').agg(F.mean('count')).withColumnRenamed(\"avg(count)\",\"cause_recode_death_mean\")\n",
        "death_cnt_group=death_cnt_group.join(death_cnt_group5,['numeric_month','cause_recode'],how='left')"
      ],
      "execution_count": 316,
      "outputs": []
    },
    {
      "cell_type": "code",
      "metadata": {
        "colab": {
          "base_uri": "https://localhost:8080/"
        },
        "id": "tRp5TkuIEQ7C",
        "outputId": "483ebca0-b4a4-4bf5-e65b-728ca39d4641"
      },
      "source": [
        "death_cnt_group.dtypes"
      ],
      "execution_count": 317,
      "outputs": [
        {
          "output_type": "execute_result",
          "data": {
            "text/plain": [
              "[('numeric_month', 'int'),\n",
              " ('cause_recode', 'int'),\n",
              " ('race_recode', 'int'),\n",
              " ('sex', 'int'),\n",
              " ('resident_status', 'int'),\n",
              " ('count', 'bigint'),\n",
              " ('resident_status_death_mean', 'double'),\n",
              " ('sex_death_mean', 'double'),\n",
              " ('race_recode_death_mean', 'double'),\n",
              " ('cause_recode_death_mean', 'double')]"
            ]
          },
          "metadata": {
            "tags": []
          },
          "execution_count": 317
        }
      ]
    },
    {
      "cell_type": "code",
      "metadata": {
        "id": "JhG9gC5SKT7n"
      },
      "source": [
        "col_lags=['count','resident_status_death_mean','sex_death_mean','race_recode_death_mean']\n",
        "for column in col_lags:\n",
        "  cols=['numeric_month','resident_status','sex','race_recode','cause_recode',column]\n",
        "  for lag in [1,6,12]:\n",
        "    tmp = death_cnt_group.select(cols)\n",
        "    shifted=tmp.withColumn(\"numeric_month\",col(\"numeric_month\")+lag)\\\n",
        "               .withColumnRenamed(column,f\"{column}_lag_{lag}\")\n",
        "    death_cnt_group = death_cnt_group.join(shifted,cols[:-1],how='left')\n"
      ],
      "execution_count": 324,
      "outputs": []
    },
    {
      "cell_type": "code",
      "metadata": {
        "colab": {
          "base_uri": "https://localhost:8080/"
        },
        "id": "1znv7igUNDBU",
        "outputId": "9988f4dc-f980-425b-d3ff-eb014fc00d81"
      },
      "source": [
        "death_cnt_group.dtypes"
      ],
      "execution_count": 325,
      "outputs": [
        {
          "output_type": "execute_result",
          "data": {
            "text/plain": [
              "[('numeric_month', 'int'),\n",
              " ('resident_status', 'int'),\n",
              " ('sex', 'int'),\n",
              " ('race_recode', 'int'),\n",
              " ('cause_recode', 'int'),\n",
              " ('count', 'bigint'),\n",
              " ('resident_status_death_mean', 'double'),\n",
              " ('sex_death_mean', 'double'),\n",
              " ('race_recode_death_mean', 'double'),\n",
              " ('cause_recode_death_mean', 'double'),\n",
              " ('count_lag_1', 'bigint'),\n",
              " ('count_lag_6', 'bigint'),\n",
              " ('count_lag_12', 'bigint'),\n",
              " ('resident_status_death_mean_lag_1', 'double'),\n",
              " ('resident_status_death_mean_lag_6', 'double'),\n",
              " ('resident_status_death_mean_lag_12', 'double'),\n",
              " ('sex_death_mean_lag_1', 'double'),\n",
              " ('sex_death_mean_lag_6', 'double'),\n",
              " ('sex_death_mean_lag_12', 'double'),\n",
              " ('race_recode_death_mean_lag_1', 'double'),\n",
              " ('race_recode_death_mean_lag_6', 'double'),\n",
              " ('race_recode_death_mean_lag_12', 'double')]"
            ]
          },
          "metadata": {
            "tags": []
          },
          "execution_count": 325
        }
      ]
    },
    {
      "cell_type": "code",
      "metadata": {
        "id": "4gDGhLf_SYYe"
      },
      "source": [
        "death_cnt_group.show()"
      ],
      "execution_count": null,
      "outputs": []
    },
    {
      "cell_type": "code",
      "metadata": {
        "trusted": true,
        "id": "SVseDZEH1_kO"
      },
      "source": [
        "death_cnt_group=death_cnt_group.fillna(0)"
      ],
      "execution_count": null,
      "outputs": []
    },
    {
      "cell_type": "markdown",
      "metadata": {
        "id": "Rr_0S3jQ1_kL"
      },
      "source": [
        "## Generate average count and Create time lag features"
      ]
    },
    {
      "cell_type": "markdown",
      "metadata": {
        "id": "UTMv1AB51_kO"
      },
      "source": [
        "Lag features has null value so I fill them with 0"
      ]
    },
    {
      "cell_type": "code",
      "metadata": {
        "trusted": true,
        "id": "mywc8aWk1_kO"
      },
      "source": [
        "onehot_race = pd.get_dummies(death_cnt_group.race_recode_3, prefix='race')\n",
        "death_cnt_group = pd.concat([death_cnt_group, onehot_race],axis=1)"
      ],
      "execution_count": null,
      "outputs": []
    },
    {
      "cell_type": "code",
      "metadata": {
        "trusted": true,
        "id": "83iEYS3T1_kP"
      },
      "source": [
        "onehot_cause = pd.get_dummies(death_cnt_group.reconstr_cause_definition_1, prefix='cause')\n",
        "death_cnt_group = pd.concat([death_cnt_group, onehot_cause],axis=1)"
      ],
      "execution_count": null,
      "outputs": []
    },
    {
      "cell_type": "code",
      "metadata": {
        "trusted": true,
        "id": "cPS9SzO71_kP"
      },
      "source": [
        "death_cnt_group.columns"
      ],
      "execution_count": null,
      "outputs": []
    },
    {
      "cell_type": "code",
      "metadata": {
        "trusted": true,
        "id": "WVp1dbbv1_kP"
      },
      "source": [
        "path='/content/drive/MyDrive/Colab Notebooks/BigData/Final project'\n",
        "death_cnt_group.to_pickle(path+'/Training_Regression.pkl')"
      ],
      "execution_count": null,
      "outputs": []
    },
    {
      "cell_type": "markdown",
      "metadata": {
        "id": "DMU_ZN911_kQ"
      },
      "source": [
        "# Modeling and Fine Tuning"
      ]
    },
    {
      "cell_type": "code",
      "metadata": {
        "trusted": true,
        "id": "n1iZEuiU1_kQ"
      },
      "source": [
        "death_cnt_group = pd.read_pickle(path + '/Training_Regression.pkl')"
      ],
      "execution_count": null,
      "outputs": []
    },
    {
      "cell_type": "code",
      "metadata": {
        "trusted": true,
        "id": "290hz1dX1_kQ"
      },
      "source": [
        "death_cnt_group.columns"
      ],
      "execution_count": null,
      "outputs": []
    },
    {
      "cell_type": "code",
      "metadata": {
        "id": "L8eoYqTG5cxo"
      },
      "source": [
        "death_cnt_group.info()"
      ],
      "execution_count": null,
      "outputs": []
    },
    {
      "cell_type": "code",
      "metadata": {
        "trusted": true,
        "id": "0ae9vzUA1_kQ"
      },
      "source": [
        "train_columns = ['numeric_month', 'is_resident', 'sex', 'race_1','race_2','cause_1','cause_2',\n",
        "       'helper_lag_1', 'helper_lag_6', 'helper_lag_12',\n",
        "       'month_avg_resident_death_lag_1', 'month_avg_resident_death_lag_6','month_avg_resident_death_lag_12', \n",
        "       'month_avg_sex_death_lag_1','month_avg_sex_death_lag_6', 'month_avg_sex_death_lag_12',\n",
        "       'month_avg_race_death_lag_1', 'month_avg_race_death_lag_6','month_avg_race_death_lag_12', \n",
        "       'month_avg_cause_death_lag_1','month_avg_cause_death_lag_6', 'month_avg_cause_death_lag_12']"
      ],
      "execution_count": null,
      "outputs": []
    },
    {
      "cell_type": "code",
      "metadata": {
        "trusted": true,
        "id": "5YYHEFpk1_kQ"
      },
      "source": [
        "train = death_cnt_group[death_cnt_group.numeric_month<132]\n",
        "train_X = train[train_columns]\n",
        "train_y = train['helper']\n",
        "test = death_cnt_group[death_cnt_group.numeric_month==132]\n",
        "test_X = test[train_columns]\n",
        "test_y = test['helper']"
      ],
      "execution_count": null,
      "outputs": []
    },
    {
      "cell_type": "code",
      "metadata": {
        "trusted": true,
        "id": "Hq8iPafe1_kR"
      },
      "source": [
        "train_X.columns"
      ],
      "execution_count": null,
      "outputs": []
    },
    {
      "cell_type": "code",
      "metadata": {
        "trusted": true,
        "id": "499w2fDq1_kR"
      },
      "source": [
        "cv_params = {'n_estimators':[300,400,500], 'learning_rate':np.arange(0.3,0.51,0.01)}\n",
        "xgb_model = xgb.XGBRegressor(max_depth=8, subsample=0.8, colsample_bytree=0.8, colsample_bynode=0.8,seed=42)\n",
        "cv1 = GridSearchCV(estimator=xgb_model, param_grid=cv_params, scoring='neg_root_mean_squared_error', cv=5, verbose=1)\n",
        "cv1.fit(train_X, train_y)"
      ],
      "execution_count": null,
      "outputs": []
    },
    {
      "cell_type": "code",
      "metadata": {
        "trusted": true,
        "id": "A0KneTUN1_kR"
      },
      "source": [
        "cv1.best_params_, cv1.best_score_"
      ],
      "execution_count": null,
      "outputs": []
    },
    {
      "cell_type": "markdown",
      "metadata": {
        "id": "vK_XaXye1_kR"
      },
      "source": [
        "## Final model"
      ]
    },
    {
      "cell_type": "code",
      "metadata": {
        "trusted": true,
        "id": "pyOBiIM81_kR"
      },
      "source": [
        "cv_xgb_model = xgb.XGBRegressor(n_estimators=500,learning_rate=0.5,max_depth=8,\n",
        "                            subsample=0.8, colsample_bytree=0.8, colsample_bynode=0.8,colsample_bylevel=1,\n",
        "                            gamma=100, min_child_weight=1, reg_lambda=1, seed=42)\n",
        "cv_xgb_model.fit(train_X,train_y, eval_set=[(train_X,train_y),(test_X,test_y)],eval_metric='rmse',early_stopping_rounds=10)"
      ],
      "execution_count": null,
      "outputs": []
    },
    {
      "cell_type": "code",
      "metadata": {
        "trusted": true,
        "id": "iliO62zb1_kS"
      },
      "source": [
        "cv_xgb_model.get_booster().get_score(importance_type='gain')"
      ],
      "execution_count": null,
      "outputs": []
    },
    {
      "cell_type": "code",
      "metadata": {
        "trusted": true,
        "id": "PhDXAG-v1_kS"
      },
      "source": [
        "fig,ax = plt.subplots(figsize=(12,10))\n",
        "xgb.plot_importance(cv_xgb_model,ax=ax,importance_type='gain')\n",
        "plt.yticks(fontsize=14)"
      ],
      "execution_count": null,
      "outputs": []
    },
    {
      "cell_type": "code",
      "metadata": {
        "trusted": true,
        "id": "M8H9Cnw41_kS"
      },
      "source": [
        "cv_xgb_model.save_model('best_model_1.json')"
      ],
      "execution_count": null,
      "outputs": []
    },
    {
      "cell_type": "markdown",
      "metadata": {
        "id": "vZ227xBQ1_kT"
      },
      "source": [
        "# Modeling result visualization"
      ]
    },
    {
      "cell_type": "markdown",
      "metadata": {
        "id": "wWzF0ekK1_kT"
      },
      "source": [
        "In this part, I will plot the fit results of different features with two kinds of plot."
      ]
    },
    {
      "cell_type": "code",
      "metadata": {
        "trusted": true,
        "id": "GCKbV9Oa1_kT"
      },
      "source": [
        "pred_cnt = cv_xgb_model.predict(death_cnt_group[train_columns])"
      ],
      "execution_count": null,
      "outputs": []
    },
    {
      "cell_type": "code",
      "metadata": {
        "trusted": true,
        "id": "GzsWuzIh1_kT"
      },
      "source": [
        "death_cnt_group['pred_cnt'] = pred_cnt"
      ],
      "execution_count": null,
      "outputs": []
    },
    {
      "cell_type": "code",
      "metadata": {
        "trusted": true,
        "id": "y3nzeMnc1_kT"
      },
      "source": [
        "death_cnt_group.sample(2)"
      ],
      "execution_count": null,
      "outputs": []
    },
    {
      "cell_type": "markdown",
      "metadata": {
        "id": "IYPXNvhC1_kU"
      },
      "source": [
        "## Trend of different resident status"
      ]
    },
    {
      "cell_type": "code",
      "metadata": {
        "trusted": true,
        "id": "FwpKAWGw1_kU"
      },
      "source": [
        "death_cnt_resident_0 = death_cnt_group[death_cnt_group.is_resident==0]\n",
        "grouped_resident_0 = death_cnt_resident_0[['numeric_month','helper','pred_cnt']].groupby('numeric_month').agg('sum').reset_index()\n",
        "grouped_resident_0.plot(x='numeric_month',y=['helper','pred_cnt'],figsize=(10,5), grid=True, style=['rx','o'])\n",
        "plt.title('pred VS true for non-resident trend',fontsize=16)\n",
        "plt.legend(loc='upper left',labels=['true','pred'])\n",
        "plt.xticks(np.arange(1,134,11))\n",
        "plt.xlabel('numeric month',fontsize=14)\n",
        "plt.show()"
      ],
      "execution_count": null,
      "outputs": []
    },
    {
      "cell_type": "code",
      "metadata": {
        "trusted": true,
        "id": "EN-I6ier1_kV"
      },
      "source": [
        "fig,ax = plt.subplots(figsize=(10,5))\n",
        "ax.plot(grouped_resident_0['numeric_month'],grouped_resident_0['helper'],color='red',label='true')\n",
        "ax.plot(grouped_resident_0['numeric_month'],grouped_resident_0['pred_cnt'],color='blue',label='pred')\n",
        "ax.set_title('pred VS true for non-resident trend',fontsize=16)\n",
        "ax.set_xticks(np.arange(1,134,11))\n",
        "ax.set_xlabel('numeric month',fontsize=14)\n",
        "ax.legend(loc='upper left',labels=['true','pred'])"
      ],
      "execution_count": null,
      "outputs": []
    },
    {
      "cell_type": "markdown",
      "metadata": {
        "id": "5IapmUL31_kW"
      },
      "source": [
        "The trend from month 40 to 47 (2008.6~2009.2) is not captured well by the model and the values are not predicted quit accurate. The probable reason is that CDC did not record all the non-resident deceased and there is stochastic noise in data."
      ]
    },
    {
      "cell_type": "code",
      "metadata": {
        "trusted": true,
        "id": "qyCoWWAn1_kW"
      },
      "source": [
        "death_cnt_resident_1 = death_cnt_group[death_cnt_group.is_resident==1]\n",
        "grouped_resident_1 = death_cnt_resident_1[['numeric_month','helper','pred_cnt']].groupby('numeric_month').agg('sum').reset_index()\n",
        "grouped_resident_1.plot(x='numeric_month',y=['helper','pred_cnt'],figsize=(10,5), grid=True, style=['rx','o'])\n",
        "plt.title('pred VS true for resident trend',fontsize=16)\n",
        "plt.legend(loc='upper left',labels=['true','pred'])\n",
        "plt.xticks(np.arange(1,134,11))\n",
        "plt.xlabel('numeric month',fontsize=14)\n",
        "plt.show()"
      ],
      "execution_count": null,
      "outputs": []
    },
    {
      "cell_type": "code",
      "metadata": {
        "trusted": true,
        "id": "ivWPViyg1_kW"
      },
      "source": [
        "fig,ax = plt.subplots(figsize=(10,5))\n",
        "ax.plot(grouped_resident_1['numeric_month'],grouped_resident_1['helper'],color='red',label='true')\n",
        "ax.plot(grouped_resident_1['numeric_month'],grouped_resident_1['pred_cnt'],color='blue',label='pred')\n",
        "ax.set_title('pred VS true for resident trend',fontsize=16)\n",
        "ax.set_xticks(np.arange(1,134,11))\n",
        "ax.set_xlabel('numeric month',fontsize=14)\n",
        "ax.legend(loc='upper left',labels=['true','pred'])"
      ],
      "execution_count": null,
      "outputs": []
    },
    {
      "cell_type": "markdown",
      "metadata": {
        "id": "2xQXg4oN1_kW"
      },
      "source": [
        "The model performs quite well in capturing the resident death trend and value."
      ]
    },
    {
      "cell_type": "markdown",
      "metadata": {
        "id": "oYEvK8PA1_kW"
      },
      "source": [
        "## Trend of different causes"
      ]
    },
    {
      "cell_type": "code",
      "metadata": {
        "trusted": true,
        "id": "48DHCbRM1_kX"
      },
      "source": [
        "death_cnt_cause_1 = death_cnt_group[death_cnt_group.reconstr_cause_definition_1==1]\n",
        "grouped_cause_1 = death_cnt_cause_1[['numeric_month','helper','pred_cnt']].groupby('numeric_month').agg('sum').reset_index()\n",
        "grouped_cause_1.plot(x='numeric_month',y=['helper','pred_cnt'],figsize=(10,5), grid=True, style=['rx','o'])\n",
        "plt.title(\"pred VS true for 'cause:accident' trend\",fontsize=16)\n",
        "plt.legend(loc='upper left',labels=['true','pred'])\n",
        "plt.xticks(np.arange(1,134,11))\n",
        "plt.xlabel('numeric month',fontsize=14)\n",
        "plt.show()"
      ],
      "execution_count": null,
      "outputs": []
    },
    {
      "cell_type": "code",
      "metadata": {
        "trusted": true,
        "id": "qIGgNzQy1_kX"
      },
      "source": [
        "fig,ax = plt.subplots(figsize=(10,5))\n",
        "ax.plot(grouped_cause_1['numeric_month'],grouped_cause_1['helper'],color='red',label='true')\n",
        "ax.plot(grouped_cause_1['numeric_month'],grouped_cause_1['pred_cnt'],color='blue',label='pred')\n",
        "ax.set_title(\"pred VS true for 'cause:accident' trend\",fontsize=16)\n",
        "ax.set_xticks(np.arange(1,134,11))\n",
        "ax.set_xlabel('numeric month', fontsize=14)\n",
        "ax.legend(loc='upper left')"
      ],
      "execution_count": null,
      "outputs": []
    },
    {
      "cell_type": "markdown",
      "metadata": {
        "id": "CFCOu3Ew1_kX"
      },
      "source": [
        "The trend is almost captured by the model but the real value is not predicted well. Probably the reason is that accident something out of expect and it is not easy to predict its value by machine learning models.  "
      ]
    },
    {
      "cell_type": "code",
      "metadata": {
        "trusted": true,
        "id": "GXyOF9Y_1_kX"
      },
      "source": [
        "death_cnt_cause_2 = death_cnt_group[death_cnt_group.reconstr_cause_definition_1==2]\n",
        "grouped_cause_2 = death_cnt_cause_2[['numeric_month','helper','pred_cnt']].groupby('numeric_month').agg('sum').reset_index()\n",
        "grouped_cause_2.plot(x='numeric_month',y=['helper','pred_cnt'],figsize=(10,5), grid=True, style=['rx','o'])\n",
        "plt.title(\"pred VS true for 'cause:heart' trend\",fontsize=16)\n",
        "plt.legend(loc='upper center',labels=['true','pred'])\n",
        "plt.xticks(np.arange(1,134,11))\n",
        "plt.xlabel('numeric month',fontsize=14)\n",
        "plt.show()"
      ],
      "execution_count": null,
      "outputs": []
    },
    {
      "cell_type": "code",
      "metadata": {
        "trusted": true,
        "id": "7uFrKDqY1_kX"
      },
      "source": [
        "fig,ax = plt.subplots(figsize=(10,5))\n",
        "ax.plot(grouped_cause_2['numeric_month'],grouped_cause_2['helper'],color='red',label='true')\n",
        "ax.plot(grouped_cause_2['numeric_month'],grouped_cause_2['pred_cnt'],color='blue',label='pred')\n",
        "ax.set_title(\"pred VS true for 'cause:heart' trend\",fontsize=16)\n",
        "ax.set_xticks(np.arange(1,134,11))\n",
        "ax.set_xlabel('numeric month', fontsize=14)\n",
        "ax.legend(loc='upper center')"
      ],
      "execution_count": null,
      "outputs": []
    },
    {
      "cell_type": "markdown",
      "metadata": {
        "id": "jyrgVzKZ1_kX"
      },
      "source": [
        "The model performs quite well in capturing the heart death trend and value."
      ]
    },
    {
      "cell_type": "code",
      "metadata": {
        "trusted": true,
        "id": "S00x2ce81_kY"
      },
      "source": [
        "death_cnt_cause_3 = death_cnt_group[death_cnt_group.reconstr_cause_definition_1==3]\n",
        "grouped_cause_3 = death_cnt_cause_3[['numeric_month','helper','pred_cnt']].groupby('numeric_month').agg('sum').reset_index()\n",
        "grouped_cause_3.plot(x='numeric_month',y=['helper','pred_cnt'],figsize=(10,5), grid=True, style=['rx','o'])\n",
        "plt.title(\"pred VS true for 'cause:neoplasm' trend\",fontsize=16)\n",
        "plt.xlabel('numeric month',fontsize=14)\n",
        "plt.legend(loc='upper left',labels=['true','pred'])\n",
        "plt.xticks(np.arange(1,134,11))\n",
        "plt.show()"
      ],
      "execution_count": null,
      "outputs": []
    },
    {
      "cell_type": "code",
      "metadata": {
        "trusted": true,
        "id": "YmnN3rjV1_kY"
      },
      "source": [
        "fig,ax = plt.subplots(figsize=(10,5))\n",
        "ax.plot(grouped_cause_3['numeric_month'],grouped_cause_3['helper'],color='red',label='true')\n",
        "ax.plot(grouped_cause_3['numeric_month'],grouped_cause_3['pred_cnt'],color='blue',label='pred')\n",
        "ax.set_title(\"pred VS true for 'cause:neoplasm' trend\",fontsize=16)\n",
        "ax.set_xticks(np.arange(1,134,11))\n",
        "ax.set_xlabel('numeric month',fontsize=14)\n",
        "ax.legend(loc='upper left')"
      ],
      "execution_count": null,
      "outputs": []
    },
    {
      "cell_type": "markdown",
      "metadata": {
        "id": "tdSQOsaT1_kY"
      },
      "source": [
        "The model performs relatively well in capturing the neoplasm death trend and values when compared with accident trend."
      ]
    },
    {
      "cell_type": "markdown",
      "metadata": {
        "id": "4Y6ZMaKT1_kY"
      },
      "source": [
        "## Trend of different genders"
      ]
    },
    {
      "cell_type": "code",
      "metadata": {
        "trusted": true,
        "id": "wG-Cvj881_kY"
      },
      "source": [
        "death_cnt_sex_0 = death_cnt_group[death_cnt_group.sex==0]\n",
        "grouped_sex_0 = death_cnt_sex_0[['numeric_month','helper','pred_cnt']].groupby('numeric_month').agg('sum').reset_index()\n",
        "grouped_sex_0.plot(x='numeric_month',y=['helper','pred_cnt'],figsize=(10,5), grid=True, style=['rx','o'])\n",
        "plt.title('pred VS true for female trend',fontsize=16)\n",
        "plt.legend(loc='upper center',labels=['true','pred'])\n",
        "plt.xticks(np.arange(1,134,11))\n",
        "plt.xlabel('numeric month',fontsize=14)\n",
        "plt.show()"
      ],
      "execution_count": null,
      "outputs": []
    },
    {
      "cell_type": "code",
      "metadata": {
        "trusted": true,
        "id": "bshmOdhY1_kY"
      },
      "source": [
        "fig,ax = plt.subplots(figsize=(10,5))\n",
        "ax.plot(grouped_sex_0['numeric_month'],grouped_sex_0['helper'],color='red',label='true')\n",
        "ax.plot(grouped_sex_0['numeric_month'],grouped_sex_0['pred_cnt'],color='blue',label='pred')\n",
        "ax.set_title(\"pred VS true for female trend\",fontsize=16)\n",
        "ax.set_xticks(np.arange(1,134,11))\n",
        "ax.set_xlabel('numeric month',fontsize=14)\n",
        "ax.legend(loc='upper center')"
      ],
      "execution_count": null,
      "outputs": []
    },
    {
      "cell_type": "markdown",
      "metadata": {
        "id": "guMcN5cW1_kZ"
      },
      "source": [
        "The model performs quite well in capturing the female death trend and predicting value."
      ]
    },
    {
      "cell_type": "code",
      "metadata": {
        "trusted": true,
        "id": "ZnNrfeMi1_kZ"
      },
      "source": [
        "death_cnt_sex_1 = death_cnt_group[death_cnt_group.sex==1]\n",
        "grouped_sex_1 = death_cnt_sex_1[['numeric_month','helper','pred_cnt']].groupby('numeric_month').agg('sum').reset_index()\n",
        "grouped_sex_1.plot(x='numeric_month',y=['helper','pred_cnt'],figsize=(10,5), grid=True, style=['rx','o'])\n",
        "plt.title('pred VS true for male trend',fontsize=16)\n",
        "plt.legend(loc='upper left',labels=['true','pred'])\n",
        "plt.xticks(np.arange(1,134,11))\n",
        "plt.xlabel('numeric month',fontsize=14)\n",
        "plt.show()"
      ],
      "execution_count": null,
      "outputs": []
    },
    {
      "cell_type": "code",
      "metadata": {
        "trusted": true,
        "id": "pwMi92Rg1_kZ"
      },
      "source": [
        "fig,ax = plt.subplots(figsize=(10,5))\n",
        "ax.plot(grouped_sex_1['numeric_month'],grouped_sex_1['helper'],color='red',label='true')\n",
        "ax.plot(grouped_sex_1['numeric_month'],grouped_sex_1['pred_cnt'],color='blue',label='pred')\n",
        "ax.set_title(\"pred VS true for male trend\",fontsize=16)\n",
        "ax.set_xticks(np.arange(1,134,11))\n",
        "ax.set_xlabel('numeric month',fontsize=14)\n",
        "ax.legend(loc='upper left')"
      ],
      "execution_count": null,
      "outputs": []
    },
    {
      "cell_type": "markdown",
      "metadata": {
        "id": "5XVdPS3H1_kZ"
      },
      "source": [
        "The model performs well in capturing the female death trend and predicting value."
      ]
    },
    {
      "cell_type": "markdown",
      "metadata": {
        "id": "9VMt-7b41_kZ"
      },
      "source": [
        "## Trend of different races"
      ]
    },
    {
      "cell_type": "code",
      "metadata": {
        "trusted": true,
        "id": "M_GYCQt11_ka"
      },
      "source": [
        "death_cnt_race_1 = death_cnt_group[death_cnt_group.race_recode_3==1]\n",
        "grouped_race_1 = death_cnt_race_1[['numeric_month','helper','pred_cnt']].groupby('numeric_month').agg('sum').reset_index()\n",
        "grouped_race_1.plot(x='numeric_month',y=['helper','pred_cnt'],figsize=(10,5), grid=True, style=['rx','o'])\n",
        "plt.title(\"pred VS true for 'race:white' trend\",fontsize=16)\n",
        "plt.legend(loc='upper left',labels=['true','pred'])\n",
        "plt.xticks(np.arange(1,134,11))\n",
        "plt.xlabel('numeric month',fontsize=14)\n",
        "plt.show()"
      ],
      "execution_count": null,
      "outputs": []
    },
    {
      "cell_type": "code",
      "metadata": {
        "trusted": true,
        "id": "-btRN1eQ1_ka"
      },
      "source": [
        "fig,ax = plt.subplots(figsize=(10,5))\n",
        "ax.plot(grouped_race_1['numeric_month'],grouped_race_1['helper'],color='red',label='true')\n",
        "ax.plot(grouped_race_1['numeric_month'],grouped_race_1['pred_cnt'],color='blue',label='pred')\n",
        "ax.set_title(\"pred VS true for 'race:white' trend\",fontsize=16)\n",
        "ax.set_xticks(np.arange(1,134,11))\n",
        "ax.set_xlabel('numeric month',fontsize=14)\n",
        "ax.legend(loc='upper left')"
      ],
      "execution_count": null,
      "outputs": []
    },
    {
      "cell_type": "markdown",
      "metadata": {
        "id": "Th6rr5NL1_ka"
      },
      "source": [
        "The model performs well in capturing the white people death trend and predicting value."
      ]
    },
    {
      "cell_type": "code",
      "metadata": {
        "trusted": true,
        "id": "_K75JCD61_ka"
      },
      "source": [
        "death_cnt_race_2 = death_cnt_group[death_cnt_group.race_recode_3==2]\n",
        "grouped_race_2 = death_cnt_race_2[['numeric_month','helper','pred_cnt']].groupby('numeric_month').agg('sum').reset_index()\n",
        "grouped_race_2.plot(x='numeric_month',y=['helper','pred_cnt'],figsize=(10,5), grid=True, style=['rx','o'])\n",
        "plt.title(\"pred VS true for 'race:others' trend\",fontsize=16)\n",
        "plt.legend(loc='upper left',labels=['true','pred'])\n",
        "plt.xticks(np.arange(1,134,11))\n",
        "plt.xlabel('numeric month',fontsize=14)\n",
        "plt.show()"
      ],
      "execution_count": null,
      "outputs": []
    },
    {
      "cell_type": "code",
      "metadata": {
        "trusted": true,
        "id": "K8CuL1Zk1_ka"
      },
      "source": [
        "fig,ax = plt.subplots(figsize=(10,5))\n",
        "ax.plot(grouped_race_2['numeric_month'],grouped_race_2['helper'],color='red',label='true')\n",
        "ax.plot(grouped_race_2['numeric_month'],grouped_race_2['pred_cnt'],color='blue',label='pred')\n",
        "ax.set_title(\"pred VS true for 'race:others' trend\",fontsize=16)\n",
        "ax.set_xticks(np.arange(1,134,11))\n",
        "ax.set_xlabel('numeric month',fontsize=14)\n",
        "ax.legend(loc='upper left')"
      ],
      "execution_count": null,
      "outputs": []
    },
    {
      "cell_type": "markdown",
      "metadata": {
        "id": "r6fw_0Gc1_kb"
      },
      "source": [
        "The trend is not captured well by the model. The probable reason is that there exist stochastic noise in data because of CDC's record flaws. You can see from the figure that the number of the deceased is very small in each year and CDC may not record all the deceased of other races."
      ]
    },
    {
      "cell_type": "code",
      "metadata": {
        "trusted": true,
        "id": "Y7EWmQEx1_kb"
      },
      "source": [
        "death_cnt_race_3 = death_cnt_group[death_cnt_group.race_recode_3==3]\n",
        "grouped_race_3 = death_cnt_race_3[['numeric_month','helper','pred_cnt']].groupby('numeric_month').agg('sum').reset_index()\n",
        "grouped_race_3.plot(x='numeric_month',y=['helper','pred_cnt'],figsize=(10,5), grid=True, style=['rx','o'])\n",
        "plt.title(\"pred VS true for 'race:black' trend\",fontsize=16)\n",
        "plt.legend(loc='upper left',labels=['true','pred'])\n",
        "plt.xticks(np.arange(1,134,11))\n",
        "plt.xlabel('numeric month',fontsize=14)\n",
        "plt.show()"
      ],
      "execution_count": null,
      "outputs": []
    },
    {
      "cell_type": "code",
      "metadata": {
        "trusted": true,
        "id": "sw2LoZDe1_kb"
      },
      "source": [
        "fig,ax = plt.subplots(figsize=(10,5))\n",
        "ax.plot(grouped_race_3['numeric_month'],grouped_race_3['helper'],color='red',label='true')\n",
        "ax.plot(grouped_race_3['numeric_month'],grouped_race_3['pred_cnt'],color='blue',label='pred')\n",
        "ax.set_title(\"pred VS true for 'race:black' trend\",fontsize=16)\n",
        "ax.set_xticks(np.arange(1,134,11))\n",
        "ax.set_xlabel('numeric month',fontsize=14)\n",
        "ax.legend(loc='upper left')"
      ],
      "execution_count": null,
      "outputs": []
    },
    {
      "cell_type": "markdown",
      "metadata": {
        "id": "4cwjMtkt1_kb"
      },
      "source": [
        "The trend in month from 5 to 12 is not captured well and the value is not predicted well by the model. The model performs better than the deceased of other races, but worse than the white peole."
      ]
    },
    {
      "cell_type": "code",
      "metadata": {
        "id": "9J20ai_o9MWX"
      },
      "source": [
        ""
      ],
      "execution_count": null,
      "outputs": []
    }
  ]
}